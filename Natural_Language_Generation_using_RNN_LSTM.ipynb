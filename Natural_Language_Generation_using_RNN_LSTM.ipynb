{
  "nbformat": 4,
  "nbformat_minor": 0,
  "metadata": {
    "accelerator": "GPU",
    "colab": {
      "name": "Natural Language Generation using RNN LSTM.ipynb",
      "provenance": [],
      "collapsed_sections": []
    },
    "kernelspec": {
      "display_name": "Python 3",
      "language": "python",
      "name": "python3"
    },
    "language_info": {
      "codemirror_mode": {
        "name": "ipython",
        "version": 3
      },
      "file_extension": ".py",
      "mimetype": "text/x-python",
      "name": "python",
      "nbconvert_exporter": "python",
      "pygments_lexer": "ipython3",
      "version": "3.7.4"
    }
  },
  "cells": [
    {
      "cell_type": "markdown",
      "metadata": {
        "id": "setw3uA6bCG5"
      },
      "source": [
        "# **Importing the libraries**"
      ]
    },
    {
      "cell_type": "code",
      "metadata": {
        "id": "rHK2FNpvbLiF"
      },
      "source": [
        "import pandas as pd\n",
        "import json\n",
        "import math\n",
        "from google.colab import drive\n",
        "from sklearn.model_selection import train_test_split\n",
        "import random\n",
        "import re\n",
        "import pickle\n",
        "import numpy as np\n",
        "import torch.nn as nn\n",
        "import torch.cuda\n",
        "import torch\n",
        "import torch.nn.functional as F\n",
        "import warnings\n",
        "import nltk\n",
        "from nltk.util import ngrams\n",
        "from matplotlib import pyplot as plt\n",
        "from nltk import word_tokenize, FreqDist\n",
        "warnings.filterwarnings('ignore')"
      ],
      "execution_count": null,
      "outputs": []
    },
    {
      "cell_type": "code",
      "metadata": {
        "colab": {
          "base_uri": "https://localhost:8080/"
        },
        "id": "-aSC917t2x_I",
        "outputId": "4b81772d-c03f-4937-b079-d65abc936285"
      },
      "source": [
        "nltk.download('punkt')"
      ],
      "execution_count": null,
      "outputs": [
        {
          "output_type": "stream",
          "text": [
            "[nltk_data] Downloading package punkt to /root/nltk_data...\n",
            "[nltk_data]   Unzipping tokenizers/punkt.zip.\n"
          ],
          "name": "stdout"
        },
        {
          "output_type": "execute_result",
          "data": {
            "text/plain": [
              "True"
            ]
          },
          "metadata": {
            "tags": []
          },
          "execution_count": 3
        }
      ]
    },
    {
      "cell_type": "markdown",
      "metadata": {
        "id": "O82sj1ktbOlC"
      },
      "source": [
        "# **Mounting the drive**"
      ]
    },
    {
      "cell_type": "code",
      "metadata": {
        "id": "Zd9F_l0kbSmM",
        "colab": {
          "base_uri": "https://localhost:8080/"
        },
        "outputId": "ca3c233f-29da-43a4-dd08-35aeb9b5cc62"
      },
      "source": [
        "drive.mount('/content/drive')"
      ],
      "execution_count": null,
      "outputs": [
        {
          "output_type": "stream",
          "text": [
            "Mounted at /content/drive\n"
          ],
          "name": "stdout"
        }
      ]
    },
    {
      "cell_type": "markdown",
      "metadata": {
        "id": "yF6In_fLbXpV"
      },
      "source": [
        "# **Importing the dataset**"
      ]
    },
    {
      "cell_type": "code",
      "metadata": {
        "id": "btdqv5UCbkph",
        "colab": {
          "base_uri": "https://localhost:8080/"
        },
        "outputId": "61ab3a2d-4688-49c9-e8ea-1358d12f482d"
      },
      "source": [
        "data = pd.read_json('drive/My Drive/NLP/raw_transcripts.json', orient='index')\n",
        "transcripts = data[\"transcript\"].tolist()\n",
        "print(\"Total number of transcripts: \", len(transcripts))"
      ],
      "execution_count": null,
      "outputs": [
        {
          "output_type": "stream",
          "text": [
            "Total number of transcripts:  1455\n"
          ],
          "name": "stdout"
        }
      ]
    },
    {
      "cell_type": "code",
      "metadata": {
        "id": "ejilMVIbjycM"
      },
      "source": [
        "# We are using random 50 transcripts from 1455 for the Model as each transcript has an average length of around 70000\n",
        "totalCount = 50"
      ],
      "execution_count": null,
      "outputs": []
    },
    {
      "cell_type": "code",
      "metadata": {
        "id": "S7miK_cooEma",
        "colab": {
          "base_uri": "https://localhost:8080/"
        },
        "outputId": "8c07537e-1d93-4134-c5c3-e81852fd0eda"
      },
      "source": [
        "randomTranscripts = random.sample(transcripts, totalCount)\n",
        "trainTranscripts, testTranscripts = train_test_split(randomTranscripts, test_size = 0.3, random_state = 0)\n",
        "\n",
        "print(\"Length of the train dataset: \", len(trainTranscripts))\n",
        "print(\"Length of test dataset: \", len(testTranscripts))"
      ],
      "execution_count": null,
      "outputs": [
        {
          "output_type": "stream",
          "text": [
            "Length of the train dataset:  35\n",
            "Length of test dataset:  15\n"
          ],
          "name": "stdout"
        }
      ]
    },
    {
      "cell_type": "markdown",
      "metadata": {
        "id": "WZ4JNLWTCL3O"
      },
      "source": [
        "# **Cleaning and Pre-Processing the Data**"
      ]
    },
    {
      "cell_type": "code",
      "metadata": {
        "id": "dPl8LvrMkehZ",
        "colab": {
          "base_uri": "https://localhost:8080/"
        },
        "outputId": "4d7abbb2-00b0-4017-f9fe-f1fdf7e818e8"
      },
      "source": [
        "#Changes all transcripts to lowercase to improve the model accuracy and to maintain cosistency.\n",
        "trainTranscripts = [transcript.lower() for transcript in trainTranscripts]\n",
        "\n",
        "#Removing all punctuation expect \" ' \" so to concentrate improve the accuracy of the model \n",
        "trainTranscripts = [re.sub(\"[^a-z ' ]\", \" \", i) for i in trainTranscripts]\n",
        "\n",
        "# Sample of Records used in the Model:\n",
        "print(\"The sample of Data is as follows:\")\n",
        "print(trainTranscripts[0])\n",
        "print(trainTranscripts[1])"
      ],
      "execution_count": null,
      "outputs": [
        {
          "output_type": "stream",
          "text": [
            "The sample of Data is as follows:\n",
            "grab what a day for football and what an atmosphere it has sold out jones athe stadium three times in the last decade a top five team is coming here and gotten dropped by texas tech there is number three the horned frogs taking on texas tech in a meeting of three no teams in this big    opener ecu and texas tech ready to roll from loving welcome inside joe davis with brady quinn chris budget joins us in just a moment now here's a fair warning if defense is your thing you might want to look away these two offenses highpowered and usually when that's the case brady it starts with the guys pulling the trigger no different in this one we're going to talk both of them let's start off with a heisman candidate for tcu and serve on joliet everything really centers around for vaughn boykin who's gotten better and better and better this year at his best game last week versus smu five touchdown passes and one on the ground and that's what makes robot boykin so special he's sensational getting outside the pocket and then hurting you with it and he's that really had a carryin team that struggled on the defensive side of the football this year with all those injury he's a household name at this point everybody knows about serve on board can people starting to learn about patrick mahomes a sophomore who's been really good so far for texas tech yeah one of the most underrated quarterbacks in the country already accounting for    touchdown in just three games he asked that other element of being a tool threat guy being able to run and purchase with his feet as well and believe me he's going to have his work cut out for him going up against for vaughn boykin and that potent ecu op infinite this is only the fifth time since      two teams averaging at least    points per game have gone head to head is going to be some fun in lubbock today tcu and texas tech kick it off on the other side of the break you fox college football is presented by geico that was one of the    meetings between these programs just last year it's a series it texas tech has the all time advantage in but those    points to see you put up a season ago a big    record for more on that one and keys for texas tech coming into this one here's chris buck well when you look back at that game that's one that the red raiders would how we like to forget but their post looking braces and not so fast gentlemen instead maybe a highlight reel of every pc you touchdown and celebration and show it to them this week is that i wanted to remind my guys what it felt like to give up said the difference this year i know he's going to score is    years old the youngest power conference sentosa there's gary patterson    season overall at tcu    as the head coach that makes him one of the longest tenured coaches in the country where some showers is this place is filling up but it's dry now storms in the area but we're clear for kickoff texas tech won the toss and is elected to receive over calm this out of his own end zone he'll grant six to the pastor    so that is where the nation's number three office will begin brady give us three things we need to know it all starts with patrick mahomes he's been very effective through the air and on his feet and he's been looking forward to keene grants throughout the game a very personal players him all over the field and for tcu they get back dav on pearson number    up front they could use some of that senior leadership with all the injuries that defenses i doing for this year and not starting you mentioned it the issues and defense has gone through with attrition already had to replace six of blasters top seven tacklers now down seven projected starters for different reasons on the   th texas tech gets it gone by the patrick mahomes design hall will tuck it and get across the line of scrimmage mahomes a sophomore leading this offense averaging    points per game the biggest teens about mahomes is he doesn't have many men really negative plays hasn't taken any sacks so far this year you see right there didn't have anything still get positive yards down one second and nine they get it outside quickly    grant he uses a block from reggie davis to get across the    and we get our first down to the game unders hoping in texas   th position joe both teams like to spread the field and they like to put their playmakers in space so really it's going to come down to which defense tackles veteran space tv you so far be able to wrap up to keen grant which is not an easy task opening drive for the red raiders and a third down in five pressure off of the edge the home gets rid of it just in time in grant normally reliable drops its poured down in a big game sorting in big    play sometimes you got some of those nerves going on especially had wide receiver position she team grant with one catch but i'm third down a critical situation i just can be a little more cool of calm and bring that one in my mouth texas tech already having more punch than they did last week the win against arkansas where punter is a good one he just doesn't get a ton of work fillers to me and send it away but the dangerous freshman covanta chirping over his head into the end zone boy dancing on the fly close to    arts and so to see you ready to begin its first possession give us three things we need to know trevone boykin had his best game of the season last week versus smu run five touchdown through the air one on the ground and the bounced outside running attack erick green in the backfield he's a just overall tremendous back and then really for a texas tech we look at upfront big number    feed robertson he's going to be the guy that can be responsible trying to get pressure on boykin and even spying him a little bit from keeping him from being outside the pocket there's defenses here the bottom of the big    in most categories but staying afloat because we're getting takeaways top ten in the country and force eternal from the    it's a trick play to begin with turpin throwing the ball for slum nina i'm hot gary patterson pulling out a trick for a    yard gain to get the offense against knocking definitely not what texas tech is infected this there for him the game so lewis oration trying to catch this texas tech defense i off they're off their heels right now unbelievable start the game water the nation's top offenses averaging just under    points per game play action and there's a shot for josh dotson their top receiver crosses midfield and another team to you first down adoption gotten so much better catching a lot of those intermediate routes and shorter route there's really just a big play wide receiver and a red zone threat but now he's really complete wide receiver he worked on that a lot this past spring in this training camp who plays for the horned frogs to move it in the texas tech territory and aaron greens first run goes for a short game myka away it was there with recon levy and second down coming out talked about some of the teams for texas tech defense really tackling you go back to that fan houston state game it was closer than it really should have been in part because the defense system tackle a lot of missed tackles throughout that game perpend motions out of the backfield me swing it out kill colossus turpin navigates his way for close to a first down james over to make the tackle and it looks like they have spotted him with enough it is a tcu burns down boy is turpin special because they try to get him the ball in space and then he makes the rest happen it's all a little bit of his elusiveness right there the last week got a quick plant took it to the house he's got a ton of speed to the embarrassment of riches for trevone boykin to work with or an offense that last year averaged just under    points per game as well first down from the    boykin wanted to swing it out to white devils slide that's one of the things gary patterson emphasizes freaking thompson boy can have been taken too many hits lately yeah i mean and one thing about forging that's interesting though is as many hits as he takes he's also good at bein will get down and avoid some of those other hits on second and nine looking over the middle and kevin first down and goal with desmond white making the catch working against shawn johnson the sonny tubby talked about from the things to bum boykin worked on his pastoring now some of those team throws and right there he finds number    desmond white up the team they'd like to get him more involved in the offense green into a crowd of red shirts on his short game demetrius austin credit for the tackle second down and goal you see you groups into the red zone where they vent    touchdowns in    trips pretty darn good at top five in college football that's every team's goal raise the score touchdown not kill goals and so far because boy seems so effective in the running game he's got an option down there that giving me endzone playaction boykin into the end zone touchdown tcu josh jackson pulls it in for his fourth of the season and what a drive to begin for the third ranked toward frost what is driving what a way to finish with lavon boykin finding just off in the backend that we talked about him being a red zone target in this case just runs that back end line they pulled out a high back five and you got to put it up high enough where the defenders can't get it great ball by boykin and good job by josh stockton finding the hole in the zone after a three an hour from texas tech an   yard drive in less than three minutes for tcu capped off by adoption touchdown reception from boykin big    opener between a pair of high powered offenses and unbeaten teams in tcu with the first flow fox college football presented by geico is sponsored by bud light stand the game and drink responsibly now by directv they call yourself a sports fan you got to get directv somebody        texas tech students expected to pour it here in this sellout crowd quite an atmosphere it is that's a lot of tortillas to come out of the stand not penalty flex yeah tradition a tortilla technical yeah scoring drive for tcu eight plays    yards capped off by the datsun reception and boyka was a perfect for for four on that drive and keep it away from jim grant and whistle it dead inside the    apparently justin stockton took a fair catch so sex is something it will start this drive every favor gave a waving sticker any gesture any jess worth raising your hand up or anything like that the refs are going to try to protect their return and they're going to consider that a fair catch and so this texas tech offense that scored on its opening drive at each of the first three games this season a three and out on its opening driving for the first time this year behind it head coach cook things where he talked about weathering the storm early he knew there was going to be some adversity with as potent as dcu's offenses they figured there at some point they're going to be down there you have to fight through it home is to throw on first down and close hood davis who's got it for a first down across the    and a career best five captain's stumbled a touchdown last week a big game last week and really their biggest wide receiver size it is a nice job using his body to keep defenders away from football to corral in catches from the    years devin lauderdale he's a bigger part of the plan with a speed across the    and a cutback inside the cordon    yards for lauderdale and a texas tech first down water doesn't have any texas last week whose effective blocking for his teammate this week they want to get involved early gary patterson expected that as well and sees that reception setting texas tech offense as if gained in the home run it in thousand five and lunging for the pylon he'll spot him out of bounds inside the five yard line and the home kids up limping push kingsbury loves the toughness of patrick mahomes when he runs the football he'd like to have not take as many shots as he extends for the pylon he's got an unbelievable knack for getting outside the pocket finding ways of making plays in the passing game and running game with his feet letting clear pain right now dot up limping stays in the game of the first down and goal for the red raiders washington in shutdown not just tech but the bigger story right now is the pain that it appears tantric mahomes is feeling the andrei washington just going to follow with blockers up front alfredo mahalo the raving clark the big boys on a way of pushing back that tcu defensive line that has seen so much change throughout the course of the season the injury is off the field issues texas tech taking advantage that looked a lot more like the texas tech offense we saw over the first three weeks riaan out on the first drive    yards and four plays on his second drive and it's clayton half the over the rain started to fall again by the game at seven it was set up by the    free on reception off of the screen from devon lauderdale who was shutout last week at arkansas but makes an impact on this one early on and it leads to attention his tech pops down with the andre washington we are lucky seven didn't take long to see how texas tech would respond to trailing for the first time this year in path exactly who head coach foot kingsbury would like to see out of his team as will respond at the trailing for the first time so make ready to send it away in a seven seven game     left in this opening quarter turpin watches is still over his head let's go back to that play the key play on that long drive it texas dex going to use number    jackeen grant to kind of be a decoy year he's coming in motion they're going to throw the screen to devon lauderdale he's going to do the rest but i want you to look at number    deandre washington hustling down the field he lays a block that allows lauderdale to get the additional yard unselfishness right there you can love to see that off your running back and he ends up being rewarded with the touchdown they often so a     game and tcu which look really impressive on that opening drive back at it from the    boykin was a perfect for for for to begin in plenty of time here to scan the field and find dustin he's got his third catch of the day in a first down to the    joe only a threeman rush we've talked the defensive coordinator david gibbs he said he's going to mix up his coverages and his blitzes and how he's gonna try to confuse for vaughn boykin he wouldn't want him just to slow up and try to confuse him a little bit they bring pressure this time and they swing it out to green and it's ruled an incomplete pass and he's borderline there whether december's pass or backwards when they call it incomplete let's check out trevone boykin quickly goes to his swing as they set up a screen almost congress of the texas tech pressure hard to tell from that angle first incompletion for boykin second and    from the    playaction dachshund again off to a heck of a start in this one fourth reception    yards in a texas tech territory another tcu first down tcu off has been so effective with what they call these one path options they've got a run play goal but a pass route waited behind and they allow that to affect the defense with the run or the pass you really got to pick your poison in that case or catches now for      ives and a touchdown for dachshund here comes green out of the hole by malik jenkins who doesn't figure to see as much time today with texas tech spending much of the day in the nickel ccu's working a lot josh stop in the passing game that's in part because number   hole he listened he is battling an undisclosed injury he's not out there in the field emmanuel quarter number one is starting in his plays at the top of the screen good player himself yeah yeah he's long has got all the ability they're confident in it it's not the same type of feet a better size than list and being this once one side arm adoption driven out of bounds by justice nelson third down for the horned ross meter track champion warmed up and not out on the field now we'll see objective tech decide to bring more heat on trevone boykin just a threeman task loss and quite a play coverage  st  rd down in the day faced by pc news often one player to keep an eye on his number    pete robertson he's going to be flying through bond breaking throughout the day tasting lisa pocket confident throw to the sidelines for dawson they said that he did get a foot down but short of the sticks defended by gaines rolling here for down in a couple yards coming up decided to play coverage a threeman rush fun to make for vaughn boykin ppyou go the long hard way so the horned frogs of go for it after a timeout this if they do decide to go for oh boy trying to get it at the returning convert it for the first time this year back in just a moment during the timeout former red raider zack thomas was honored in front of the sellout crowd going to the college football hall of fame this year and red raiders would like to have him on his fourth down play coming up and they would undersized his career but play with so much heart and passion effort he earned his way i'm going to college football hall of fame it play early in this game fourth down and four and it's a quick kick for blake thank you tom when he asked a quarterback to do that yeah i mean he's so effective in so many ways just not necessarily punting the football that might be his only weakness yeah ronnie for all we played receiver like running back running back yeah but the great punter probably didn't do still own that punt pass and kick down the passing part we saw patrick mahomes banged up on that last drive chris bobby you've got more you came over the medical staff looked at both of his legs he told them i'm fine he walked around they did put on a brace on that left knee as a precaution joe all right chris and you see the rain starting to fall that brace on that left leg down the field of the blink of an eye last time they had it first down from the    off of the hands in incomplete grant was defended by traven towers in his second and    and it really takes away an element of texas tech's often if a home can't run quite as well as he has the first three weeks talking to gary patterson he talked about having to play again mahomes is like having a cover an extra gap in the running game and here's a snap that sails right fly him into the end zone for a safety washington hustle bet the fall on it and tcu jumps in front with the two points obviously a miscommunication between mahomes and center jerrod castor captain of this team and wisely deandre washington gets back on the football just takes the safety but clearly there's no communication going on right there between the center and the quarterback not exactly sure what castor might have hurt and not normally a problem you see the home team have they're not dealing with any crowd     tcu clark college football presented by geico is sponsored by advil fast and strong on top pain and by the us army it is pouring an intermittent rain and sun today but it's porn right now at fox sports supports proud a team of boys and girls clubs of america supporting their mission and helping young people to reach their full potential through programs that promote character and leadership education healthy lifestyles and more for more information visit fox sports supports comm and so now ball security becomes even more of a story in this game high powered off papers to make putts it away and here comes covanta a chirping and perp instead shot a one tackle and takes it across the    yard line time for a lowe's game break we check in for the first time with jenny tech thanks joe number    for oklahoma state visiting texas the longhorns going for it on fourth and tyrone troops takes it in for the touchdown charlie strong in the long horn trying to avoid their first one in three starts since      texas up    to    at half joe brady beck you and what it's changed for texas on offense changing quarterbacks from taiwan swoops the broad heard he's added an element of efficiency and dynamic ability out of outside running the football as well and changing off at the coordinator as well jane orville taken over for sean walker and how about this graham cole heusen came out at first and now it's boykin back in these view fans held their breasts for a moment there i mean it is really coming down right now the game clock the play clock runs down and out and boykin comes back to the sidelines cole halogen remains on the field cole howsam was very efficient in the short amount of time he played birthdeath sf often a couple weeks ago adds it off the green on first down he's got a short game that defensive line has done a nice job against the run so far yeah and really helps open up the linebackers for texas back in particular number    mica ah way coming through making the tackle there he's been battling some shoulder injuries but he's able to wrap up get aaron green down boykin back in after that one play second down and eight green again not much there brendan jackson most experienced player on this texas tech defense that's up third down and long brandon jackson got a lot of ability built like one of those nfl russian it's just a matter of consistently can he do it throughout the course of the game the course of the people third or seven sexist tech and mantoman coverage look out for the matchup on doctor look in that direction dachshund going deep perfectly thrown and pulled in what a toss by boyken and datsun beats madison for    yards both is that pretty i mean trevone boykin just laying it out the datsun who's got the extension to make the catch he's to her special his seven cats of this opening quarter that's kyle hicks with his first carry as we go back to that long completion nothing special about this this is just oneonone coverage sivan boykin does a nice job laying the ball to the outside where the defender cannot get it doc them with the hands to bring it in over paul banks a cornerback now seldom use paul banks as fast as tcu goes texas tech ever to roll in several bodies to keep up the defensive backs box i'm checking it on boy get off play action thrown for the end zone desmond white can't run under it and it will be third down that is not a flag it's a tortilla that came in the back of the end zone i saw you putting your hands up as if to protect me from saying see i know sometimes it can help you determine whether or not the tortilla flag not something like the west ford field it said just sing sing tight ends in the game for tcu right now we have one catch the seasons last week versus smu finally getting one kettle two touchdowns big one we joked around with sonny commie the offensive coordinator yesterday said you think we'll see more he goes whoa backtoback weeks using the tight end and here it's boykin sneaking it for a first down up to the    tcu doesn't get under center bus when they do you can almost guarantee it's either a quarterback sneak or in a  minute situation they're going to spike the football that's about it odd right now son on the field but it continues to rain pretty hard for the first down intent from the    for trevone boykin of this often esben way the slot he's a guy tcu like they'd like to get him more involved in the offense it was brain trying to get outside able to turn the corner for a pickup of five nudged out by always second i'm desmond white we talked about he's a dallas fort worth area legend of the soda high school tremendous quarterback converted to wide receiver a little bit of a slow start to the season had a great game versus minnesota now just trying to kind of get his rains getting back into the game they go back to green off the left side and he's close to a first down tackle made by levy third and short by psy and map on the left side really paving the way to brought over joseph's know things right tackle the help is an eligible tight end help block as well what are you looking for on  rd and   on this particular case i'd imagine could be some sort of power run given they still got their two tight ends in buck jones and dominic mirka it is murphy went into labor for green in lunges forward it has the first down neither the wanting got inside it first down and goal is tcu converts its third move down to this grime burka and jones do a nice job leading the way wearing green helped pave holes and create a little bit of movement up front and these power situations my my short yardage and goal line especially are the fullback for tcu they don't carry them on their team so mirko remains in there the white where dreams go getting a heavy load on his possession if green ribbon in his way open the door line for a touchdown we see the hops of aaron green there we not much push up front but enough there in green able to elevate tremendous athlete complete back does it all catches out of the backfield has the speed power to run short yardage in normal situation not a drive word tcu goes as slow as you'll ever see him go i wonder if that the product of their defense from some of these injuries and why not have to put as much of a burden when up against the highpowered seconds tech often these use offense off to a good start in this one especially josh johnson about that reception off a beautiful throw from poison and they slowly worked away down to the goal line and capped it off with an errant green touchdown run it's      vcu donson on the right set it up and then green finished it off with a touchdown iran and after the safety the horned frogs marched down to the scored at sixteen seven would have thought we've seen a safety it is getting between high powered offenses in grant brings it out of the end zone he's taken three back to cut down his career and grant takes it all the way across midfield so texas tech will begin at pcu territory off of the big player from the senior grant childers the low to the ground i almost thought he took a knee it comes out of there like a rocket still go to the ground here colluded to make one cup and change direction dramatically then to speed to break away the better context detect tries to give the ball many ways is possible last week threw a touchdown pass on a reverse look at that only guy in the country that has a touchdown passing running receiving and on a return and he's the only guy in texas tech history to do it he's done it in the first three games this year great ahead they go deandre washington interior that cucm defense shuts it down second and nine i summers in there for the tackle part of this young line backing core along with power wilson both converted safeties ding bell chops been the guy that really sticks out a huge impact filling the big shooting sam carter left behind he's done a great job this year they've got the strong patient spot right out here in the slot the homes looking in his direction lauderdale goes up and gets it and chopped down immediately by nick for a yard short third one who protects his debt this is two down territory protection tech you don't really even go over there you'll go kicker is a couple opportunities to get a first down here now both hatfield and barton with tried field goals with longest kilvo this year's    off on third and one it's washington washing kills wrong down by    grid after arnold    and he's of the city barefooted one typical to deandre washington he averages   yards a carry to stephen we can make a guy miss get upfield very explosive running back back to him on first down steps out of a tackle washington for a fastest down they like running to this left side because of left tackle the ravens clark the best tackles in the big    he helped pave the way the zone read and you're going to see deandre washington do the wreck is a tough runner they've got the speed to be able to get away it is a misnomer that this texas tech team is all air they run it about     of the time they're top ten in the country and yards per carry south knows working life very very productive back and they like to have that out it got texas tech back to within two it is shootout in love it andre washington senior from missouri city texas you mentioned as      yard season last year is the first time since the   s affected tackett had a       yard rusher ricky williams yeah      not the one for texas no one protective set       yards left team alex back to return this one along with turbine and tiller samantha boot it away and doing a nice job of neutralizing the dangerous perp in right now when we finish our full day iconic football continues with a big top   matchup a tea break utah and   th ranked oregon coverage starting right after our game right here on fox sponsored by geico who do you like in that one tough call and often i would have to go with the duck i really think they're on their way to finding themselves with actual championship game i know they suffered a loss for michigan state early but elvis hardfought game in east lansing and he'll be able to run through the pac   north how about those numbers for boy kenny's the only active player with more than        solar yards that includes his time as a receiver saws     receiving yards during his career from the    where the rain having stopped dumps off the screen for green and there he robinson romping in the hylian stripping the senior sniffed it out i serve on boys and caps dropping back you could sell robertson got the feeling that there is something else going on with his offensive line and releasing heady play ball snap play on and boykin good swallowed up now tied swing nina down to the near side of the screen had moved and everybody kind of stopped thinking it was a penalty it wasn't the ball was snapped play on again another snap early and seemed like it was before maybe come on boy can expect it resolved at the detective tech often his early games hitter still are out of the system yet nine men up here the line of scrimmage with the two high safeties protect on throat down and nine against the threeman rush boykin drills us right first one mena into a tight window against jj gaines first down tcu and schley mena rolls his way off of the field and paint that's a big injury for tcu you spending a lot of time in these run action passes on critical situations like third down especially in the middle of the field he's got great hands it's a solid route runner comes down hard on that left shoulder it seems to you thinking here we go again all the injuries they've dealt with this year stayed relatively healthy last year and the    in one season but luck has not been on their side in this department this season fortunately for tcu they've got a ton of talent the wide receiver position i hate to see a guy get injured they've got some reinforcements if it's a at least at that spot on the team very paterson it attempted this year but these injuries who continues dad that next man up mentality bogging play how many times can you say it right i mean over and over and over again eventually it's going to catch up you see colby lisonbee that's all around his neck there he's one of the standout receivers and he's dealing with injuries right now as well it has been mostly the defense though that's been dealing with these injuries the often starting to trickle in as well but you look since last season one of the top defenses in the big    everything that they've gone through since with the departures to begin win so they had to replay six of their top seven sackler 'he's already but now they're down seven starters that they projected to have coming into the season you've got a couple of converted safeties at linebacker you've got    players that have made their first career starts for this defense system so it looks like we're playing keno there for a sec yeah we waited for numbers changing i don't think we did hang it's really a credit though to gary patterson his ability as a coach to be able to plug guys in and coach them up teach them their assignment with relatively no experience and the best defensive minds in the game very very respected and i think this season if they could make it to the college football playoff you can stay and be its best even if coaching given the fact what he's had to deal with yeah jerison stewart comes in for amina shawne nixon out there as well now motion out of the backfield on first down from the    clumped his screen throw over the middle for stuart and the freshman takes it inside the    you mentioned it next man up there's the guy in force lenina baking it for    yards the freshman out of mesquite texas he's got a little burst to him well it's jason stewart desmond white covanta turpin all these guys once they get the ball in their hands they're dangerous in the open field speed option into the short side that one bounced out of the hands of nixon it takes it close to the sticks a given page second down and   shawn nixon number three is an interesting story was originally committed to connect with an m nu the late d commitment we ended up coming to tcu and these really utilize them in a bunch of different great ways and even the backfield is a running back at times the slot of the slot wide receiver very versatile guy great hands good route runners some explosion and a bot like we expected     a lot of points it is opening quarter couple of threeandoh teams at a   th    game the rain has stopped for now bright sunshine over this big    opener we're back to love it captain box college football is presented by geico and back in lubbock texas ready to begin the second quarter horned frogs in front      trevone boykin off to a good start in this one    of    with a buck    and a touchdown a balanced attack so far    pass attempts this is    rush attempts kind of bucks that idea that the spread is all about passion and they both teams have that gram for his score as well john nixon hit in the backfield and drops short so it'll be a third down in a couple of yards here is johnson and jackson's combined for the tackle as well i'd call the danger zone for the texas tech defense they really need to come up with stops in the red zone and force tcu the kick field goals and not score touchdowns out three seldom you ever see tcu huddle holding right now this isn't really the rapid pace that we see in the past week be curious to see why exactly keeps you explode things down so much third down and two and they bring a tight end into the backfield to block emotions now snap is over the head of boykin who gets rid of it and it's fourth down pressure from dakota allen made sure that boykin couldn't create magic couple of ants camp we've seen well this is a heck of a play by trevone boykin just to be able to get the football his hands and get it out not have to take a sack and then not be an easier more makeable field goal range oh eddie heady play by polly can fit a game brady where clearly there's two really good offenses and defenses that have struggled here's the category where tcu's got a distinct advantage jaden over chrome is the nation's active leader was    made field goals in his career this one from    and it was pete roberts in that bucket we talked about pete robertson impact on this game playing defense but here's an example of what he's capable of doing on special teams robertson able to get guinea and just get his hand up just enough to block the kick from over from now pretty a low kick and it wasn't that long of a field goal    yards you should be able to get a little more trajectory in the football to get over the defective line right after we say this is one spot where tcu's got a distinct advantage a  g how it works the homes back out there with the texas tech offense from the    over the middle for jim graham they've been all over him so far that is denzel johnson who you praised over the first quarter of this game he's been a nice job of filling those big shoes of sam carter and that strong safety position that's been a very important position for gary patterson's defense they have to go to play the run extremely effective but also the past as well and he's got both those capabilities dustin stockton comes in for texas tech a home double clutching and throwing low at the feet of ian sadler and third down at   both of the scoring drives for the red raiders today have been lightning quick and a three and out on their first drive these two sandwiched in between this one kind of feast or famine for texas tech and we're preparing for this game watching them usually putting together scoring drives or a finding way of punting on  rd and  th a holmes role protective film low and incomplete yet ian sadler open but there's a flag down in the backfield if i cam it might be a late hit on    josh caraway penalties have been an issue for tcu this year personal foul roughing the passer number    automatic percent and that is a drive extender there's josh caraway at the bottom of the screen tries to use a speed inside move and no need for that a late shoulder to a quarterback well after the ball was out of hand did you get pretty good at buying those i don't know if you buy those i mean there wasn't much backing to that tear weighs     pounds all day to throw over the top gruffly taking advantage to the mental miscue from pc you where it's a crazy number    denzel johnson and ability to fill in for dam carter there's a team grant they really try to match them up in the slot on who they feel is the weakest covers defender a home playing an outfit    grams it's too fast and they blow the whistle before texas tech attempts and sneak one in for two so that will not count wallet now ben ben brady med then made ready for what cameron batson tries to sneak in at the swinging gate and tcu clearly not ready but didn't look like the refs nor eva foot lig outside a babson either was texas tech and they had to push his linemen out of the road lay down field on for the extra point texas tech has its first lead of the day whether things turned in a hurry tcu is lining up for a bill told ahead it's locked and it looked like then shut down the drive but a roughing the passer penalty continues it mahomes and grant make them pay cuddle up with college football experts and live web chats all season long but the new guests every week the edward jones college football huddle on foxsports com he saw texas tech prior to the break they're utilizing that inside receiver like they've gotten so good at slot widens different really credit wes welker danny amendola for paving the way in the off season a lot of times kliff kingsbury goes up to new england he talks with those guys about those slot receiver concepts and things that they do and that really has helped out to keep his office today sends it into the end zone and turpin will take a knee give it a sign for game break to check in with jenny tech well john brady had the injuries caught up with the irish number six notre dame having some problems since umass but closing seconds of the half the shawn kaiser to chris brown seven yards for the touchdown notre dame leads       as the third quarter is about to begin joe brady back here kaiser filling in nicely two touchdown passes and a rushing touchdown as well and cj prosise     yards the first half and a touchdown though motor tame fight through there with that injury bug and there the night was a lot of depth on that to me seems like injury bug is hitting everybody this year across college football levels too i begin with an empty shell for javon boykin from the    steps into pressure off of the hands of dr  second down rare dropped by dachshund with credit brandon jackson number nine protected peck coming off the edge didn't quite get to boykin time but provide enough pressure the force quicken to get that ball out now you were curious to see how david gibbs would operate this what are you thought of the way they've approached here so far he's a very truthful guy and he's doing exactly safe mixing up coverages blitzes and trying to again confuse trevone boykin coach hat through on second down steps up and throws to the sideline and has a first down it'll get more desmond white was pushed out of bounds late by johnson so tack on    yards to shawn johnson had a fantastic game last week perhaps our play was over personal foul late hit out of bounds number   of the heat pen    yards on the end of the run   the shame gets    tackles last week and one tackle for loss right here i was way late not even close we've seen a couple late hits in this game penalties are something that texas tech has been much improved on this year from that play against a year ago now they were one of the most penalized teams in america a season ago their best in the big    this year here's another trick play it's covered well and boykins gotta send another bound that's a nice boost for a defense when you can do that against that level of trickery a lot going on on that play actually it was two months times and yabbies doublereverse passes there's so much back and forth that you never really get the deep end to move to one side of the ball the other one brad vanmarcke letting folks know why it wasn't an intentional grounding got it the line of scrimmage and so second down it down after the second trick play that we've seen from tcu today boykin steps into his throw light of his intended receiver emanuel porter defended by theory fema and these he looks at a third down intent again one territory here    years we gotta figure they're going to work the ball to one of their playmate josh dachshund number nine desmond white the opposition plugged in for two on satori at the top of the screen texas tech playing a lot of zone coverage from i'm hard to find them they run solidly for time for boyd kim for the pocket collapses boykin takes off and well short of the first down lake jenkins the first one there it's fourth down and six kind of in between territory here the decision for gary patterson i don't think it's going to be another quick kick after that leader my first time i won't be surprised if i ended up punting it here trying to pin back texas tech and it looks like they will a rare punt this matchup pink credit pete roberts with a nice job getting pressure wasn't able to bring down boykin but enough to make him flush outside the pocket and unable to pick up the first down number    having a great game and some carry for your starter at punter by the pin of deep that one goes into the end zone what was well done but jones story unable to keep it from breaking the plane texas tech back on offense with his newfound lead from the    yard line with a sophomore pat mahomes directing this show nexus neck trying to pull the upset of number three box college football presented by geico is sponsored by fanduel the leader at oneweek fantasy football and by dr  pepper and college football it's a oneofakind tradition dick piece coming back this week for that tcu defense and debut on pearson we go down to chris button well it's also what he provides his teammates on the sideline during that last theory of telling you guys it's time to stop being nice gary patterson told us just having him back in the team meetings this week has been so important for the rest of the younger guys it really has this defensive line has taken a lot of hits number    bryson henderson's in for an undisclosed injury number    throw lathan holmes a play action on first down coverage downfield is good so he's got to throw the ball into the feet of sadler second down a home doesn't seem to be moving quite as well as fluid as it was before he went down earlier in the game i think that knee might be bothering him a little bit so i has been hanging the football off and not necessarily running outside the pocket it's a different offense when he take away his ability to run yeah it much easier for a defense oh i'm sure tcu recognizes that second down holmes throws foot grant who loses the football and they say incomplete denzel johnson broke it up and you can see a noticeable limp from the holmes mahomes is this going to be struggling a bit the rest of this game cuz tcu is too good at trying to get to move the quarterback off the spot that two sacks the game from quite some time now third and long not necessarily pretty want to be in particular if you can't move your feet and get outside the pocket only the third third down his face today for homes under pressure frozen up for grabs and incomplete should have been picked off by montrell wilson with korean kirsten applied the pressure almost looked like a team meeting back there for tcu there's getting caraway able to get in the backfield pretty quickly and holmes again not able to do much that pockets just suffocating out around him and when you're playing the number three team in the country turnovers are the biggest factor and determining the wins and losses you can't be throwing the ball up like that there's worse things and taking a sack you mentioned the improvement in penalties this year for texas tech the other improvement has been in the turnover market here's gabon tape serpent can't get his way close to the       yards on foot a   yard return in trevone boykin heisman candidate off to a good start in his game back to the field with his game trailing when you come back is our kfc stat comparison taking a look at the quarterbacks more than half of boykins completions have gone to josh johnson one of the staples for them this year has been spread the ball around but not today no not today kobe listen he is out sometimes as a quarterback you might not feel quite as comfortable with a guy like a manual porter the coaches are confident in them but you haven't had as quite as many reps and especially in the game scenario five of those seven catches for doctrine of you to the peter bin for a first down or a touchdown about backtoback punch where these two off in two powerhouses his drive starting at the    and they go right back to adoption he's unable to make the first man miss sample made by paul banks you see more time that he has at any point this year a defensive coordinator david hicks said we got to make the easy tackles in space because once these wide receivers    steve get going that's when it's hard to tackle them downfield you got to be able to make the tackles when you got them ball banks did a nice job of getting docked and down to the ground there is coach gibbs the seventh defensive coordinator in the last seven years at texas tech previously at houston but a lot of time in the nfl quite a personality with me tonight as you see yeah is this often well for offensive coordinators for tcu here comes pressure they try to gas it with a run and go it's erin green inside the    with a tcu first down on a pickup hook    texas tech had struggled against the run this year giving up on average     yards a game and support because they don't hold their gas they allow stings in their defense and a good offensive teams going to find them they go back to green who shut down by mikah away and a prior to that long run from graham texas tech's run defense you've been pretty solid yeah good look these offenses are going to get so many plays and so many touches throughout the course of the game it's tough to be able to limit them to so many yards but you try to do your best so what becomes pivotal is turnovers and red zone defense so texas tech is going to look to try to be stout here against the run and shut down any big plays on the outside remember the last time tcu moved it down to this end of the field they forced a field goal and blocked it second down and    from the    boykin fake to buck jones and throws to the end zone over the head of garrison stewart and incomplete part of the problem at plays was a jet sweeps fake who's there   everybody not fooling anyone you're going to see garrison stewart number    running up the sideline on a wheel route tcu trying to find the top spot in that zone coverage protected sec unable to complete it and a bit of a trend now pchew moving the ball in the middle part of the field but running into some issues down inside the    against the fourman rush boykin well protected took in the air come play your crap for justice nelson who couldn't hang on and it's fourth down the texas tech is playing a cover two zone coverage we need yet two guys for the he passed of the field and everyone underneath has flame zone coverage they're forcing tcu nakata's work the ball to the middle to field and right now texas tech defense doing a nice job of reading the eyes of trevone boykin that time should have been a pick but banks as well as games in to break up the past nelson needs to bring that in those are the kinds of plays they've been making so far this year top ten in the country and takeaways over chrome at is last one blocked emails this one from    it brings to cease back to it end to a couple of threeandoh teams in the big    opener spent a good one so far bucks college football is sponsored by xbox one the official game console to the nfl by state farm that pays to double checked off your agent today and by draftkings free one week fantasy football at draft kings com back at jones at amp t stadium texas tech trying to pull the upset so far this defense doing a pretty good job against the great offense under firstyear deep coordinator david gibbs if david gets trying to lay down a foundation something that texas tech has not been able to do since we're late      with all the changes the cap on mike smith has codefensive coordinator dline coach a former red raider so they're really trying to build upon what they've had so far this season has been rough at times the look they're getting turnovers they're doing enough to win or try to fall another upset over a top five team here in lubbock you go back to      late november welcomed in the number four seat of the country just beat him by for a couple of years later number three oklahoma went down      one of the more memorable games in recent college football history was that      win against topranked texas and then in      they crushed number five west virginia this is a tough tough place to come play at least you struggle here hooper four in the last four trips not an easy place to go back to    to find the last time ecu one and love it first down carry pretty andre washington who has a touchdown run today stop by traven howard second down and six justin stockton number four is coming the game and he has a different element this run attack for texas tech a lot of speed he's lined up to the right of mahomes who fixed the washington and sets up deep in the pocket he's it to washington who's close to a texas tech first down tackle made by denzel johnson it is enough to book the chains it's a great one to punch them deandre washington's are allaround running back and justin stockton comes in and brings him blazing speed and big playability stockton lines up outside they go to washington straight ahead bounced off initial contact pulled down by howard along with michael downing second down curious to see patrick my home that he gets involved in the run game again that knee looks like it's still bothering him and makes it that much easier on the tcu defense he's not capable of getting outside the pocket or running in their zone regime his running ability is the differentiator this year protection staff from previous seasons here ian sadler with his first reception in a first down close to midfield and abounds by derek kindred that was a guy that you like i love sadler he runs great routes and solid hands patrick mahomes roommates ogly me they have a connection as well and you can tell when you watch this team he assumed he relies on a lot to make those tough catches across the middle stockton back in there it's running back did not seen him class yesterday takes the fate quit throw justine grant they don t miss and close to a first down pushed out by montreux wilson right at this ditch he's so much fun to watch look at him enjoy stick yeah he just moves around he's still tough to touch in in even in a phone booth five six     that's our stock has it moving here septic thrown down by tearaway first time we've seen stockton get his hands on it ose electric he really is was a play last week he look like he was shot out of a cannon versus arkansas for a touchdown back picking up the tempo again my homes all kinda time and we'll throw this one away it will be third down please you thought he maybe wasn't outside the pocket but it looks like the broken pane initially was able to get rid of the football but my homer is no central around alfredo morales lower back without a pocket coming off it looks like in pain he's not the same guy right now no he's not i mean right here the holmes would usually find a way to slip outside the pocket maybe i'm pearson with must be a late hit but i'm freddy morales with    games and career here at texas tech the big loss upfront had left side some very effective so far i'm running the football for to choose from into the light side of the field for mahomes directing traffic throws back across the field basket is pulled down for a loss by montrell wilson so it'll be fourth down for texas death there are times there are plays the patrick mahomes makes that makes you just oh did he just do that scrambling all with his left flipping around and finding cameron backs in the short right side of the field he had an option pitt last week where you actually went up and blocked as he hits the football right they prefer they he didn't do that anymore they will go for it on fourth down we saw tcu lineup in a similar build position and punt with trevone boykin earlier in this game this is a legitimate attempt on fourth down default for davis incomplete and no plan underthrown looks like he had a step on amelie but my homes under through it had turnover on downs yeah the key play there for amelie was once he got back into phase meaning once he closed the gap on david he was able to do his head around just in the last second that right there kind of negates really any contact he makes just by turning around for that split second trying to find the football using all parts of his body to get the ppu there i drive had some promise but it dies out      he's used back in the field inside of seven minutes in his first half down to boyka name is um pulled in by manual porter and porter is her injury timeout injury guideline and i've never seen anything like this for the porlock tcu is happened with injuries this year it's unbelievable this teams i absolutely snake pit oh an importer only in the game because kobe lisonbee is banged up back in a moment now the injury story has mostly been told on defense for tcu but we're seeing to detect the offense not today in an annual quarter after making a nice grab used every bit of that sixth floor frame reach up and get the football but as he came down because if devon madison just kind of got a place down the knees he might have hyperextended a little bit there's a guy he's in for kobe listen to who we've not seen play today was limited in practice this week and hasn't taken the field yesterday here's a speed option boykin spit it off contact and going down holley jenkins for the tackle come off let us check in    then credit number   brandon jackson really disrupting this play once he penetrated through the line of scrimmage he got boykin to stop a speed very key be used in a hurry boykin throws it high tipped it incomplete in and out of the hands of aaron green ccu offenses so out of sync right now they've been playing much slower than usual as far as getting up to the line of scrimmage in that case may try to speed things up and it doesn't seem like boykin can get into a rhythm where looks comfortable back there in the pocket third down and    the texas tech keeps rolling with your doing trying to get pressure with those from four and contain boykin and play kids don't covered on the back end they rush only for boykin steps into a deep ball into oneonone coverage dustin pulls it in down bcu from    yards unloading long that goes a little bit instituted inexperience of paul banks defensive coordinator david gibbs talked a little bit about trevone boykin throwing balls that usually most quarterbacks won't throw he wasted a little bit longer to get out of his hands and the dbs have to cover for that much longer it's incredibly difficult he knew it eventually it would give up some big plays at some point nine catches for     yards and now two touchdowns for dobson at tcu's back in front you mentioned the big plays there's one of them there there aren't enough for dotson to beat banks the number three horn fraud stride of extended agent second longest winning streak in front by five second touchdown of the day for josh dobson bigtime afternoon for the senior from mansfield texas and started in spirit wyoming transferred in and has become trevone boykin favorite target that one into the end zone and texas tack takes a touch back let's go back and look at this most recent touchdown josh goss is at the top of your screen matched up on number    paul banks lutz trevone boykin in the pocket no one's able to get presser and protect the tack and he's able to just sit back there and take his time eventually throws it up all banks in position but doctor just able to make the play so difficult when you have to go versus this teague offense going to cover for a long long time again from the better wide receivers in college football see what kind of response texas tech as they begin with playaction the holmes a confident throw to the outside that is incomplete wanted lauderdale and in front of that tcu sideline the officials got plenty of help making the call second and    one of the keys for texas tech to be able to start moving the ball again is having more production on first down they did struggling a little bit getting things going on first down and putting themselves been in third and long and washington ripped off by downing out of his safeties fraud after nine yards setting up a third warning and if michael downing doesn't get washington to the ground he might be taking that to the house quickly duck his neck is back in the ball with another one right off the gut and washington were the first down to the   s out made by howard will make deandre washington post vessel his change of direction of the ability to start and stop in an instance they get to him here they come short feet per second ever thrown again beating on me lee now the first time he had beaten it was underthrown and now too much of it been taking a hit too at the end of the throw couldn't exactly finish by the way he would have liked i'm the tough player though no more than anything else he wants to be out here and wants to be competing and see if he can pull off another monumental upset here in lubbock second down in ten he seemingly hurt that leg one of the early drives the chris button reporting that he told the trainer's he's fine he stayed in despite a noticeable limp it throws this one into a tiny tabler who comes up crossing that last wagon injuries timeout wilma holmes checks to this concept you can see sadler wait for a moment and then as just makes a great catch coming back to the football which is key in order to beat the defender to the to the ball bangs up the knee as he comes to the ground but still maintains possession of the football the second catch for sadler in the second quarter and he's helped off of the field a big play by mahomes really the first time you seem to be able to move outside the pocket and make a play like that the training staff will take a look at the sophomores sadler all the roommate mahomes tries to continue this drive through texas death press set of downs from the    it was asking    inside the    with another first down wrong this one for   yard one of the biggest teams as a running back is being able to press the line of scrimmage meaning starting downhill and then once you get the defenders that suck up into the line of scrimmage you can bounce it outside and the andre washington has the speed and ability to do that where they turn himself into a good allaround player and having a good day today up to    yards in his first half another first down run and nearing     in his first down number    quinn white came into the game he's essentially their fullback injury occur now we're going to see him lay a block that helps open up his jump cut deandre washington washington has the speed to do the rest and now josh caraway is down holding his left leg pchew already down seven of its initial starters on this defense already down three defensive ends apparently one of the only guys they planned on starting that's still around and he's a heck of a player had a great game last week versus smu six tackles two and a half sacks three tackles for loss so again another key defensive player down for tcu and with all these lower body extremity injuries you got to attribute it to something yeah and all i can think of is the footwear has gotten lighter less durable less stable and eventually that's going to have or it's going to cause an issue now if your your foot and ankle but knees hips all that because all the force that's provided into the ground as it comes up through the body i mean if you don't put it down a proper form that shoes not durable enough really be stable in this joint it seems like it's got to be something more than coincidence because it's happening everywhere at an alarming rate it seems this year higher than normal on first down they get it to reggie davis and the block on the outside unable to be connected on a nick or came up to make the tackle they lose a yard that's second down through freshman jonathan giles trying to fight his film that block with one of the keys for these texts detect wide receivers they have to become better blockers for their teammates before they can really get on the field and get more touches with the football so rare long sustained drive for texas tech normally you see them striking quickly here's the ninth play and it's got my home over the middle and incomplete a couple of dropped interceptions today from both sides this one's raven howard and it's third down they'd like to utilize their slot wide receiver matched up oneonone with all that space but against i was not able to the football in freshmen struggling early third down and    playful washington makes it a decision right here for kliff kingsbury heads fourth down and short it looks like they're going to speed things up and go for it you got to love the aggressiveness afoot kingsbury he runs all the way down to watch the play from offplanet the only one left at home developed a kilpatrick mahomes of number   there is kindred but it's much skis handed to football off patrick wa holmes had a clear path to the endzone scoots on him now you didn't die you didn't need fresh legs to get in there yeah i think we both might have been overrun around selma holmes as texas step back in front and played half field on to the extra point to the hold of chairman bastian knocks it through good response by mahomes and a fourth down gamble pays off look teams were in down to the    yard line to watch this one up close and he liked what he saw mahomes in for the storm the red raiders back in front box college football is presented by geico and patrick mahomes on fourth down and two unpunched into the end zone then it's pretty effective anytime you've got a quarterback you can run the ball into the end zone in particular down in the red zone from home vid i banged up today but still being able to do the job that play helps that before pressure on the defense what a weapon to make is for those long good hang time kicks turpin has to take an ease we check in with rob stone in los angeles all right joe thanks coming up on the state farm halftime leonard fournette continued his heisman campaign by doing something no sec player has done since      plus the sights on a tight oklahoma state texas battle and baylor testing the scoreboards capacity back you guys in lubbock all right rob while much of the big    is charting conference play baylor taking on rice today to talk about wonder fournette really kind of making his way and taking a claim on that heisman campaign early in the season    carries     yards to cut down the heck of a day heck of a day for these offenses you saw their rovers   under the arts of total offense combined final minutes of this opening half and javon boykin against the three man raj hearing morrigan pressure able to get it away and dump it off and it fits for a first down across the    number five gary moore had an opportunity he was defensive coordinator david gibbs talked about and you have the easy tackles you've got to be able to make him now it's never really easy son attack let's move on volition but you're not going to get a better shot than him dropping back in the pocket it's all relative right how about that play against smu he made last week unbelievably pressured getting in for a touchdown run now god will beyond the heisman reel as he makes his campaign here at his senior season he tucks it again takes off this time and navigates his way through seven the end of the spy number    dakota allen waiting for him i think texas tech is just hoping they could try to contain him not allow him to have one of his big runs like he had a week ago at smu to avoid a rush scamper for about   some yards into the end zone as a sophomore against texas got a couple of years ago he ran for a hundred and sent some big games in his career against the raiders including that one last year for the seven touchdown passes on second and three aaron green able to submarine close to a first down wasn't much room there but what room there was he found his way through tcu finds themself in third and short again a part of the field where you can see them going for it on fourth down it didn't get it boykin and uppers down i think a lot of the crowd was fooled and started at zero and green god swallowed up but it was boykin caring for poor and it seems to you first down number    kenan lord came down to the secondary to try to contain boykin was able to wrap him up but fortunately    good for the first down keep the tribe alive ward a former quarterback himself in fact they've never even played defense before he arrived at texas tech to come a solid play on the back end for the red raiders inside of a minute and a half down is sopra down boykin double clutches takes off and goes down across the    tripped up by mica away with a flag down in the backfield looks like it's gonna be a holding on the tcu offensive line hold on offense number    ten yards from the previous part percent left texas taxi line doing a pretty good job putting pressure on another injured player big number    big b struggling against pete robertson today the robertson excuse me he's struggled against robertson jackson have all been giving big decent trouble yet hard from this angle to see who the injured texas tech flare is and it is garry moore did this he him to his feet six leaning towards a shoulder his upper body pain you got that size and ability you really want and that rush end a guy who mixes in very well with brandon jackson coming off that edge so a loss that texas tech really can't deal with they don't have a ton of depth on the outside rushing past the david gibbs told us yesterday this is garry moore's kind of game with a spread offense tcu runs first down and long and there were guys that a trace it from rico levy the     pound senior dropping greenville off and levy was able to just win with lower pad level will quickness off the ball the big guy     pounds inside of a minute left in his first half texas tech by two with back at the moment state farm halftime is coming up what we've seen points like we expected maybe not to the degree we expect it and part of that is that these teams known for their up tempo offenses have slowed it down some yeah a lot of people out there thought this was going to be a very highscoring game when talking with the coaches this week i kind of thought maybe not so much in particular tcu and a little steam right now is a little bit of a catandmouse game between two staffs who know each other very well they reset the clock to    seconds and after we went to break second down in    boykin feels the pressure moves in the pocket throws high looking for nixon with a comfort from nelson but it's go down and long there's one thing for vaughn boykin needs to work off having a better feel and ability to fit the pocket and assist stage hit the ball out of his hand some time when he struggles with twenties actually just got to fitnah pocket and make throw was the case little bit last year but ziggler versus west virginia but even though they were able to get a win so far this game that's why i feel like they've struggled a little bit time to the football they've shown his ability to throw it deep you see him in the quick game but like you said those intermediate throws something he's still working on only three rush shows off the arm strength and picks up the first down who else just dustin beating justice nelson for    yards and that absolute laser from trevone boykin into the hole in the zone coverage justice nelson's got to get back further he had no threat in the flat really no reason not to sink back underneath dawson two timeouts langford to see you first down at the texas tech    boykin steps into his throw again first down again inside the    goes garrison stewart who's replaced ties lenina one of the inside receiver spots first down and goal for the from called cause in effect you work the dawson you work the dachshund and open dumped that ball across the middle and he'll spike it and stop the clock at    seconds still two timeouts and second and goal mal as fast as this piece new offense can run there's no doubt this is a long time for them with two timeouts their ability to slow the ball in the end zone and a guy i'm going to be looking for doc doctor if not you want stories another guy who's got that big body and frame that can really elevate and get the football or you think texas tech will be looking for josh johnson as well    catches for     yards in his first half and another quick timeout we'll be back in    seconds    seconds to timeouts whole play bouquet or disposal yeah particular the running game and trevone boykin becoming even more of a threatening running game in particular if they try to double coverage jaw stop than anyone else for the tcu for the wide receivers and outside dodson lined up to the top of the screen second down and goal for the horn frog here is the quarterback ron boykin unable to turn the corner aim go to the bounds and the   he got twenty seconds and two timeouts but now it's third down yeah and in this case i think looking at the score the way it is you don't want to be a little bit more conservative and you can still run the football with the timeout we can try to take a shot at josh doppler they tried to double them that last snap so they actually have the advantage to run the football if they want it johnson again all the way to the top of the screen once you see from this angle here working against justice nelson boykin into the end zone in a dirt for a touchdown ducks it worked the back of the end zone and he's got his third touchdown of this first half and that was all possible because of trevone boykin and his eyes it's a little motion out to the bottom of the field boykin looks off the entire defense just waits for josh dawson to find that hole in the zone covers this is the exact same play they used earlier for document first touchdown and he's now within one punched out of the score record set by josh boys whose  p first touchdown reception at a tcu uniform boykin to dobson boykin the dobson boy kannadasan three times in his first step the big time throw big time play there for tcu on third down now when you play it such a fastpaced sometimes it gets hard through to be patient i'm going to take a breath back there and wait for things to open up i think that's the hardest things about playing in these fastpaced spread offenses it will puff down there in the red zone to those windows get tighter use able to find one and a touch back october coming up and it means baseball fs  continues to be your home for postseason action american league division and championship series don't miss a moment of the drama at history all beginning october   on fs  streaming live on fox sports go    seconds a couple of timeouts you give it a try at all you know before half i would kneel it i would always try to hand the football off with a running play then you accomplish the same thing as you at least give yourself the chance to break a run for a touchdown the argument the other way would be you also risk fumbling and you're just following a snap as well at the end of the game it's one thing but a halftime i want to take the opportunist run running play deandre washings a home run hitter and get the ability and if he doesn't clock runs out first half is he's forwardly changes in one ties we go down to chris budd coaching times we've seen your defense be able to make trayvon voice you look very uncomfortable what do you need to do to continue to limit him second half not on comes one up really our offense responded a bunch of drives you know you got a take advantage the drives you have we haven't played very well these patrick mahoney take some hits now look      how does his health affect your play calling a little bit but he's a tough kid he's hanging in there i appreciate a good luck in the second half go all right chris mahomes banged up early in the game and clearly hampered as that first half went on goodwin going here we go to los angeles with rob stone all day to throw over the top work in into the end zone in a dark for a touchdown dustin worked the back of the endzone and he's got his third touchdown of this first half it has been as advertised as we welcome back to fox college football presented by geico a lot of yards a lot of points fun so far       tcu and his matchup of free and oh teams in this big    opener we welcome you back inside joe davis brady quinn i think it's about what we expected so far as far as these offenses producing it's been all about the big plays and we thought this coming into the game based on how explosive these two offenses were and really how bad each defense is struggled so far this year but for tcu it's been all josh dotson might as well call this guy superman the way he's played so far the first half he's got to be a guy leading to the pol tica which is the best wide receiver in the country he's their deep ball threat he's a guy in critical situations they work to four first down and protective tech it's been jackeen grant and devin monitor those have been the guys that really provided the majority of the production and big plays i'm sure we're going to see more here the second half jim we have in that first half holding seven hundred yards of offense the team's averaged seven and a half yards per play we take a look at the rest of the stats you know we talked about tcu slowing things down not being as fast as they normally are they're in    place in that first step well they but they were slower than texas tech they were running text tech was running a play every    seconds tcu at    seconds per play so a little bit closer he seems usually around that    second point now i'm buried through the back of the end zone pc will start at the    as we go down to chris button i talked to gary patterson he says this game is playing out exactly like they thought it was he's happy with this team's offense because we need to try and stay out of third and long on defense he says it still comes down to tackling we have to tackle better because i still think this is going to come down to the last team that has the football a couple other injury notes for you guys tina is out for the rest of the game josh caraway the good news he was just some cramps in his calf wow so for once goodness   you in the injury front surprising to get ivs before the game mike ecu does so surprising is cramping up the day with the temperature is in the low   s high   s of the    they start this second half with an aaron green ron and he picks his way for a pickup of close to    pulled down by dakota allen as we look at our leaders on offense in that first half he's on green running for nine there to add to this total quickly back in the ball and that swing pass is incomplete third down as you look at the offensive leaders for tcu and it's been kind of like we thought aaron green in the running game boykins been pretty efficient the passing game working to josh dawson with colby lisonbee out emmanuel porter as well number one he got hurt earlier in this game was it a replacement with the g so they're getting a little bit thin at wide receiver see the adjustments for the texas texas tech defense after halftime oh tcu in that first half eight of    on third down and on third and short it's boykin keeping for a first down several times during that first half he was able to move the chains with his legs have done so here on the first drive of the second and that's the tough part is going to pick your poison versus this tcu offense went to try to double coverage still on the outside or trying to protect the big flavors and josh thompson tc is then going to have a favorable box count or run blocking scheme so it allows the running game for tcu to get an advantage fresh set of downs from the    off play action boykin off his back foot today but to get rid of it but incomplete looking for jason stewart like got away with a coverage and executive    dakota allen they're getting to boykin at the end of this row and it seems like a texas tech defense has been doing a good job of making boykin cole a little bit uncomfortable in the pocket not able to make those throws around the middle of the field noah that's the level of throws he's not shown consistently he's great at get him really good at the deep ball he's seen him put underneath intermediate throws continue to be bauer he's got to improve on second and    it's green he hesitates and accelerate taking a cut for a first down that's a heck of a run from aaron green showed you today hesitated what happened was texas tech was a fast flowing defense to the football but sometimes you can overrun the ball an allowed aaron green to hesitate makes a cutback and get upfield and they actually didn't have before yeah i beg your pardon they spotted him well shorts excuse you quickly on the ball and i just play a head about me for shouting what was next for her yep i think yep it's a first down set the chains opening drive second half the heisman hopeful trevone boykin in the number three horned frogs trying to extend the nation's second longest winning streak the    games dating back to last year that lost down in waco from midfield boykin steps out of the pocket and throws it right for a first down desmond white was so good in the opener of minnesota but he's got with a perfect old problem since this is the biggest role we've seen him play since week one today yeah it was a little bit beat up in that game minnesota that's pretty visible versus tcu so he just now sort of becoming fresh again back to him here makes it jukes they tried to rip that fall out which we've seen become the personality of the sexes that you've been this year they're a full and a half almost look destined mate whip it there's only     pounds or so he's tiny but boys he's tough to bring down very elusive in the open field liz didn't want    so what is he actually know i mean i want    i've been waiting with a couple of butcher pounds their second down into low snap pulled off boykin scans the field looking for docked in without get pull it in and it's almost a surprise now when he doesn't make a circus catch defended by madison at a third short hunter sock at this point now texas tag has not devoted more attention to josh not that he was open in the corner of the endzone athens madison was able to get over there just the nick of time but and josh johnson gets his hands on it he comes now epic us down madison did that stare down like we play i just made key foods wide open but and don't be surprised if it'll come back to that matchup on the bottom of your screen third down in zoo back to third and hands a green who fights his attack on the lake jenkins for a first down as the first time of ever seen seats you actually run the ball with trevone boykin under center right other than it automatically yeah green continues doing breath you see you continues to rack up the yard in     total yards for the horn honks on first down sweet option dream top down mica away keep captain the middle linebacker spot with his team leading eight tackle second down coming up a great play by micah alway did a nice job of avoiding the left tackle climbing up set a reach block him able to get to the football like always always around the football because it does a nice job of running and really sniffing things out in one game second at a texas tech shows s pressure brings it boykin just gets rid of it and it's a strike inside the    first down in goal is jerison stewart gets his phone cancer the day boykin took a shot there yeah that's the risk reward texas tech brought pressure there but then you've got oneonone coverage with garrison stewart on jason johnson we can hang him tough robertson another hit on trevone boykin those pins are going to add up the other course of the game throughout the course of the season for a guy whose age continued to preach to avoid it all you can valuable the players there is in college football sidearms get docked it good open field tackle that time for justice nelson those are the ones you've been talking about david gibbs said they've got to me yeah you've got to stop a guy like josh doc before he gets fun because once it gets going he's tough to bring down we've got about a thirty pound advantage for justin nelson if you brought in their power formation set because usually where they like to pound the football run the football the power formation prevent involves the kite in line enough to pull back dominik perko playaction topped in over the middle joe i'm story held on from the tcu touchdown says one judge and then another official over rosamund desn't complete third down and goal i'm sorry bobby the male bringing in their power running group to utilize their run actionpacked long story catch the football gets down and it comes out there at the very end as story comes to the ground doesn't maintain possession he's got to make sure he keeps his body in between the football on the ground they had a dill's open yeah good design good play call by avex coordinator sunny come be coop at the coordinator doug meacham you'll see the back judge here throw his hands up i promise he did and then one of the other officials came in and said no talking about sunny come be and talk about him here in a moment after further review the ruling on the field is confirmed and complete as he talked about sunny jumpy and meeting with him you can see the kind of smile on his face and talking about the different places to go to eat and whatnot in lubbock he's very familiar with this with this city in the south bay's all the success he had as a boomer back here better believe he was excited about an opportunity to come back in and get a win something they haven't been able to do in quite some time think chris brought mentioned a restaurant you saw by our hotel and he knew automatically what hotel we were at when she mentioned the restaurant till after that ball that was broken up and confirmed third down and goal for tcu that brings heat picked up brought hi fourth down does john johnson with the coverage is in sales over the head of jerison stewart jill bolte comes out you know they're going to bring pressure and you've just got man demand coverage on the outside texas tech taking a gamble trevone boykin not able to converge here since stewart got a little tied up with deshawn johnson but overall good covers and the pressure getting home quick enough to not allow the touchdown over chrome today good from    had one block from    this from    oh my goodness one of the top kickers in the nation misses from pointblank sixtytwo made field goals in his career more than any player in the country but off of the right hat which is an angle that right footed kickers normally like this is wide right parks college football is sponsored by infiniti luxury cars that deliver inspired performance hurdle sanders kentucky fried chicken it's still finger lickin good and by new york life here to help you keep good going back and love it create an over crumb with a rare tough day and we mentioned special teams on paper being in tcu's favor coming in he's had one block then then he missed one from short range and then you got the big return by jaheim grant for    yards as well advantage texas tech and so how does texas tech now respond taking over at the    pat mahomes in his offense on their opening drive of half number two deandre washington led more than     yards in the first half short gain of two the senior from missouri city texas and against this offense ends a reputation for being one that throws it all over the place for that ground game has made this offense much different than the old tech offenses yeah deandre washington and justin stockton really allow for texas tech to have that balance and explosive plays from the running game here's the deep ball lauderdale running behind avila and the flag comes in late they've gone after coryell nearly time after time then finally he's got to interfere to make sure lauderdale doesn't score pass interference defense number     yards from the previous spot automatic percent matt the end of the play you can see oh merely diving trying to stop prevent the touchdown really whatever he could smart play bio melee and continue to go after him yeah yeah you you know the least the less experienced corner between him and racine nick or first down washington dick hole off their right back to       yards before kindred made the stuff except the speck now going into hyperdrive deandre washington was a big play this is where texas tech likes to pour it on and put even more pressure on the defense quickly back on the ball washington again somehow stays on his feet for miraculous gain of five i don't know if anyone from the texas tech offensive line blocked anyone acoustic scattering washington found a way to filter through there but even those sorts of plays tire out their own offensive line it's almost like they said it's been too easy for you so far see what you can do when nobody's blocked that's why justin stock into the backfield down to washington a break he's normally the big play threat they give it to him denzel jackson it's early this year but number authority in like putting together an early case for an allconference type season yeah and he can he's that key component here to use gary patterson the guy who faced a lot of time pass the bill be good even coverage but also in the one game and got a lot of responsibilities on his on his place time to cover a lot of slot wide receivers texas deck has not converted a third down that's been longer than third one today third and four here the holmes throw it in the quick game it's the first down it's giles for seldom use slide out converting setting up first down and goal attempts escape and second tech loves can utilize their slot wide receivers those are the closest guys to the quarterback on third down easier completion usually matched up with a lesser cover guy for the defense stockton and washington in the game here from the   yard line first down in goal stockton what the tackle that carol a pulls it down nesters for and it's second down and goal we've not seen them get the ball to stockton straight ahead before today yeah and really he's that's where he's best his outside on the edge we're running a lot of those jet sweep he's much more effective once he gets to the outside he's a smaller back then down to a washington and it'd be nice to see him get it to him on the edge allowed to utilize his feet or they line them up in his flock to the near side here motioning into the backfield he's got it and again right in between the tackle into the arms of montrell wilson interesting the third goal talked about it they haven't converted anything better than third one so this scenario can't keep trying to run the football that's not working you got to take a shot the stockton came off and now you'll see him run into your screen back on the field for third down and goal mahomes clearly hurting that was ugly the flag comes down and the drive will be extended the second boneheaded play by the tcu defense today to extend a texas tech drive yeah i can't josh carraway after the play was over personal foul unnecessary roughness number    just not a smart play he just had a big third down stop and all the sudden we don't allow texas tech the opportunity to get back in this game and get the lead remember the last time this happened it was a roughing the passer penalty in the next play that's his tech hit him over the top for a bunch down yeah i suspect we'll find a way of running this into the end zone now jackie grant wasn't on the field net last third down and you gotta wonder what the guy is that special how you don't have him on the fume a critical situation like that he is not out there here on  st and goal washington is he he'll bring the raiders texas tech relying on the experience i just tech offensive line up push the ball in again young john dre washington presses the hole up the line of scrimmage and then jump to the outside gets all the tcu defenders to suck up inside and he finds the open hole into the end zone that fields extra point hooks in when it's       texas tech the andre washington set it all off with his long run you see that see on his jet a senior captain playing like it today exactly selfdoubt by caraway the personal foul extended to drive washington was happy to take advantage and put the red raiders back up by two welcome to hooters your fantasy football headquarters you think you have what it takes to beat me enter the hooters fantasy football challenge for a shot of your share at     grand and a claim to fantasy football or you got to get into hooters to find out how to win fox college football presented by geico is sponsored by fog light stay in the game and drink responsibly back here at jones at amp t stadium texas tech looking for its fourth top five win in this stadium in the last decade and a chance to gable leave it on all ready to match last year's wintle for date first time they'd lost eight games in    years to go back to the      season find the last time they lost that minute quick turnaround for floyd kingsborough was currently the program of course tcu was for nate two years ago and followed that up to the twelve in one season last year now it was a second penalty after the play on josh caraway that opened the door for the touchdown and gary patterson let him have it de monte cross the codefensive coordinator talked to him as well patterson seems to be a little bit more animated not nice things to say and texas tech able to convert    points off of mistakes from kara way on the road lubbock these are those are the sorts of things that will get you beat the penalties have been an issue this season for tcu today only three penalties that two of them absolutely critical boykin back to work from the       his feet froze high and desmond white almost makes a circus catch five seven one hundred fifty pounder i'm not able to pull it in as a quarterback when you're sitting back going against that zone coverage all the defense is watching your eyes if you're not exactly comfortable with what you're seeing out there which it doesn't look like boykin is it's going to play afford your accuracy struggling a bit uptight irwin goes the throwing through the boykin is used to another one of those intermediate throws second down straight ahead is green with a ton of room pro first down and that's how you counteract i'm soft own coverage we see a texas tech player go down looks like just shaun johnson that's how you counteract that soft zone coverage you run the football because you have the advantage in the blocking scheme there's not as quite as many defenders in and around the line of scrimmage to stop the run that's the conundrum right you don't want to get beat over the top against a team that has as many playmakers is teasing you but then it exposes you to that yeah and some people define that as a bend but don't break defense keep everything in front of you eventually the offense will fortysomething laughs to a defensive coordinator david gibbs is hoping for these he is over     yards of offense first down and its own    boykin stands the field fine doctor he's got it close to a first down he was by the way the first tcu receiver to have    catches in a game since sivan boykins two years ago news plan receiver and this feels like every play we're seeing somebody down for one of these teams this time tab in madison jo this is an instance of what we call friendly fire pete robertson on the outside playing zone coverage he's going to run right in at tevin madison you could have targeting on your own team that would be it team is going to like that too much he's back in the bowl this sounds good to see stab at madison often seemingly not too bad after that collision yeah pete robertson we talked of a little friendly fire almost leg with madison in the knee and what set him to the ground seemed like two months but a tweet that he never feels good no would imagine took him down in the one out of that timeout playaction a slant it stockton they eat them up all day with that play action to bring the bankers in and then he hits it over the dasu yeah and that's what happens when you're running the ball effectively those linebackers have to respect respect until that one gap and then in behind comes the wide receiver into that top spot of the coverage guess who john stockton again yeah now    catches for     career day out of an empty set here against a fourman rush they collapse the pocket there's a flag down and that one goes through the hands adopted put a flag down of the backfield in the area of holding you'd be able to see a bit of a jersey pull there holding offense number    ten years from the previous five replay second down brady force he's gonna try to hang on for dear life on brendan jackson as boykin leaves the pocket excusing p robertson to the known right yeah p robinson's been on the quarterback all day today he's a special player we've got a very bright future tan and red bright future for that guy too first down in      lt's becoming part of this story for tcu today try to get a chunk back with green and they do about eight for the nature is austin defensive tackle ran him down as if drivin food the mental coordinator david kids knocking talked about but his defense gets tired just like a stay in your cap stay in your lane because if they're not doing that i don't know where the problems and issues are in a trying to stop them on so if it is you then i can get you help i can sell you out or do something to counteract that right now pc you put together a nice try trying to overcome the first down battle few second and twelve green motions out he looks the other way and works at dustin whose sprawls out to pull this one in first down tcu across the    and that's just dealing the emotion aaron green out of the backfield and leaves no one on that side of the field to really cover josh dawson a tremendous void in the defense and green track as they office the coordinators call for keith to you so boy can always look for the green grass green is a decoy going the other way open things up maybe hit dotson again an incredible    catches today three of them four touchdowns boykin read robertson who bit and he takes it across the    you can be as athletic as you want but it's very hard to be trying to cover full speed and stop trevone boykin look is just reading number    robertson on that particular playing bill one there to cover down for boykin and the run defense previous drive    plays and nothing to show for it here's the ninth play of this possession boykin throwing on tockman endzone goes up and gets it but out of bounds i'm emily jenkins dick and listen second and    and tells us to play designed for cavity terpenes he's going to run out of motion on a was let's go to wheel ralph and malik jenkins does his best to stay with them and just enough to keep from getting a foot inbounds great defensive play a guy that spent mostly as special teams contributor his first two years stopped with a speeding turpin their second and    from the   th boykin over the middle that's enough for another first down guess who josh dobson   th reception of the day first down and goal at the planned route it's an in route jorgenson to deep zone that's that's off of the field there in the middle field looking throwing footballs where only josh dawson can get to boykin now    of       of those completions adopt it green cuts it back that he then plucks down aaron green and ccu's back in front with an impressive drive we've talked about the missed tackles of the texas tech defense plaguing them this year malik jenkins is going to have a shot excuse you micah elway had a shot at them once aaron green gets to the second level he's too tough to bring down those are the easy tackles you have to make if you want to stop this tcu offense which now has        yards they've run    plays we're talking about them in the first half moving slowly down they've turned it on here    plays     yards aaron green with his second touchdown of the day at gcu in this back and forth game with a   play drive back in front    yards couple of touchdowns for that guy eric green and he caps off a   play   yard drive josh thompson was a big part of that possession but a big part of this game he's just happening one of those days where he's really the only dependable option they have right now two distinct new offense with colby linde out emmanuel porter hurt is nearing a couple of single game school records the kick at short now they got to deal with justin stockton and do so well paul wit mill got their first on special teams check in with a game break thanks joe a wild finish between number    oklahoma state and texas a fox hunt puts oklahoma state and field goal position with seconds to go ben grogan nails the    yarder and remember last week for the miss dat that resulted in a loss for texas against cal final for oklahoma state win      joe brady back to you guys more heartbreak would have thought special teams now doing in texas right now unbelievable so if tcu back in front here's mahomes in this texas tech offense andre washington with a nice pull straight up the gut crossing the    denzel johnson with example and it is enough for a first down heck of a day for washington     yards down and the hogs just not himself hasn't been since coming up limp early on diving towards to pile on their second drive of the game you mentioned it while we were off air during halftime sometimes you come out feeling all warmed up in the first half but it's different after you spend    minutes sitting there boy injured in the first half and all those endorphins and adrenaline wears off once you sit down a halftime for a while to the air they call it an eyeball and if cc knew football traven howard falls on it after thibodeau galia i met fidel covered by the inca there's an example of it he couldn't get away from a spot that he normally does when healthy yeah i mean it's it's hard to watch because he's trying his best to fight through this but without a doubt that is a play patrick mahomes is able to get outside the pocket and ask a chris bradley able to get a hand on it the homes trying to ruling on the field of a fumble is under further review i was trying to fleet his case that he was in the process of throwing the football you're right now what is bradley not gally i so they will review this it will be interesting because his are motion does come forward as well does the football it doesn't appear as if the defender at least from that angle is it what tipped the ball i know just the guy to shed some light on this mike pereira what do you see well i see a lot of points and one empty hand by the way is the ball to me it's coming loose in his hand before it starts forward the arm the elbow starts forward a little bit but actually if you look at the play you're going to want to see the ball come loose it's already loose in his hand there before the hand starts forward that's really that classic empty hand that they talked about so to me this is a fumble and a clean recovery and even then mike it's got to be indisputable evidence to reverse that call and there's obviously not enough there that changes you know and and this is the referees toughest call quite frankly because you know obviously it can be so closed but he really looks control and that's the issue because the arm is almost always going to go forward and that key is is their total control of the ball in his hand and and so you would have to have that total control and clearly the hand moving forward to reverse it but to me he makes a good call into saying this is a fumble the quarterback pan was moving forward two minutes and    seconds it will be thursday shocking us all mike shocked everybody talked to everybody that one's a hard one for me to believe because again got to be honest beyond be beyond a shadow of a doubt to overturn and i certainly don't see that at all weird things happen in lubbock i guess alone we can attribute that to i think from this angle maybe they felt it was hard to discern whether or not he had control it looked like he might have had enough control when i first looked at it that was kind of my initial thought was his arms coming forward he kind of maintained somewhat of control but i hope it's disputable evidence or beyond a shadow of a doubt based on what the officials called got a feeling that's going to be on mike prayer as weekly rules video that he helps us out with each week well but the key here is look texas tech still is a big third down here at third and long they their own the home does not move around the pocket quite as much as he has before the fgcu brings pressure so third down and eight only third downs if converted today have been third and short they only bring for deep water daily first down technically a lauderdale slow to get up water they will bitch patchable homes are moving a lot better talked about gcu sensing the patrick mahomes is wounded and can't move quite as well we've got oneonone coverage on the outside and lauderdale coming up with a big play so at the end of it his head on the ground you see the matchup they like texas tech wants to work against choreo melee lonely lonely spot out there pictorial nearly today too lonely spot for many quarterbacks you're always on an island in particular in the big    and they run so many plays first down playaction mahomes stumbling wanted to throw this screen but it was read well by brace in henderson we've been talking about there's a flag down right now by the way he's been talking about holmes and it is issued moving around but still moving this offense the officials come together with his flag down around the line of scrimmage and a smart play there the screen was what read perfectly by the tcu defense so no reason try to force anything to score it into the ground sideline interference on pc you      that is the third   yard penalty on tcu today that was one of the emphasis coming into this year is giving the officials enough room on the sidelines not sure if it was a warning at some point earlier in this game to then cause a penalty yes odd because usually the first time is a warning second and third times or fiveyard penalty is you don't get the   yard until the fourth sideline infraction craven howard sticking his nose in and shutting down stock yeah at this point tcu wants to put pressure on patrocle holmes to beat him in the passing game we've got no choice other than that right now because it's an empty set for him all along the backfield he's got time an under throws grant if he puts it on and that might be a touchdown yeah you can tell that knee is really affecting everything in his game anytime you've got a lower body extremity injury you can't ship as much weight as much power into the throw you're throwing more with your arm and that's going to cause a lot of inaccurate throws at times but that's my home to the tough guy fight through this and a flag down before this third and    play said perhaps a false start though mahomes also offense number    fiveyard penalty third down arguing that it should have been the other way they get alfredo morales and makes it third down and even longer for kliff kingsbury scheme now you want to be careful here because you don't want to lose out on the opportunity to add points with a field goal one spot they like to work too is jim grant down here in the plot looking grants way instead dumps it off washington and grant lines up get his hands on the ball i'm not sure that god intended for this get it the field goal team will come out on fourth down j on the spot ball security right now the coming of a bit of an issue for texas tech fortunately falling on that football a patch of mahomes what was ruled a fumble overturn great tackle by the way a tcu defense they teach you to put your helmet on the football and you'll definitely get it out traven howard here's clayton hatfield trying to solve the placekicking questions protects his deck and there's a step in the right direction he's made both of his attempts this year and this one brings him back to within to soldout crowd and love it they've been treated to an offensive show that rain is gone the sun is out we got a good finish gun twopoint game last been amended in this third quarter joe davis brady quinn chris button back at jones stadium to go back to that first quarter you just brought it up what happened there's a safety yeah that's the difference in this ballgame right now a miscommunication between the center jarred caster and patrick mahomes and tcu up by two now without that safety we'd have a tie game but plenty of ways to go to decide how this one finishes elders paul box brings you an hour of allstar comedy we've got grandfather with john stamos and josh peck i promise we've got it it's rider with rob lowe for a savage as well the falls funniest premiered this tuesday on fox i told you it was coming i wasn't lying yeah there it is i am ia mow this ecos commercial lobby oh look that yogurt yeah fantastic fred savage grew up watching the wonder years not too many people probably remember that show old winnie love interest you're good i'm off that's pop culture anymore and there's ventures good history lesson from you drive starts with the    boykin to a wideopen josh johnson who make nelson miss and accelerates across the    the guy's got    catches today and you're giving him a   yard cushion law and they keep isolating in guam one versus justice nelson emotion aaron green away they push the coverage and they beat on flannan in route now that come back with a simple   yard stop problem he runs nine yards he stopped for vaughn wouldn't put the ball on them they set the tech cannot win right now matching up with josh document boykin steps up in the pocket flag down look out from behind here patterson would have loved to have seen him go down it's able to avoid serious contact but again a flag in the backfield holding    on the offense   yard penalty previous spot we play first and another tcu penalty josh dobson we just talking about    catches today that's the most by any player in a game this year we still have a whole nother quarter to play and i don't think tv is going to change whether or not they go to dot in every single pass where they should that's what i gather stopping yet unbelievable more than     yards of offense for the horned frogs that donphan is contributed to third quarter clock winding down and they will run a play boykin pulled it and went down he robertson will bring this third quarter to a close for the tackle for all what a finish we got coming in this one the big    opener between a pair of high powered offenses showing off today couple of unbeaten teams winner moves the four no back for the fourth after this box college football is presented by geico back here for the fourth quarter as they whip and nae nae i'm told i don't know what that is now it is but an offensive show as we expect it       be filled with a football and his second down and    to start this for only threeman rush so time to scan the field and white is wide open but only     and that's over his dead bird    not quite tall enough to reach that one but is wide open survive boykin guys how fonda with settling in and hitting the building targets even though they're not there early on in his reason one of the things he want to work on coming into this season is having better patient and better rhythm going to his third and fourth option in the passing game now      if it's me right now he go to jos top lawyer vegas auto pop to pick up and they've converted twice third on his relative distance to doston today he looks the other way pressed for coming running away from it but nowhere close to a first down finally texas zach able to take away josh johnson on a third down in law it's fourth down great coverage downfield long enough to allow number five jerry moore depression trevone boykin outside the pocket nowhere to go with the football big time stopped for the texas tech red raiders and no jerk in grant back there it's cameron bastian back to return his punt from perry the line drive that's and thinks about it takes it pays the price thrown down inside the    by derrick kindred good josh that was official wow one of those moments where you're happier now up here with me yeah wow come on serena there's nothing small about that hit know as batson found out stick around good one going in love it fox college football presented by geico is sponsored by nissan go to dijon iseman house com to cast your official vote for the next iseman by geico    minutes could save you     or more on car insurance and by chase freedom the card is for the essentials the cast back is for the party back in lubbock speaking of fun    to    in this showdown between three and o teams the big    opener that mahomes back out there battling through what is it a parent lower body injury that he suffered in the second drive of the game down dre washington has been steady today couple of yards second down michael downing coming down from the safety position to make that play they're really starting to key in on the texas tech running game texas tech is gonna have to start throwing the football the outside they pump the bubble over the top grant running loose the king grant across the field stay another's feet down imposed him down at the    after    yards in a deck first down just a beautiful play designed by texas tech taking the screen and then really the downfield shot on the wheel output to keene graham has been relatively quiet today here's giles able to turn the corner and get a nice first down gain as we go back to that beautiful design they're going to fake the screen and then they're going to have reggie davis run a post and there's two keene grant running down the sideline with no one on it the last thing you want to do versus texas tech often over     yards on the game now with his fifth catch you see who had done a good job of limited him before that play second outing six dustin stockton has been bottled up today by tcu but surprisingly they've used in between the tackles yeah i mean you really got to get a guy like justin stockton out in his face when he's on the field he's the fastest player for either team not saying a lot considering how much talent tcu has on their offensive side of the football third down five or six early out of the fourth quarter homes looking to the sideline and it looks like texas tech will burn a timeout just kingsbury's first to last protect down to box college football is presented by geico clearly pain from a harms from up here chris button you've got a good look down there you guys were talking about that layoff during halftime so in between offensive series you on the bike constantly walking trying to keep moving but wincing in a lot of pain just all right a battling through it and you got to keep it moving that's the only way to avoid a lot of that pain kind of setting in where you standstill the worse it feels keep riding that adrenaline rush of your patrick mahomes third down and   out of that timeout i was making a change at the line of scrimmage that box is white they'll still throw it on the out its plant can't get away what a tackle by the true freshman montrell wilson so fourth down and you would assume they go for it from the    a lot of time left but i think it's more of a situation they don't feel confident enough and they're kicking game to be able to kick one from this different is where you really miss my home running ability yeah but you got to keen grant and he's able to get it open and versus anyone in particular denzel johnson for tcu also two of these situations today home to the street crime market collapsing doesn't matter that he's hurt grapples five yards for the first down the soft board big indeed to move the chain and what a gutsy game patrick lajos is playing right now he's looking for too keen grant he's the running lane and takes it he's able to get just enough for the first down we saw him earlier scamper in the end zone for a touchdown just like just the performance by patrick mahone first down purple    wellprotected over the middle left by washington may be heard bradley and all six to     pounds coming out of second down and that was exactly what texas tech wanted and dontre washington matched up number    montreux wilson he had some green grass to run after this football but couldn't bring in the catch eighth play of this drive the texas tech extended by the fourth down conversion washington has     tonight there's a flag down if he crashes over the    this is going to be on pc you judging by the reaction of the tech players personal foul illegal hands personal file today on the tcu d davion pearson at the point of attack you can see he's got his hand up on the face mask of number    justin murphy pearson how starting today his first game back this season sometimes you get winded in your conditionings down start resorting and getting lazy with your technique outside quickly damaged bathroom they said of bounds by or each of the first two personal foul penalty pack followed it by immediately putting it in the end zone what do they do here looks like they're about to do the same again running at that hyper speed on offense washington pulled out by gally i that excursion two of the red raiders coming into this game he's new is one of the better teams on third down defense and texas tech was on offense next purple got the better of him mahomes keeps it and stumbles close to a first down heroic stuff right now from the hole but he got enough for the first down set the grit that focusses of patrick the home why she didn't cast it off shut down texas tech you can't say enough but household magic mahomes is playing right now in the way he's leading this team when i'm looking at this this is the eighth story he's had has already put up better numbers than graham harrell put kingsbury to the most dominant passers in texas tech history at the quarterback position hatfield adds the extra point back and forth we go       texas tech after the conversion from our halls washington crashes in red raiders looking for their fourth win over a top five opponent in lubbock in the last decade and up in the fourth plenty of people that don't care who wins this game excited about that last extra point washington gets his fourth touchdown of the day the most by running back at texas tech since      and it's       red raiders back in front perpend bringing it out makes one man miss turtles in wilmette guys feeling the heisman trophy is actually in the house today as we take a look at that he's not a heisman watch here at the back end of september and the chubb three touchdowns today leonard fournette     yards a two touchdown boykin having a day as well mouth care trying to get the defense a little bit of love v a knapsack    tackles in three games if wade tonight of a chance to improve the stack but a big part that texas a amp m defense and how well he's played and tonto club a chance for sacks tonight playing against arkansas texas tech beat last week i can run the football all the way through looking for another revenge when they lost       in this game last year turpin finest team stepped out of the tackle is deshawn johnson and my god way brought him down second down shawn johnson does a great job coming down from a secondary to make tackles you talked about him last week versus arkansas    passes for his guys fivefootten     all guy but physical players have noticed for the football rip the bottle a from alex mom's on one play as well yeah      player of the week on the defensive side here comes pressure boy can beat foot with a frog jerison steward into the vacated area first guy johnson will carry comforts but didn't really put a hand and i don't know if you didn't see the ball come out of boykins hand he was standing right next to saracen stewart and saw stewart wince but boy who do they have left at this point to replace them he's in for lisonbee manual porter got banged up earlier they're already without deonte great receiver bryden survived all these injuries green hits the hole hard eric green as a first down into texas tech territory aaron green one late hit on number    keenan war both offensive lines right now we're really getting after the defensive front reach defense he'll be running the football and he's wearing down that's the bond for both team it was the right guard brady folks getting to the second level with a key block on that play from the    another first down and    green again seamoth oh god another tcu first down johnson with the tackle after    more yards for green and one of the keys is really the big boys up front doing a good job of holding up two guys they got a two gap and put it's called the b tree is olson not necessarily getting his hands on brady pole same play they pound over that right side this time allen made the tackle it's why it's so important for the defensive lineman bill do their job hold up the offensive lineman not let them get to the second level be able to get after micah iowa dakota allen malik jenkins those guys got to be able to stay free and make plays on the running back but they can't if they've got a big right guard in their face talking about brady colton all six for     pounds of him after the heavy load for green he comes out kyle yeah all    members in five yards of the line of scrimmage tip   hole with a first down kyle hicks explodes through and puts his video back in front in his rollercoaster of a big    opener defensive coordinator david gibbs tries to adjust put an extra guy down around the line of scrimmage look how many bodies are up with the line of scrimmage trying to stop the run the hard part about it is if you don't maintain your gap integrity all of a sudden you got a running back running with no one in the secondary to stop them and it looks like they're going to go    to try and make the lead three top doctor popular screen cobras not about natural direct snap nixon wants to throw it he done did boykin catch it you thought he did don't know if they needed that much to get the twopoint conversion but it looks like the double reverse path back to boykin who's got some experience playing wide receiver at the line of scrimmage he's going to leak out into the end zone and nixon with the throat just good enough this will be a good angle to see if it will be upheld and it will not you don't think no i think to me right there that's beyond a shadow of a doubt that's a ball was able to hit the ground simultaneously ask his hands came to the side or you get your shotgun out shoot that shot nixon pistol ooh i don't know that anyone thought he was able to come in and drop a dime he's to take that glove off yeah that was the sixth play    yards scoring drive either way they've used nixon before in different positions but not necessarily throwing the football more in that wildcat position watch says the nose of the ball touches the ground the i tend to agree with vaughn boykins not able to get his his arms or forearms underneath the football to secure the catch ever further ruling on the field stands wow two points field it was called a reception so you've got to have beyond a shadow of a doubt to overturn it could we stay a makeup call there was one earlier in the game the texas tech looked like it was going to go the other way but that one was reversed now we've got this one so bit of controversy until these calls now that stands three point game fox college football presented by geico is sponsored by pizza hut bring home the flavor only a pizza hi      yards and    points in a game as italy changes normally you give lead change numbers in basketball games yeah so i think you drove that distance from dallasfort worth to lubbock it was nothing like it yeah because the yards are a little more fun than the drive when staring into the back of the end zone a couple of controversial calls in this game let's bring in mike prayer again our rules expert what do you think well i think that brady you and i are bit snake bit on this one because you know when you look at this twopoint conversion to me it's almost simultaneous when the possession was gained when the ball hit the ground then it popped loose a little bit to me i also think this is an incomplete pass the ball on the ground immediately so i think that's incomplete but then again that one earlier which was the past fumble play clearly to me is a fumble we've looked at it a zillion times here what the ball is going to pop out of his hand before the hand starts forward not again that was ruled on the field as a fumble and if that is beyond a shadow of a doubt not and pay a fumble then i think i've somehow lost the perspective of replay so to me pretty questionable decisions you all right mike we appreciate the insight this drive starts at the    because on that kickoff but didn't even have a return there was a personal foul penalty on texas tech that moves it back half the distance to the goal i get a few on first down at washington second down and seven with eight minutes left as we wind down towards the end of this game every yard matters better believe penalties in the fourth quarter are going to hurt some of these drives texas tech trying to keep alive steam again here shows some pressure they only bring for summer homes with time to take a shot incomplete looks like nobody knew that it was coming and he's saying man reggie davis run under it going again after a meal a little bit of a miscommunication wanted to take a shot downfield and i'm all for it because right now ccu is really staying up run a lot of scrimmage to stop deandre washington in the run third down and seven bit play in this game to the matchup to hakeem grant kuchma home signaling down that direction the home steps into the pocket long throw for david's in a first down up to the    gone and o'malley again    yards to move the gym that's the matchup they've been working all game oneonone coverage versus number two choreo melee reggie davis on the same page on that time for the conversion they pump the bubble and look long instead he comes back to his second read and we'll throw it in complete although washington came open at the last moment and probably was off to the races if mahomes it waited a split second longer yeah jen a bit of a miscommunication on a scramble drill deandre washington worked upfield and came back back from home was trying to pump him back upfield again and threw the ball but unfortunately not on the same page that's tough a lot of times you're talking about after a od try not playing second down and    underneath they go as giles quickly eliminated by denzel johnson and another third down and seven child only a couple catches coming into this game really playing a key role number    ian sadler out he's usually that guy he's running across the middle and sitting in those zones like this tech now look to try to convert again another third down converted it last time with a    yard throw to the sideline that davis unfold well protected again coverage in stalin he tries to take off turns the corner and the first down the lesson does patrick mahomes build you can't ask for anything more by this offensive line so stout upfront just throwing the tcu defensive line the line of scrimmage and deandre washington at the end laying a block on nick or to allow his quarterback get the first down chicane grant steps out of a temple and tripped up by michael downey texas tech has got to start utilizing justin stockton number fours just came into the game engine team grant gets those guys the ball babe no be sitting in better positions i'm third down to keane grant hobbling of it early one big play for him quiet otherwise second down he rolls with pressure from behind there's red back there second please then justin stockton this is just brilliant play design by cliff king period his back at the design roll out to the right justin stockings get a week down the walk down to your left sideline i'm a home is going to have just enough on this you get the stagger where you can make a guy this and watch as kindred does it take a good enough angle to build a gift justice socket he's just too fast very deceptive you said a beautiful design and it finally gets pocket outside the   yard touchdown to put texas tech in front in died as six minutes we knew it'd be fun we knew there'd be a lot of points i don't think we knew would be this one     points total patrick mahomes he said don't don't jump too high now you're hurting    of    for     yards in a couple of touchdowns from the homes and we've been talking about stockton speed all day and finally we saw yeah i mean you see what he's able to do once they get yo concealed texas tech has been able to get announcer yet besides that last play if you keep it bottled up inside but there you see his explosive capabilities and cut him the ball about    times a game they say and that's where we really make a lot of his yardage on his  th and   th place that was his   th punch of the game turpin back to return in and gabab day puffing it's this team hard and a solid return how to cost the    you know texas tech is far from comfortable with his fourpoint lead to one of the nation's top offenses ready to go back to work as we check in with jenny for a game break welldon't looks like you guys are in for a wild finish today how about this one in the swap between tennessee and florida will grier finds antonio callaway and he does the rest down the sideline for the touchdown    yards senate amos along field goal at the final whistle and the gators shocked the volunteers       hashtag college football very good i went through florida really needed that one and if you look through the blue blood the sec point get now working against this texas tech defense and this sellout crowd all day and then a whistles they're flagged down delay of game on the offense fiveyard penalty how do you have a delay on the first play of the drive i have no idea i mean especially coming out of a stop clock that should never happened i think you get accredited this environment here and love it aaron green flips the tackle gets back to penalty yards to midfield stop made by pete robertson second down and seven five and a half let pete robertson just having a big day getting after two ron boykin the pass rush and going back and making a lot of plays that's not his gap that caught us responsibility that's an old effort and hustle they rush only three on second down eden coverage wicked extending the play joe on story watches with bounce and its third down david gibbs told us yesterday that he knows points are going to be stored he knows the teeth used in iraq off yards but he said his job will be done if he can get the ball back to his offense at the end of the game with a chance to win her down at a fiveminute clock boy get in trouble and it's for town and david give back the love back he will play mantoman coverage we had a threeman rush and still able to give it to vaughn boykin the texas tech defense coming up big this is something we haven't seen them do all year long really more than that in years they are not seeing texas tech's defense play role and again they've given up    points but a big stop here fefe you punks it away back to let's instill over his head not wanting to risk an escape there i suppose and it bounces out of bounds after    well if you've been funny this one's going to be fun to top   matchup from eugene   th ranked oregon    brink utah after we finish your love it that's joel molly on the call of that one that'll be a good one never been knocked that hurt great thing about she's running back screaming the box hey booker's who the best in the pac   we've got two running backs have been very effective today in deandre washington the texas tech aaron green for tcu the crowd is confused what those signals were they're saying be quiet down and they're thinking that they're saying make some noise the holmes wants to be able to have his often hear his cadence try to drain to the clock go to that for a minute often i go to washington so many times you see spread team struggle in these spots yeah and the one thing that's going to hurt texas tech right now is patching the homes not being as mobile due to that knee injury he's dealing with this is where the big boys up front that's where they make their living you got to be extremely south and try to find ways to get up the second level and try to block the extra defender because you better believe tcu is going to have an additional guy up around the line of scrimmage to stop the run so do you take a shot if your text is stacked not right now although you've got to two big play back in your back deal with stockton of deandre washington you can break one on their own on second attempt it's tucked in and it's third down denzel johnson there for the tackle inside of four minutes still all three timeouts for tcu and a third down and four for the red raiders third and four a crucial situation probably going to get mantoman covers on the outside what do you try to work to i think your team grant although they picked on number two corey o'malley down the bottom of your screen quite a bit gray at the top of your screen empty safra mahomes grant motions go to the formation they rush all the three mahomes it tends to play in throws incomplete and gary patterson defense which is defined this program over the last two decades forces a three and out to get it back to do a     yeah huge stop and his defense coming into this game was one of the best in the country on third down the tech spec has got to better better of them today right there tcu stephenson comes up big so make ready to punt it devante turpin lakes back to line drive it takes at ecu bouncing rolls out of bounds at the    we welcome you inside one last time to cept is final three and a half up joe davis brady quinn it's been ann's advertising when stuff yeah and in this case i think it's to end up being the team with the ball wife who's going to win this game both defenses and struggled at times throughout the course of this game so we'll see if keith you can answer here and then the press will be on patrick for home and texas tech    yard line first out in ten minutes west garrison stewart across midfield the freshman planned the biggest hole that he has in his career for the gain of six second down and four the injury the title amina really opens up here some stewart for a big opportunity here only three catches coming into this game here it green off the right side makes the cut of the hole for a tcu first down you almost get the feeling that tcu scoring is inevitable he would never put a let him score but you want to leave yourself enough time at the end of the game to be able to respond this one has a little bit of the feel of that tcu baylor game from last year the baylor one late waking to throw all kinds of time strong arm to the outside jajuan story and fighting his way for close to a first down working against jj gaines they spot him right at the marker as we whine near two minutes and it is that off for at pcu first step and one guy's name we haven't heard a lot on recent drives for tcu is josh doctor kind of gotten away from working to him for whatever reason you think they'd want to utilize that matchup he's been dynamic all day    catches for     yards first down to run for green got away from alston thompson unable to get the block on kevan maddison they're still able to get a solid first down game the minute    timeouts left for texas attack you start thinking about when to use those seven madison making a nice place and a big game last week of    tackles and a nice interception who's a cornerback groans that great of passion but ted of madison he can get the job done boy kid producting boy get into a tight window and gutzon pulled it into setup first and goal there he is    catch of the day and he says too much for one guy to cover you gotta find a way of double him and that opens up too much in the running game aaron green down hill over the two and don't you figure for kliff kingsbury gotta start using the time out yeah those pc you sure isn't trying to milk the clock looks like it's best they can time out thanks ted there we go one left and again they need a touchdown at his spot    catches ties the big    record hits    in the first three quarters that was his first to the fourth and he's just unstoppable he's going to be working up top on the screen on a little in ralph wicked does a nice job looking off number    keenan ward to open up that window as we said before just stop is too good to single up in oneonone coverage you got to find someone else to put over their nap side of the field to not allow that to happen the credit boykin read adopt him it really got it going in this game and he's pick up the slack you look at    catches that is even count how many targets he town he's been their entire passing game this is an offense that had    different receivers touching the ball coming into the game so a minute's five with a second down and goal before you running it you given dot to the chick now you're running the football and you also want to take as much time off the clock as you can attach the texas tech defense is tired so make those guys a texas tech use their time out run the football in if you can look how many bodies are upper on the line of stringing stone green right die clip the temple into the arms of coco that it's third in gold inside of a minute now and there's the final timeout used by texas down flip kingsbury's all the way down to the   yard line to call it usually you think    seconds left in the game isn't much time for us team does they put a drive together with texas tech has done it all day well done by coach kingsbury because here's the thing now if you're tcu but it's third down field goal does you no good so you're done trying to toy with a clock and run time now bottom line you've got to get the ball in the end zone yeah and if you're tcu the smart thing to do here you got to have to call i would try to run the football first so if you don't get in you're taking more time off the clock and then you got your second call to go sooner i can tell you what it should be a fade ball to josh dachshund huh that's exactly how it play out this scenario get the best of both worlds work time off the clock and you get a percent of school trying to extend the nation's second longest winning streak to    games on the ropes in love it third down and goal speed option boy get down if alan little stop one play to beside it and don't be surprised to teach you to use one of their time out here to get the right call after they get from time off the clock they've got only    minutes left in the game left play clock is differential is about       seconds they're going to line this thing down and put it all in this one last fourth down play and saw that timeout taken with    seconds what do you think of the speed option call i mean it was what i was talking about you want to try to run the football here i think you got to prove your best runners and athletes on the field really dakota allen coming up big with a stop on boykin as he tries to cut it up behind by time but i love to call running speed offs you still run the football giving your chance to whoops them time off the clock so you still think invaded option now with one chance yeah i think so at this point if they have them i stood up and oneonone coverage they haven't stopped them yet why wouldn't you yeah    seconds fourth down and goal tcu that's the master but the top of your screen i want to look to the nearest side of the field and easier goal we've got a nice height advantage i can throw a believer here and green up a little flecks in pushdown pink see you obviously not how you draw it up but the tip ball from josh dustin ends up being caught by aaron green and it looked as if he don't get a foot down and again pressure is all the officials now in the replay booth which has been a story all afternoon off of the fingertips of dachshund into the waiting hands of aaron green for only his third catch of the season and credit aaron green for getting in the end zone a lot of running backs wouldn't think to try to follow the ball to play but what a job what a day for aaron green that was quick here's your critical verdict after further review the ruling on the field is confirmed panic despair and love it back in fort worth they're losing their minds right now bottles coming on the field was tortillas earlier in the game now it seemed like laurel harder objects that's the type of play you'll see four years later from throwing objects on the field and i keep going back to the safety in the vert in the first half of the game that would make this phd much more meaningful and then it would you be talking about    seconds left and the opportunity for texas tech to go down and kick a field goal not necessarily with the position they want to be in but at least a chance to win instead now would be a field goal to tie boykins throw is off the mark but miraculously on a season or tcu has had nothing but bad luck with the injuries the season's worth the good luck falls into the arms of aaron green and overcomes extra point makes it a threepoint game with    ticks left for patrick mahomes and try and pull a trick out of his own bag the dr  pepper wanted the kind play of the game with it maybe we go that is not how you draw it up with the max of our to work towards they try to double him tucson johnson tries to get over in time but aaron green there with the assist from josh stockton you knew they had to throw the ball into the end zone based on the situation you knew he was going to put it up high not that high though nice job a hand cream how about the reaction from gary patterson who finally smiles that's the one of the kind dr  pepper play of the game which is not over    seconds in a  point game but no timeouts for texas tech this has been as wild of a college football game as you will ever see back and forth we've gone with    lead changes josh johnson has tied the conference record with his    catches his most important play perhaps when he didn't catch the up bump set catch for green in the back of the end zone and a game with     plays and a couple more coming here out of the back of the end zone so from the    and again a field goal does tie it but the longest field goal this season for texas tech is    hours and if you're looking at this scenario i'm trying to think yourself how do we work the ball down the field    seconds you'd like to try to work the sideline some quick throws to the outside allow your wide receivers to get up the field but also stop at bounds but let's not forget the clock stops after a first down that allows the opportunity to rush up spike the ball now mahomes battling the injury i'd looks open for him to be able to scoot around in the pocket make plays and even run up after a big completion downfield been a heroic performance from him faces a fourman rush and that ball hopefully for texas tech's sake is incomplete because it would have been short of his sticks and block might have run out now with    seconds left that's too close to try to get into play in the middle of the field and get up and spike it a lot of moving parts there you're going to have to try to keep throwing the ball to the sidelines and working the ball to feel that way and hope you've got a shot for a hail mary and again to the stadium is said    seconds so    seconds on the game clock team grant and he'll run out of bounds to stop the clock with    seconds on the ball after    you can do that one more time but from this spot in the field i don't know it patrick my holmes with a bad knee you're going to get it all the way to the end zone you bring davis wagon    chuck it as far as you can possibly no timeouts again like he said probably one more play to set up a depot lauderdale ran before he caught it nine seconds on the stadium clock we apologize for the technical difficulties and this is cutting it close but every yard helps the tick of the quarterback you you have to buy some time to make throws thrown outside again and incomplete that ball hit the ground so three seconds you've got one last play so what you'd like to do here is you're going to throw the ball in the field of pleasure you have to pitch it around they're going to have to basically keep laddering it see if they can work their way down the field because there's obviously not enough time in this game and patch my homes just can't put enough on the football to get it down the field from where they're at so last chance here for texas tech in what would be a heartbreaking defeat there's a flag down this perhaps is a free play our homes will load up chuck it deep to the goal line and it is kicked off it appears but again there's a flag down back at the line of scrimmage i think we're going to get to try this again and it was with the cane in yardage look what that ball fell i think he can get it to the endzone yeah i think you're done questioning how far i can throw with a bad knee right yeah you got everything into that room there are two fouls on the play both against the defense offside number    schools that penalty is declined personal foul wow in the past wow or    that penalty be reinforced we'll have one time down so brady the fourth personal foul of the day moves the ball to midfield for the last chance chris bradley at the very end of the play takes a unnecessary shot and now texas tech got the light and on time down the home said it his feet trying to get women the pop yet it's dead in the play can he get one off he does float it down the echo asking him can they make an open pencil picks the ball deandre he does the raven course it's book dr  dale he's ready to grant put on his way to become pc you survives clearly obviously not how you draw up no yelling      home just to get the ball off to be on during washington he does the correct thing and flipping it back the ribbon clark flips it one more pitch pitch their team grant you wish he could just thrown the ball back and kept it alive the credit the tcu defense for trying to protect the hail mary and then coming up and stopping the pitch around play wow i think i think we need a break bravo lament on the other side with more great college football\n",
            "patriot's moments ago bruce beck caught up with giants head coach pat shermer thanks bob final dress rehearsal tonight pat shermer what does a guy have to do who's on the bubble to earn a roster spot he's got to play well and i think it's the same every game come out here the place that you get make the best of them play good football and do something to catch all right is this an open audition for guys not only that perhaps want to make the giants but get noticed around the league i think every time you go on the field whether you're eli manning or a guy that just got here you're auditioning to be here i think that's the way i guys look at it they want to go out and have a good performance they want to do we can to help us win a game and then we'll see what the car you want to see what happens how important is specialties it's very important and we're going to keep a handful of guys just because of what they do on fourth down so we had a really really good game last week in terms of special teams and i expect another one tonight coach have a good game all right thank you bob from    to    we'll keep a close eye on the competition tonight back to you yeah it certainly is an anxious time around the national football league these guys reported to the off season program together they've gone through all the hard work and they know that    players are going to be let go one guy that the jobs will be keeping their eyes on is a draft pick for more we set it down a howard cross that's right bob the guy they're gonna be keep an eye on is lorenzo carter number    that's kids from georgia six foot five     pounds coach schumer referred to them as long what i refer to him as an edge rusher but the thing that carl likes about him is his ability to play in space when you're playing in a    defense or a    defense the linebackers get isolated a lot in this kid can handle it looking forward to seeing lorenzo carter and a couple moments ago the quarterbacks who were not playing tonight eli manning a twotime super bowl mvp and tom brady nearly won yet another super bowl last year    pro balls and a fourtime super bowl mvp catching up and we take a look at the weather here at metlife stadium in east rutherford new jersey    degrees winds out of the northwest at   miles per hour air feels a little heavy carl banks but it also feels a little heavy because there is a lot on the line for these young men when you think about the fact that for some this is the last football game they'll ever playing yeah and you think about about these guys have been playing football their whole lives and they've gotten to this point and for some of them they're going to be grateful that they were able to try out for a team it's a great story to tell others will be disappointed and try to hang on and find opportunities elsewhere this practice squads to be formed    member practice squads for all    teams in the national football league want to put something on tape that matters bill belichick in his   th season as a head coach of the national football league an incredible record with the new england patriots won a couple super bowls with the giants and i know he's someone carl that is near and dear to your heart he absolutely is he's a great teacher of the game marshall came to kick it off for the giants and over end kick can close through the back of the end zone for a touchback as we take a look at the starting lineups brought to you by wendy's the official hamburger restaurant of the new york giants quality is our recipe josh banks veteran robert thomas josh morel will start up front keep your eye on rayray armstrong and lorenzo carter tonight armstrong has done a nice job especially in third down defense and dante dion bw webb battling for that cornerback spot behind eli apple and generous jenkins danny etling starts at quarterback for the patriots and ralph webb takes the first hand off and gets knocked down after a gain of couple lorenzo carter in on the hit danny etling a rookie out of lsu seventh round draft pick started    of    games for the lsu tigers    percent completion rate in college so it'll be second and eight for the patriots on this opening series of the ball game webb takes the handoff get stood up and turn back by ray ray armstrong carl rayray armstrong in a sixty year out of the university of miami and coach shermer said that this is a guy that he really likes here he is here at the inside line they like him because he's so active he finds the ball gets off a block there makes the tackle he's quick with his decisionmaking comes off the field on this third down third and five for the patriots webb the tale by peddling the throw some zip on it the pass knocked away nicely by grant haley the rookie free agent out of penn state cornerback auditions are here wanna show up on tape here here looking forthe barrett cornerback he's playing on the outside but he's competing with the receiver brian allen in to punt hunter sharp who had that    yard return for touchdown last week against the jets back deep wobbly boot fair catch call for at the    yard line    yard punt no return so the giant offense comes out kyle a lot of the rookie fourthround draft pick out of richmond gets the start tonight will not see eli manning we will not see davis webb coach shermer explained to us the reasoning behind using little editing well he hasn't let's be honest he hadn't had a lot of reps i mean they'd been getting dead davis rare where all the reps practice and offseason so this is their chance to learn about him we start out of a one back set with wayne gulman the tailback the letter to throw on first down zips it up the middle and completes it to calise raymond gain of    on the play nice play action steps into it put some zip on it sets down in there climbs the pocket puts it right on the money good timing in the window there we'll set the giants offensive line for you chad wheeler is getting the start at left tackle first in    giants gauntlet is that a good camp across midfield into patriot territory here the starting lineups brought to you by whitney's the official hamburger restaurant of the new york giants quality is our recipe see nick backed in at left tackle they actually have chad wheeler now at left tackle and this is going to be a lot of mixing and matching giangreco and john jerry the guards evan brown the center giants trading brett jones to the minnesota vikings earlier this week means that john jalape o has won the starting job sharpen motion on a second and four gulman try to bounce out of a tackling gets slammed down by vincent valentine gained of one on the play wayne gorman knowing that he was drafted by a previous regime with a different coaching staff has certainly stepped up his game onto pat shermer in this preseason well i think he has i know he has the requisite skills to operate within a shumer offense because he's a past catcher he's an explosive runner you have to jump cut ability so he'll get into this offense third and four the letter with time zips it over the middle and the pass is incomplete tended for polly freeman good coverage on the play i'm not sure if that was one he could have secured he threw that one in in coverage the giants got the   yard pass play on first down unable to advance it any further cyrus jones back deep riley dixon the punt dixon acquired in a trade with the broncos been outstanding for the giants fair catch called for in size of    to    by jones   yard punt no return connor barwon checking out some pictures scoreless here in the first quarter on nbc   new york show us your giants pride tagged your gameday photos with hashtag giants bride on instagram or twitter if could appear on the screen during tonight's broadcast well let us first pass was a   yard as a khalif raymond coach shula checking things out carl banks coach schumer told us today that one of his pet peeves is that when guys who were starters are out of preseason games you leave the pads on throughout the course of the game show respect to your teammates who who have worked very hard with all year long yeah and that's part of the whole team concept bob you don't want your young guy i mean your younger guys looking at your vets with a little bit of resentment saying well you know we got the day off and you guys go out and all the downpours they want everybody to feel like they're a part of the team that all for one one for all mentality and as he said they're gonna be some guys playing in his fourth preseason game more snaps than they ever should he's getting the right snaps is lorenzo carter we're gonna show a little bit of what he does soon but we're giants fans can be really happy with that selection he's the plug you could call him the prototypical    linebacker and we'll get into that but he's got good hands good feet plays with good leverage patriot's pick up a first down on that last run appling to throw and he's got some time he's got an open receiver and it just sails it over the head of kj may  nd your receiver out of minnesota who's been full time and camped with the giants back in      did not play in the nfl sign recently take a look at lorenzo carter crawl elite athlete for his position productive versus running pass and you'll see that throughout his time here on the field outstanding special teams player as well at the university of georgia may emotion wept the tailback second intent to the patriots second offensive possession went three and out on their first possession may on the bubble screen a good corner support right there by chris lewis harris   near pro out of tennessee chattanooga no gain on the play that's another guy that was out of the nfl last year yeah trying to make his way back onto an nfl roster showing that he can read the play get there make the tackle every team loves the cornerback to tackle its period    regular season games spent four and a half years with cincinnati part of the season with baltimore third and tenth fret laying of the patriots fathers gets the pressure he gets the sack lorenzo carter work in that edge karl working the edge but here's what he does best he gets the edge forces the quarterback to step up in the pocket what does he do he comes back around makes the sack how did he do it he did it with great hands he never got velcro onto the tackle and he worked over matt tobin the veteran and with philadelphia eagle allen on the punt sharp from his own    hit and dropped immediately at the    yard line    yard punt three yard return flag on the play no referee for tonight's ballgame is karl scheffers one of the other things that the giants have been very good at so far on the prekick holding number    receiving team half the distance to the goal first down timeout corinne stewart reserves safety lorenzo carter pick it up the sack     to go on a scoreless first giants and patriots on nbc   new york giants preseason football on nbc for new york is brought to you by your local kia dealers visit kia dealers calm during kia's america's best value summer clearance event life stadium bob papa carl banks carl banks keys to the game brought to you by kia well you got a last call that means that this is the last opportunity to make this squad so guys have got to show up is only going to be five or six positions open you got experience is the best teacher you got a young quarterback who didn't get a lot of reps now he's giving experience and they'll learn something about each other coaches and players and in the special path they're gonna be guys that have to make this team as specialists wayne gulman has had a very good preseason with a nice run on  st that we welcome in the general manager of the new york football giants dave gentlemen who joins us here in the booth and dave first of all i think giant fans wonder how are you feeling right now you know i'm really feeling i really feel good dr  guar is just been amazing and the people at hackensack medical just and the oncology folks there have been terrific you know it's safe and it really is a team effort you know i wouldn't be here support she's giving you up to my wife and aaron and melissa and sam and rachel and my daughter honest so you know it's it's i feel great i got one more chemo blast coming up so i'll be in the hospital all next week and hopefully the final pet scan the end of october and away we go i'm blessed so coach week i mean i'm seeing dave i've been getting results you got a guy who you you felt comfortable hiring what about him now that you've seen him in action validates your decision to hire him as your head close to lead this team well you know it's really funny callen the bottom line is this is not a job for a childhood okay you can't be a child will be the head coach of the new york football giants in it it was really important as we were banging around talking to talking to other people yeah you know that we get an adult and i know people have made fun of it but it's true you know that understood what we had it would he and i had to get done and he stayed the course he's been great with the players he is very pragmatic about things it's interesting i tell people to pass it an offensive guy with the defensive mentality was very pragmatic he gets it he doesn't fall apart if a guy gets hurt he just okay this is what we do let's keep going cuz they're not gonna cancel the game on us you know so he's he's been everything i'd hoped he's been great with the players he's very steady very mature and you know he's obviously a guy that learned from his mistakes in cleveland and i'm i'm just thrilled to work it yeah i love what he told us today about you know team and even the guys that aren't playing the starters everybody wears your shoulder pads no taking that off we're all in this together and there's a lot of guys who have busted their tail all offseason the trying to make this team that won't show them that respect you showed odell beckham jr  something respect as an organization is week with the huge contract how important was it in your mind to get the deal done before the regular season started well very frankly i one of my goals was to eliminate distractions one of the things that general manager has to do is eliminate distractions he has to clear the decks so that coaches can coach and players can play and that was important to me very important and i just you know we all sat down and had a plan and you know frankly i spoke to odell before we started you know we were you know we chewed out of word and he was true to his and you know we get it we got the deal done and that's really nothing any fancier than that bob i mean you know it's deals get done when they're supposed to get done this deal was supposed to get done on monday having put together a roster obviously he's a key piece of that but you talked in the draft about taking the best player not necessarily falling in love with a need now you have this roster it's almost complete you got four or five spots open is it the best players or is it okay these guys have to fill a need here at this stage you know it's it's i've always believed that when you go and you're talking about the    yes    cut down i've always believed you excuse me you have to keep the    best players you know i've seen it time and again where people say oh i get plenty of plenty of linebackers so they trade away a line back and then the next game they get to guys go you know i just it's just we're gonna keep the    best and then we're gonna work the waiver wire okay in doing that when you work the waiver wire that might be one of the guys that may improve your    best exactly you know you people have to understand sometimes sometimes you can only improve incrementally but if you can improve then you take the opposite you know you take that opportunity any dylan well one area has been in the punted game with riley dixon he has been outstanding for you so far in the preseason last week special teams is a key component with the return for touchdown cyrus jones from patriots back deep to receive this punt and a giants are all over man no return dave you look great great having you here in the booth and we look forward to a great season and thanks for coming up i really appreciate it bob thanks so much compact right god bless points general manager dave gentlemen he is ready to go with that final    we'll check the flag here on the play and karl scheffers checking over things with coach shermer they said before you know they you send some food over to dave's employees worrying about the little things he has in the illegal formation receiving team a player covering up the snapper my penalties been declined first down so the giants battle by the penalty great have it dave gentlemen he's looking great that one last round of chemo coming up and he's ready to roll this season giants preseason football on nbc for new york is brought to you by toyota the national clearance event is going on now toyota let's go places no score here in the first quarter at metlife stadium these team has had the ball twice patriots on their third offensive possessions some good thoughts there from dave gentlemen about how he wants to put this roster together for pat sherman james better the defensive coordinator and what he expects out of his team that let me throw on first down giants come up and support the run nicely as chris lewis harris made the tackle on ralph webb will check the flag personal foul number    defense for lowering his head to initiate contact    yards with the attitude the end of the play automatic this is this area of emphasis watch the body posture that is what they're trying to stay away from yeah both guys lower their heads and you know it's you can't put the crown but the helmet anywhere in here but you know when you lower your you shoulders your head goes with it but that was one i could see justified because the crown of a helmet hit the offensive player web on the hand off his flags come flying from east rutherford secaucus and hasbrouck heights armstrong and mcintosh aguar on the tackle robert thomas just dominated in the middle of the defense there he ant the i don't know if it was the center of the guard playing in the backfield he really got good extension personal foul chop block number    and    offense holding number    defense here repeats his guy and pushes him almost into the back keeps pursuing and gets in on the tackle tell you what these young players in this defense it will give you a reason for optimism that they're going to be good for years to come i was robert thomas third year player out of arkansas appeared in    games last year aj francis got called to the defensive holding that legs pass complete than the giants right there on the spot mark herzlich made the tackle on will tie the former new york giant holding it to a gain of four let's take a look at the quarterback comparison danny etling at lsu in two seasons     twenty four hundred yards and kyle a letter the giants fourth round draft picks     thirtyseven hundred yards    touchdowns in his career threeyear starter at richmond well odell beckham jr  has got a new contract curl but one of the things that we've kind of seen is he's got a lot of fun with a lot of fans during the games you know before the games during warmups yeah he he is a fan friendly player and then he loves working with young fans these young kids you can see him he takes time every single game to spend time with the young payne second and six avoids the sack carter got the pressure and then complete sit in the giant territory purrs looks going to get flagged i think for lowering his helmet is devon lucy made the catch this might be a second penalty on the giants now first let's talk about lorenzo carter lauren the head to initiate conda see that rayray armor sold out the lancet carter force the pressure herzlich low and his head yeah you can't you just can't do it any time they see the crown of the helmet going first and that is quite frankly it's dangerous you need even you lower your head you keep your you keep your neck up and just try to lead so you can see your target when then it starts pointing towards the turf you're putting yourself in danger well karl even on the youth football level i mean it's see what you hit and really in that situation there's looks not seeing what he's hitting yeah i mean that's just it simple as that i get he's trying to make the tackle but you got to make the tackle your head up and link back personally got some pressure and a passing complete nearly intercepted by ray ray armstrong pass intended for will tie the former giant so    yard penalty against the giants i think both were justified i think this is it's very important now that they're starting to get it right the intent of the rule has always been clear in terms of leading with the helmet but it's putting an emphasis and making players focus on safety which is the way i learned to play the game second and tanyka giants third ferro on the handoff take some contact picks up five before he's dropped on the play michael thomas veteran special teams eights made the tackle so it sets up    tudor england here in a scoreless first at metlife stadium giants and patriots wrapping up the preseason giants open up their regular season here at metlife stadium a week from this sunday against the jacksonville jaguars pharoah on the handoff flags fly as he spins ahead and gets the first down with extra effort couple missed tackles but we'll check hands hands to the face number    defense fiveyard penalty will be added to the end of the play automatic first down josh morrow the  th year pro out of stanford call for the penalty tomorrow right here gets his hands extended and gets it right up under the    reports his eligible face mask for is an eligible receiver call you know we talked about the fact that the giants have really done a good job of not committing a lot of penalties and three big ones on this drive well this is what you get too and you guys don't have that don't get a lot of reps in practice either these guys are out there just trying to fundamentals dude anna angela hunter avoids carter and gets dropped by dante dion he was trying to hand it off to ralph webb but clearly they were not on the same pay and the renzo carter was right there on the spot look at the read redirects pakis long gets in the way that's folks if you want to know a prototypical linebacker in the skill set the record requisite skill set this is the kid that hazzard athletic tall agile mobile hand down in the dirt standing up he does just about everything they're asking he's going to get better he's got to get stronger at the nfl level but you can see he's got great explosion robert thomas got the first hit on that run by ralph webb prochik three minutes to go here in the first quarter no score thomas sent to the nfl is an undrafted free agent with the redskins in      signed by the giants in      third and nine for new england after giants    play clock down to five new england and bill belichick call a timeout hard to believe it's one week from tonight next thursday football is back it'll be a party in philadelphia when the eagles raise their first ever super bowl banner before taking on the atlanta falcons the new nfl season kicks off next thursday      only on nbc the big question carl will carson wentz be ready looked early good early part of camp then they kind of backed him off a little bit yeah towles has had his struggles they figure it out in philadelphia and i think they approach this injury with wince the right way and it's going to be a process recovering from a knee injury whereas a mobile quarterback he probably won't know what he can do and the team will know that he can do until he's under true fullspeed duress prana the coverage there by chris lewis harris yes stays in his backpedal good position did not let the receiver back in that's great body position in knowing where the ball is going to be thrown yeah it it loses coverage after the receiver face master yeah just held his position stephen gostkowski the patriots alltime leading scorer in points fourth round draft pick in      we tried a    yarder he knocks it right down the middle so the patriots strike first with a three nothing lead on the gus kowski field goal hotels not playing tonight but he's playing giants preseason football on nbc for new york is driven by the has toyed truck celebrating    years of past with more trucks this year than ever before get alerts at hess toy truck calm back at that life stadium patriots cap off a    yard drive stephen gostkowski a    yard field goal and the patriots lead the giants by a score of three to nothing here in the first quarter bob papa carl banks who's backing howard cross metlife stadium oskowskis on the kickoff sharpe back deep and he will take the name for the touchdown now aletta the rookie fourth round pick out of richmond getting the start tonight first pass of the night a    yard completion with that drive wound up stalling in patriots territory probably have a little some good stuff going as odell beckham jr  completes getting the night off yeah when you're that type of receiver he's got to be wearing something though oh yeah the shoe companies do a good job of making sure they get their product on the best is welling he's one of the top k did not beat op hey football player of a face and boys throughout light up to had a nice catch what we were talking to dave gentlemen with a reception there of    yards and a first down with the giants i mean odell beckham jr  with that five million dollar a year deal with nike the first of its kind for an nfl player yeah i mean he's that they think that much of him and his talents are art speaking the language that they understand so they want to make sure today a company like nike wants to be associated with pete that is going to air it out for philippe's raymond under through it the past intercepted by jc jackson jc jackson had great position lu l has got to lead him more into the sideline and this is a play that we saw in training camp that he threw very well but you can see that ball started coming back to the inside and he's got to keep that to the sideline so if the receiver doesn't get it no one does good coverage by jc jackson a rookie free agent out of maryland on relief raymond so the ladder throws the interception and the patriots will take over first and    at their own    yard line that they can throw on first down and that passed nearly intercepted by the giants and that's chris lewis harris you should have had that one too great position ran the route for the receiver do is just keep running under it like he was the receiver call that interception thrown by lolita the first interception thrown by a giants quarterback in the preseason wow this is you know interesting you say that because the efficiency rate of sherman oaks quarterbacks has always been high so obviously it's something about what he's teaching in the decisionmaking process and how they execute you think about two years ago sam bradford gets traded right at the end of camp from philadelphia to minnesota to take over the starting quarterback job because teddy bridgewater had gotten hurt a couple years ago and bradford winds up leading the league in completion percentage yeah i mean there's something about the principles of this offense where the decisionmaking and where he wants to be football's thrown leads to degree deficiency at links third and a pass intended for paul turner incomplete and he sent the high goal for eli manning the be in the   s and he lives never been that high of a completion guy eli's one of those quarterbacks that doesn't worry about the quarterback rating and what it might be roll the ball away and take some chances but in this offense you're out a lot of opportunity for a lot more success sharp launches and hit the ground and bound out of bounds in about the    yard line    yard punt here's the deal i'm manning and the giants will face in their first four weeks of play the jacksonville jaguars come to metlife city and then here on nbc for new york wouldn't be the start of the season without a trip to dallas on sunday night football they stay in texas they won't stay in texas but they'll be in texas the following week when they take on houston and then home to take on drew brees in the new orleans saints so not an easy first month all playoff caliber teams two of which were went deep into the playoffs johnson start first intent around    raymond and motion raymond the endaround takes that abounds by jc jackson but a nice pickup you know jalen ramsey did an interview with gq magazine where he basically ripped every quarterback yeah when he was asked about eli manning eli it's not really eli i think it's so dally i won't say he lies good i'll say oh don't makes him good so he'll i was asked to respond no comment who what jalen ramsey doesn't realize is that eli manning won two super bowl mvps while dell beckham jr  was in grade school and then in college yeah and so wasn't on either team so was ramsey and maybe ramsey wasn't watching but you know he's a talented kid trutv characteristics of a fsu cornerback you know beyond sanders started that trend and he's in the same law he's an excellent football player he likes to talk and only way to shut it up is to go out and compete and get an advantage over him but he's never gonna stop talking he believes in himself well i also ripped rob gronkowski other patriots it you know they put a mic in your face and you talk i mean the uija banning of the giants trailing the patriots three to nothing in this final opportunity to impress threw one here at east rutherford giants preseason football on nbc for new york is brought to you by bob's discount furniture proud to be the official furniture store of the giants here at metlife stadium the patriots with a three nothing lead as we start the second quarter john greco has moved to the center spots to the giants we'll let up a little misdirection and travis rudolph makes the catch it gets the first down let's take a look at the first quarter of stats brought to you by bob's discount furniture some of the numbers in the giants favor for penalties huge keying that patriot drive that led to the gostkowski    yard field goal penalties are something that especially those those helmettohelmet deals they've got to get those correctly that changes bill position the letter to throw on first down it completes it to scott simonson from red bank new jersey and middletown high school as we check in on the sidelines with howard cross you know guys when you look at these guys you're trying to figure out who's gonna be around who's not i'm looking at the tackles and chad wheelers ago we got like five starts last year played in    games he's a guy who can really help himself out this year he can even compete still maiming for starting spot chad wheeler saunders an undrafted free agent last year at a usc he's at left tackle chris scott is at left guard out of tennessee john greco's at center john jerry the right guard and nick backed in the right tackle simmons on the handoff and he takes it to the    to gain of five on first down and karl you know again each team has to cut    players on saturday a lot of guys are going to be on the street and this is a big question mark for this team you got solder and you've got flowers right now as your starters but who's your swing tackle who can you trust and it very well could be wheeler because he is a guy that they're developing and he looks like he's making progress from one year to the next he could be that guy in waiting is howard said second and five at the new england    for lalettan and the giants simmons runs out of a tackle does a nice job of avoiding that initial hit nicholas grigsby got in there in a heartbeat there is a flag on the play now jalen simmons robert martin the newly acquired jerel presley all these there's no third down so they pick up the flag and that'll set up a third and three for the giants the other running back room is clouded right now those guys are competitive you know you have stewart you have gone in yet barclays then after that he's competing he's gonna get the next spot and it's gonna be a guy who can play special teams in more than one special team can you be concerned that barclays hasn't played since the first preseason game no no i think you know for those who still advocate playing your best players in the preseason weigh that against the cost of injury that's a good run and catch they're catching run alba edit ow with the catch and run here's a guy that really flashed carl early incant he's been quiet but he makes a play there    yards on third down for the giant touchdown yeah he's a guy that did flash now he's showing that same flash on this play never gave up on the play made a guy miss at the end scores the touchdown been inconsistent after the first you know week and a half a camp but looks like he's trying to be good make a statement here get that resume out there was on the practice squad with jacksonville kansas city and the giants last year played his college ball at syracuse we made a few people miss marshall cane misses the extra point so the lead is six three kala letta finding the right guy on third down odell beckham jr  saying that's the way you finish giants up    in the second giants preseason football on nbc   new york is brought to you by metlife the official insurance company of the giants papa carl banks bent life stadium pompe at a towel with the    yard touchdown catch on a third down capping a   play    yard drive and uh you know we talked to coach shermer about his receiver depth chart yeah and obviously sterling shepherd odell beckham jr  cody latimer said good battle is for the last spot and tonight guys gonna get an opportunity to make a play in yeah but he's got to be a special teams got to be you know again i will say the mystery that is roger lewis jr  i am perplexed as to why we have not seen any of them in the beginning meaningful snaps and the police season and even here in the last preseason game and i hope i'm not lonna that they wanted to hide him some winter but what we have not seen a lot from him and he was a contributor last year when everybody went down so he's got positive film on on on record but i just don't understand why he hasn't seen any of the the field in meaningful times to really show if he can play funny mohammed on the carry time for our player interview brought to you by dunkin donuts america runs on dunkin as we sent it down to bruce beckman well we've done this for the last    years or so the last preseason game eli manning talking about the pulse of the team where you are heading into the season what do you think yeah i was super very excited right now and it's been a good camping a good preseason you know kinda everybody's healthy everybody's gonna be in place and you know looking forward to you know finishing up tonight but then you know having a great week of practice next week getting ready for jacksonville what does it mean to have odell signed well if it's good then it's good for him i think he's handled the situation very well you know he has not made it as a distraction for the team and obviously it's been some talk but he's been in practice he's been doing everything and i think it's great that you know he's got signed you know he can just worry about playing football have a great week of practice and going through this week one that's healthy and ready to have a great year eli you have a multitude of weapons this year including say quad barkley and you've got old dale beckham jr  you've got sterling shepherd so how are you gonna keep everybody happy and how are you going to distribute the football well i think you keep everybody happy about winning football games and that night that will help a lot of the problems and obviously say kwan's i get his runs oh doesn't get his catches and the other guys as well you know there's gonna be opportunities for everybody have to get open and and it's gonna be hey get open get open on time and get open when you're the first read because we got other guys who can get open quickly and going through progression so excited to have all those options you brought nate's older over on the left side of your offensive line how do you look at this group in general which has been much maligned over the past couple seasons yeah the dolphins lines done a great job all training camp and just having a great push in the run game and also protect you well working well together picking up glitches having extra meetings to go over dates make sure on the same page so you know looking forward to working with them all year and i think some make a big difference you excited about the opener and ready i'm ready and ready good going and you know be back here in the stadium with the home crowd and and all the all the atmosphere that they bring week one and get this season kicked off what did you talk to brainy about before the game oh you know nothing nothing much just you know no time a long time and you know kind of cross past this summer with them a little bit so just just talking just like some you know some old quarterbacks are talking to times super bowl mvp eli manning beginning as    season eli thanks for coming by good luck hi bruce next live emily let's go back upstairs well good stuff from eli and obviously anxious and ready to go here in      who's beck loves those selfies yes he does there's tom brady who was old so close epic performance in the superbowl last year's they tried to go backtoback and threw for over     yards but it was that fumble late in the game that warded one last comeback for the patriots yeah and everyone keeps talking about his age and he just keeps defying their perception of what a    year old quarterback should look like and it's because that organization has done a good job of evaluating his skillset and constructing an offensive system that works for his skill set in putting the players around him to make sure he can continue to have success carl with julian edelman starting the season on suspension tom brady who has had a lot of different revolving cast these will be his top four receivers for the first four weeks chris hogan    catches     yards pinero patterson former firstround draft pick of the vikings is more of a return specialist he got the phillip dorsett firstround pick of indianapolis he kind of washed out now trying to make his mark with new england of riley meharry illegal shift to players in motion prior to the snap with guys getting cut by what some guys still on the street who knows maybe somebody else is coming in yeah he'll find the right mix of players i'll keep in mind elliman this last year with a knee injury they went through these what they had amendola who's now in mind yes but they were able to lose key players and still keep moving in the right direction so i never doubt their ability to plan for the unplanned they do that better than most teams in this league second and    leagues past incomplete his try kept alive by a romeo of quora personal foul penalty john's committed a couple of those patriots will open up at home against houston they're used to playing next thursday night it's weird they can play on sunday at one o'clock then they're at jacksonville and rematch of the afc championship game sunday night football at detroit and then miami comes to foxborough third and    for the patriots here in the second giants up six three fouled the tailback may on a wide receiver screen missed tackle by dion and he's got the first down of the giant   yard line well you know one of the things about dante dion is his size he's only five nine     you've got to get this receiver when you get there you got to wrap him up you you're there before the blocker does get to you you've got to be able to get them down at least slowing them up enough with contact for the guys on the inside to rally to help you tanith giant    for at length takes the check down pharaoh stood up by thomas and then davis slams him down short of the first down it's a gain of six giants fans your opportunity to be a part of the tradition become a giant season ticket holder and experience the excitement of new york giants football to become a season ticket holder call            tanner go to giants comm for more information and your giant on the field that's wrong avery moss check on his status giants up by   here in the second giants fans show your true colors with taco bell's big blue spirit flag it's a great way to display support your favorite team boys and girls club make sure to get it at taco bell today great cause that the giants have been involved with for years the boys and girls club in those taco bell flags raising money back fans we even him proudly here at metlife stadium robert abramoff walked off under his own power second and four etling missed tackles by davis and mohammed's got the first down car let's go back and see what happened to avery lost the fifth round pick last year of youngstown state yeah they're checking him out because he had a little jammed his knee there too the turk jammed his foot into the turf and grabbed the back of his leg so we don't speculate on what it is but it's good to see him walking around anyway and he's running first and ten for new england remember this drive stayed alive because of a personal foul penalty on the giants mohammed engulfed he tried to take it to the outside by andrew out it let's set players on the field right now for the giants jordan williams secondyear man out of tennessee has come in with moss injured oak whare at one defensive end spot giants have tyrell chavis at one of the defensive tackles along with isaiah lunsford herzlich davis the inside linebackers at lane gonna go up top and that pass incomplete as grant haley was on the coverage good job by mark herzlich making him throw it higher and changing the trajectory of that bro these hairs are coming gift the hands up makes him throw it up over an arc a higher arm third and    from the giants    get way through the second quarter giants in front six to three at length back up top got a deal did he get the pic yes so great ball skills their ball in the air adjusted his body kept his feet inbounds look at him he's tracking tracking catches it over the shoulder secures it body part hits inbounds that is a good pick for dante dion try to make his mark tonight giants preseason football on nbc for new york is brought to you by ticketmaster get ticketmaster verified tickets with nfl ticket exchange look at the legacy club here at metlife stadium dante dion with a beautiful interception and the giants take over first and    at their own  yard line leaving    here in the second we let it with some pressure gets it off to simmons  amp  grigsby drags them down car let's go back to the interception by dante dion yeah gets into it recognizes the route hits back at the quarterback tracks the ball all the way did a better job than the receiver did on that one bobbled it but gain control is his body hitting inbound so dante dion with a big play there for the giants second eight for kyle oleta the rookie out of richmond who got to start tonight davis webb will not play now it's the fourth quarter back expecting to get some work simmons slams ahead for a couple gain of five on the play grigsby in on the tackle for new england don't have a little fun in carlton after that let's face it horrible performance by davis webb in that first pre action game here against cleveland he certainly has responded to the challenge he has and i think that kind of restored his own confidence and the confidence of his coaching staff that the games not too big friend    willetta gets decent protection and unloads it to travis rudolph who's got a first down out to the    yard line carl gain of    but let's start with the offensive line and the protection on the play yeah good protection got a little bit saw the the late blitzer he's sleeve a little to his right and was able to keep his eyes down the field simmons on the carry slashes ahead for about three or four out of town scores brought to you by geico    minutes could save you     or more on car insurance dolphins with a    nothing lead in the second against the falcons jets with a three nothing lead over the eagles big news for the jets trading a teddy bridgewater and baltimore leading losses ben simmons out to the    yard line a gain of five on the play that will set up the third and two for the giants don's going a little nohuddle uptempo on this third and simmons gets the handoff and thousand out of first down carl we saw him in the early part of training camp first preseason game he finishes his runs as does robert martin and obviously jerel presley we saw last week a lot of encouraging things about the different backs on this team well you're starting to see again this is the first time we've seen a stable of running backs in the giants backfield in a long time and you can see just the upgrade and talent carl roger lewis in at receiver split to the top of your screen robert martin and a tailback on a  st and    the left buddy going up top he's got polly freeman in the over through illinois had a couple of steps on the defensive back putt millena too strong on the throw yeah and this is again learning experience a great release there by raymond but learning experience for him he young man a lot of game experience he throws a nice football in practice now he's got to take that transfer that skill and that confidence into a game situation that's uncontrolled giants have moved chris scott to center really remains the left tackle second channel of play fake the letters of time control another default has another receiver that's raymond who can't make the catch while floated in the air carl so you look at the negative the throwers haven't been there the positive is raymond is making some moves yeah i mean he's making some moves his right that's too deep shots they took with him ball hangs in the air a little too long oh boy he's getting open and that's something that this coaching staff will say hey he did this part he's showing up on film could make the case that jc jackson should have been flagged for pass interference because he grabbed raymond as the ball was arriving didn't hit the ball galette   of    for     third and    good coverage downfield the patriots get the sack from trent harris the rookie free agent out of miami the carlo's are opportunities he had not one but two chances to throw long touchdown passes yep and it winds up becoming a sack and a punt well one but one was thrown too far the head the other one hung up like a bit of a helium balloon dixon in the punt cyrus joing back for new england joan did not call for a fair catch and roger lewis makes the tackle you got to do when you're the fourth or fifth receiver you got to do stuff on spec yeah early years and the gunner just out runs this guy he's trapped in the football settles down mate to taco when you're trying to beat a fifth receiver you've got to be able to make those types of plays carl how many times do we see guys get down the field but then not hit themselves in a position to make the tackle and luis did that there yeah he's the gunner but he kept leverage and kept everything to his inside and made a great tackle roger lewis again not part of this regime brought in by another coaching staff another general manager having to prove himself well that shermer and his staff and the thing is also and this is no knock on coaching or anything but you got a coach a receiver coach in from denver he's got a few guys that he knows from the denver broncos that are on the roster so he's giving those guys a good look but i tell you roger lewis has put some pretty good stuff on tape so if he's not on this roster i'm assuming he's going to be on another nice play by andrew adams to make the tackle on that one play roger lewis an undrafted free agent a couple of years ago that's    says it takes us to the twominute warning giants with a    lead can you help on offense can you help on special teams that could be the difference giants preseason football on nbc for new york is driven by the hash toy truck celebrating    years of hesse with more trucks this year than ever before get alerts at hess toy truck calm kyla letter checking things out with davis webb couple opportunities to add to this giant    lead patriots have a second and nine at their own    then yet laying the rookie seventh round pick out of lsu he's gone the whole way past completed but no gain on the play chad lewis harris makes the tackle on kj a good job limiting that to zero of yards have to catch well it's labor day weekend college football kicks off with a storied rivalry after four years a hiatus fighting irish or the wolverines collide for a primetime showdown in south bend number    michigan number    notre dame's saturday at      on nbc it's always a big deal when notre dame plays in primetime probably see john jalape o number    winning the starting center job to the point where the giants actually traded brett jones who was their starter last year if the western richburg got her to minnesota and jalape o has sort of delivered a secondyear player out of florida entered the league as a sixth round pick of the patriots in      is bounced around on practice squads and has earned himself a starting job yeah and there's a certainty honestly profile to this offensive line there are tall guys he's another interception in the making at lynx throw nearly intercepted by dante dion as he and great coverage on devon lucene but they're big tall guys on this offensive line and it's it's it seems like that's where he wants to be maybe that's good for the pass protection keeping guys away from the body and brett jones is a smaller guy hunter sides we can say technically very sound but these gone with the coaches staff has gone with more more size that i would say on the offensive line by an allen a punt moving kick belief layman from the giants    taking the wide saw raymond flag on the play as he takes it out across the    there was a   yard punt    yard return raymond had a big    yarder last week against the jets that set up a giant score raymond's gonna keep his resume out there he's making plays in each game he's played in in special teams sent some super illegal block in the back knee off a number    return team   yard penalty first down calvin munson who started five of    for the giants linebacker last year fighting for a roster spot gets flagged and you see the block right there and hit the guy in the back sure karen not even debatable so raymond had the   yard punt return last week had a    yard catch earlier tonight and blew by the corners on each side for what could have been huge touchdown catches the letter not accurate with the throws coming up at halftime we'll take a special look at giants hurricane maria relief effort in puerto rico you don't want to miss that and i also should point out crawl on that third down play and you can see him sitting there on the bench number    avery moss was back on the field so you remember he had injured his knee hobbled off we saw him doing a little running came back out on the field for that third down play yeah that's good job by him and ensuring the coaches that he's okay and he knows that he's fighting for a job so he didn't want to be there saying well i'm injured i can't make the team he's going to give it everything he's got good for him injured patriot on the play that's aj more backup defensive back a rookie out of ole miss undrafted free agent because it's    jane warren and you got picked off by one of the giants i think it was leonard johnson some multitude of things that could happen there ribs shoulder sevens on hand off to the blindside shot you know we were talking in the break about the patriots wide receiver situation as we look at this game haven't seen a receiver get behind anybody yet in this game i know they're not playing their starters before it guys they know there are some opportunities that white receive right they haven't gotten behind anybody in his giant defensive backfield second and seven the pass for hunter sharp too low and you start sitting anything i won't believe raymond might be catching bill belichick sigh if he doesn't make the giant roster at little short term solution yeah they've done some nice things with small shifty receivers over yeah it works for tom brady too because he can get the ball out of his hands with those guys running those quick routes see devin mccourty and jason mccarney played their high school ball at st  joe's high school in montvale jason my son is a free agent to join his twin brother maleta avoids the first pressure and then nice awareness of giraffe drop the third and seventh pass would have been a first down adams has a couple catches in the game but that's a big third down drop they're after the quarterback did a nice job karl of avoiding pressure oh that's too bad to watsonwatt once he gets out of the pocket but watch when he shifts his hips to get look at how he gets his body back towards the line of scrimmage to make that throw that's a heck of a throw there oh you know the other thing for a young rookie quarterback he kept his eyes up fieldhouse rusher started to come nixon apart jonah's ranging all the way back to his    jones can't get to the outside nice job by t davis backup linebacker    yard punt   yard return with    seconds to go on the half of the giants in front    davis a rookie out of tennessee chattanooga played safety and linebacker in college he's one of those tweener tight bodies that fits in this    scheme but can he give means he can move around he's got a skill set obviously if he's playing heart safety should have some cover skills that thing on first down nobody open avoids the sack and then slides to safety is mabry moss was chasing him from behind and davis misses the tackle there gain of    now to be able to tackle in space to open field tackle inna patriots with two timeouts remaining aunt ling under pressure boyd's another sack and then gets slammed down boss kept his pass rush alive got off the block in minimize the game think isiah lunsford missed the sack previous player who's your linebacker not used to seeing    missed tackles well you wore proudly yeah you got to make that tackle well that's a quarterback one of the great performances ever in the super bowl super bowl    everyone remembers phil simms    of    the car would yep    solo tackles in the game yep the goal line stand could have easily been the envy being part of the giants ring of honor and all that matters we got to win giants first ever super bowl win      season second and eight middle the feel fat digby out of the second pick both of those interceptions were based on good fundamental technique renzi runs around here for the wide receiver again that guess when you play against the likes of sterols and shepherd here he is in the slot watch and read it runs right up under it heck of a play here an the route for devin leucine you got a cover odell beckham he was a great route runner sterling shepherds a great route runner every day in practice some of these routes look very familiar or easy to cover having to chase those guys around all training camp you know and he's one of these really likable guys the teammates his teammates really likable he's got an infectious personality a little hamstring that kept him out of some of the action in his preseason and you know guys are beaten for willetta he's root for better protection and he gets swamped you need to hit get down when that contract hits and hear me keep those plays alive eric lee got the hit i will let it gotten start sink one barclay getting the night off    yard touchdown pass the difference giants up    at the half back at metlife stadium here on nbc   new york giants with a    lead over the new england patriots at the half while a couple of years ago three to be exact guys play the preseason yeah i know viruses but none of those cheap cakes sliding right off so you had your birthday yesterday i going wish you happy birthday so we're we've got yeah big time because we've got kelly banks you can bury girl in new york banks kelly banks hey you oh how about you tilted because look i don't want to drop it hold on there you go happy birthday carl carl of course you unveiled the start of brand and brought it back to life you wore it as a player and now you sell it but happy birthday buddy thank you you haven't reached your number yet though i have not no that's a good thing that's a good thing all right kelly what we can't wait to caroline have a little at me thank you so much see i need cake assistance now your thoughts on what we saw in the first half of the giant what we saw some guys that really started to show up dante dion did a thing louella louetta showed some poise he showed that he's gonna have to take a little more a few more reps to become nfl ready but you can see the mechanics were their eyes down the field when he's moving obviously he's got to calibrate his passes but he knows what he's doing out there lorenzo carter had a sack 'that was a good thing in callie freeman did some nice things at the receiver position even though he doesn't have a lot to show for it he put it on tape that he could beat man on man coverage absolutely and he is back deep to receive to kick off the start third quarter giants won the coin toss they deferred to the second half are we cutting the cake well we will raymond played his college ball at holy cross answered the league is a hundred free agent with the denver broncos in      stephen gostkowski set to kick things off and while the regulars first line players are all thinking about the seasonopener there are a lot of guys in this final    minutes of football that are fighting for their football lives and carl you know when you think about it think of the funnel right all the kids that are playing youth football that we're out on the field at halftime and get to high school and you make varsity you're fortunate enough to go on to play the collegiate level major school or maybe a smaller school and that funnel continues to get smaller and you think of how many guys that were great college football players ever even get invited to the nfl and now over the next    minutes there is some young men that are playing their last football game of their lives yeah but they'll be grateful for the journey because which you find out at the pro level and i'm sure if these young men get older had families they'll be telling their kids hey i was great in high school i was all town allcity allstate allamerica i made it to the college level i was a standout i got invited to the giants camp i made it to the last cut but you know what there are some guys that you see there to go into the hall of fame that guy odell beckham won much i can do he was at another level zach caron is in at the left guard spot for the giants the right guard is evan braun the giants have victor sulaco in at the right tackle and chad will remains in at the left tackle yeah you think about like playing youth sports as carl scheffers will give us the call and you know part of head injuries in the league being proactive there's a spotter up in the press box an independent spotter who can buzz down to the official if they feel that a player sustained some type of head injury or head contact marquise flower is being taken off and you saw carl scheffers point to his ear i mean that he was being buzzed down and communicated now they'll be independent neurologists on the sidelines as well and he'll go into that tent and they'll do a quick check to make sure he is safe well they see unusual contact and the guy slow to get up it's player safety second and    valletta layman can't make the catch as he had jc jackson all over his back and you know just talking about that funnel again one more time crawl if you think about it because i know a lot of people say these guys are not that good or whatever if you think about like people that are listening that played some sort of sports in their hometown mmhmm think about like the best athlete you ever went against most of these guys that are on the field right now we're better than any best athlete you ever played against and they and they excel against the best they've ever played against in college because when you get to college you got the best of that class is where the ladder goes up top garage louis nice play interception by jc jackson he has really got away and then he throws that ball to perfection in practice we see it all the time but you can see with uncontrolled conditions lewis has his guy beat he's got to lead him to the outside got a trust that the field is still the same width as it is in practice so let me ask you this karl we saw khalif raymond play defensive back on an errant throw so in that situation as well let it laments the second interception tonight did lewis do enough on that play to turn into a defender he's too far here the ball was underthrown i can't without to see it again but it looked at appear to me that he couldn't have gotten in there to stop it ralph's web on the carry takes our contact by shawn chandler that's gain of nine my guess is if it was a       ball they would've been fighting to catch it but lost beyond underthrown and inside will let a second interception thrown tonight but kind of under throwing and drifting and don't despair young man welcome to the big leagues you know they're not gonna cut you out to this game you were drafted you just gotta get up to speed web gets the first down for new england have the giants    one more look at it here so luis clears the receiver their balls inside and on the throne not sure gets him to the ground not sure he could have gotten in there to break it up but you know this is welcome to the big leagues i know he's got a good skill set he'll learn how to make those throws he's done them in practice a thousand times here in training camp so he's just got to trust at the field of the same width the lights are a little brighter at night he's got get it out there and give as we seen as a chance first and    webb picks up a couple and avery moss on the tackle as we sent it down bruce back this interview brought to you by dunkin donuts america runs on dunkin bruce here's john halla bo he's the giants starting center this year and first of all what does it mean to you to get this kind of commitment for the ballclub oh man it means a lot you know i worked really hard to get here to this point and now that i'm playing the center i take it i take this job very seriously and i'm just excited for the season so brett jones was traded but you guys were so close you were the best of friends he actually taught you the center position how do you look at it oh man i'm just grateful for him as a friend first and you know i'm office is grateful for him helping teaching me how to from the very basics the stands and snaps to understanding the game so hats off for bret and yeah he's a really good friend of mine you've played guard you've played tackle now you're playing center if they asked you to play tight end can you do that yeah whatever the codes want me to do and they feel comfortable me doing and i can prove i can do it i'm going there do it what do you have to continue to work on because you've only played this position since      i think i can just always improve my game in all areas to be honest you know never we can never play a perfect game so i'm just still chasing that perfect game with technique snaps you know making the right calls and ultimately being productive patriots are driving thank you my friend thank you first and goal for new england webb stood up no game let's take a look at the pass play to kj may as entlang put it right on the money and beat grant haley the helis playing outside technique middle of the field is wide open for some reason andrew adams i'm not sure if he came up short on that or not but no the fool it's hard to defend from from the outside in i mean this got to be if he's playing outside techniques something's got to be in the middle you've already played the wrong technique little pass for webb he's in for the touchdown rookie ralph webb scores up oneyard touchdown pass and the patriots regained the lead kyle just going back to that deep ball again it did look like the way haley was playing and he was expected safety help and i wonder if as etling was flushed out of the pocket the center got the the centerfielder got little nosy well the center fielder is your last line of defense he can he's got to count on ten other guys to make that you'll see the outside technique here and but then look to safety vacates the middle of the field that's a big one deland to thin there and i was andrew adams we got caught peeking the patriots gained the take the lead back on the    yard completion and then at lling   rookie free agent ralph webb out of vanderbilt giving tom brady something to cheer about patriots back in front this copyright announcement was brought to you by the law firm of mccarter and english llp providing legal service to the new york giants for more than    years from tech startups to fortune     companies mccarter is the counsel of choice for leaders in the global marketplace find them online at mccarter comm great look at the george washington bridge and metlife stadium on this friday night thursday night excuse me the final preseason game of      they sold her the former new england patriot watching his former squad take a     lead here in the third cleef raymond to receive the gus cal speed kickoff and that's the touchback car let's go back to the big    yard pass play yeah single high safety he's got he's got to play everyone has to push everything into the safety quarterback brakes to pocket safety can't get nosy he's got to get back he's got to be deep as the deepest because everyone's sending their man into you and cy safety and then they leak to back out munson late get over for the score and you know there is a there's an opening at the safety position now it's tanny in a quarterback for the giants fourth quarter back on the roster completes it to scott simonson let's go back to that because landon collins we know is the pro bowl safety but there has been a rotation at that free safety spot it looks like curtis riley right now has the job darian thompson who started all    games has missed a lot of action with the hamstring it's more than he's actually been available to the team but angela adams is a guy he's gotta trust his techniques when he knows he did to see the beat guy he can't let people get behind him to the inside martin's got a first down on a nice run and could hole up front who left tackle in for the giants is malcolm bunch gain of   for robert martin the rookie free agent out of rutgers the leta's night is done a couple interceptions tanny played his college ball at monmouth in illinois answered the league is a free agent in      with kansas city as barker takes the carry there tanny has been with kansas city dallas cleveland tampa tennessee buffalo indeed back to tennessee was on injured reserve with the titans all of last year's    years of age jalen semanas checks back then panic down the white side and in and out of the hands of hama at a towel who has the giant only touchdown of the night quick flash buy at a towel needs to be consistent he could be a candidate i don't know if he can't go back on practice squad game yeah he's on the practice squad last year but he's only a he entered the league last year so he is practice flawed eligible maybe they continue to develop him if he stays off of other teams radars you know there's for those who may be wondering why david's webb didn't play it's not because of a lack of confidence that the coaches have been given him a ton of reps not that they're arresting him but they needed to see in a game like this they needed to see louetta this is his first opportunity to get extended play time and they wanted to make sure they have enough to start the evaluation process in game action they have practice stuff on him now it's game action and they need it that riley dixon in the punt as in next week he won't be getting reverse spin boot cyrus jones signals a fair catch about the    yard line    yard punt no return here in the third quarter final chance to make your barn patriots leave the giants    to   on nbc   new york sighs preseason football on nbc   new york is brought to you by your local kia dealers visit kia dealers contouring kia's america's best values summer clearance chakra ricky spotlight presented by kia and tala letta on a third down identifying the open receiver and amba at a towel does the rest    yard touchdown for the giants only touchdown of the night patriots with      lead here in the third atlin gives it off to pharaoh he's got a first down across the    to the    yard line it's a gain of    carl take a look at the nfc east in the eagles of    and three record cowboys finished at nine at seven redskins seven and nine giants three and thirteen think back to that early season game in philadelphia where the giants got beat on up    yards and that's where it all started game that they had in hand it all started right there and you know they been pretty tough to deal with for the eagles of the beagles fouled away i'll take a look at some of the storylines for the philadelphia eagles who will play a week from tonight is carson wentz ready to go nick foles had a shoulder injury he's been spotty and then the super bowl hangover start writing books and it falls has one doug peterson has one happier the best of them philadelphia's obviously still very talented team very good offensive line etling for will tying and will tie wrapped up by months in tie third year out of stony brook spent some time with the jets carla you've got a dealt as a team a little bit with that super bowl hangover ever went in the super bowl in           you had the strike and everything else but that team never seemed the way it was in       and    yeah it's like a fog you know you you're so celebrated and you're doing everything that you think you should be doing and that you thought that you did to get there to here before but it seems like your opponent's ramped it up every game was your super bowl and you know the distractions to pull on you for your attention for appearances for all of these different things and i can imagine it's pretty tough yeah i mean that was the giants first championship    years and once it's    in yankee stadium and think about a depth it's the philadelphia eagles situation right now that city is loving our men something something crazy right now but you know i think they're well coached team things are a little different these days so maybe go i'm not hopefully rooting for them but we'll see how well adjusted they are after winning the super ball raymond with a nice punt return of    yards giants down by four here in the third giants preseason football on nbc   new york has brought you by metlife the official insurance company of the giants metlife stadium here in the third patriots with a     lead over the giants final preseason tuneup for these two franchises and getting ready for the start of the regular season don't work for eli manning or davis webb tonight alex tanny in per second series at quarterback terrell presley stood up by grig speed at the    gain of   on first down wesley's trying to make his mark with the opportunity he's getting he's got a quarter and a half how to get it done wesley the lone setback takes the handoff on a second in short and he's gotten first down for the giants well giancarlo stanton hit his    th home run yanks and tigers tied at  th not a few miles away in the bronx and odell beckham jr  spent a little time this spring at yankee stadium taking bp we know he was an allstate soccer player yeah i know he's great at football and it looked like he can handle a baseball bat pretty good too carl yeah good hand and eye coordination and you know what's so beautiful about that is that he did it in new york and that's the one the one thing i would would advise odell beckham you know with all of his fame and stardom is to allow new york to embrace it you know he's he's a worldly guy but i like to see him at knicks games at yankee games and just allow the fans to just love on him and i mean it he's so international sometimes you think he's not approachable but you see him the kids all the time and i would just love to see him courtside at a knicks game sitting behind home plate at a yankee game he's a rock star well they you know rock stars come to new york to to be to be loved so i want him to receive all the love that new york well second pour for tannin just my two cents nobody open here's with john mara the giants president and ceo had to say about odell beckham jr  he came in the right attitude he's done everything we've asked him to do we feel good about having him on our team for the next five years obviously it's five years tacked on to the last year of his rookie deal and they're able to get it done and john also added what odell beckham showed the giants in those dual practices against the lions showed them everything they needed to see about his health yes from a football standpoint coming off that ankle surgery and it's about trust it's about maturity and i think you know when you write a check his dignity love him there's a level of trust that they have in them they know that he's gonna work hard but the maturity aspect of it i think they wanted to be assured that that's behind him and that he wants to grow up and then literally he says hey i'm i'm maturing now i'm getting used to this thing but i don't you know you don't want him to lose that fun edge because football is fun to him vice president of communications man feed them bubblegum's handing out the gum not a barwon so now we know what pat does do not say you get one you get one none for you i'd be the only senior vp of communication actually letting out dom on the side okay more you can do the more they ask of me but he's been known for his strong opinions on social media he's backed off that but he's strong with the big red and bubblegum yeah unless you look like you're doing the more they'll give you the doom there he is with the bubblegum pouch giants preseason football on nbc for new york is driven by the hash toy truck celebrating    years of past with more trucks this year than ever before get alerts at hess toy truck calm patriots back on offense and danny etling has gone the entire way at quarterback for new england and farrow is the tailback out of first and tenth chased by davis and davis drags him down for no gain on the play davidson rookie out of tennessee chattanooga will balichek soaking it in with that great emotion bubbling on the inside you know this tomorrow and saturday i'll get to the point after this second of ten players will tie goes in motion at length grows the slant i have a ball knocked out of the hands paul turner he's had a rough night in the past ruled incomplete that isn't a complete pass but beyond made sure that turner never had a chance to put up the aaron's making it hard for them you know but for these coaches bill belichick and the giants going to challenge the play and i think they got it lose the challenge i don't think turner ever really had control of that football but for pat sharma bill belichick who's been doing it a long time and all these coaches saturday is the worst day of the year for them as coaches because offseason program begins players start working the giants are challenging the ruling on the field of an incomplete pass we'll review the play our gonna take a look at it doesn't look like turner ever really has control here bobbles it paul's moving it barely got a step good awareness by dante dion to knock it out giants did recover but i think it's gonna be ruled and it could be pass as it was on the field but all these coaches we talked to coach shermer about it belichick has been through it a million times all of them and it's a tough date for them because these guys have given everything they've had to try to make the football team and you got it it's a numbers game there's    guys for each team they're gonna be told hand in your playbook and i don't think it ever gets easier for a coach i think you know the guys that you take a liking to and you feel really good about them and they've done everything right everything that you've asked them to do and you got to make a tough decision and it's it's not in the favor of the player you feel bad about it you know but you hope that they go on and you always give them a great reference and in bill belichick skates and as with a lot of the ruling on the field is confirmed the receiver never possessed the ball completed the process of the catch it is an incomplete pass the giants will be charged with their first timeout with a lot of other teams you know guys go away they've become free agents again you might have a chance to get them back in the future so you never know but you know it's it's always it's always tough especially when you get down to the last few guys that you really want to try to keep third and ten for new england the flaw excellent running there by ralph webb you jump right over calvin monson and it's a gain of    at a first down for new england see what you hit in calvin hold your head up can't be looking at the turf and seeing the player same time fundamentals of tackling not something you'd expect from a guy that started last year appling under pressure at ling is going to get sacked robert thomas got the first hit on them when aj francis got in there to help out loss of five is where your pressures coming from the inside just good push straight ahead just collapsing the pocket there thomas did look like snacks on that one carl interior pressure is something that sometimes gets overlooked but it's hugely important especially when you have a quarterback that doesn't scramble well you get there's those guys in his lap those who close his rhythm lock mouth webb on the carry davis and months in on the tackle gain of three giants fans your opportunity to be a part of the tradition become a season ticket holder experience the excitement of giants football to become a giant season ticket holder call               or go to giants comm for more information third and    to new england under two minutes to go here in the third patriots up for that laying under pressure runs out of a sack and another one and he's got the first down they're like avery moss was one of the giants that missed the tackle gain of    yeah lots of pressure in there he steps up the pocket he never even ever gave us we see there's a chance down the field as soon as he stepped up he tucks the ball away he's not even looking down the field he's got a guy running open yeah moss and i just slipped right off the quarterback so nolan's converted a couple of third and long's here and i can first and    at their own    check down underneath to webb and he dives ahead for ten i talk about the patriots it feels like well six straight years in the afc championship game and look at what they've done in the afc east the record of     and    incredible now think of all the new head coaches that these three teams have had how about the dirt bacteria yeah i mean they've been able to take advantage of tremendous dysfunction within the division but it's not like they have a   there they've been good at sharing what the others are they now to win they've gotten out of the division and they didn't fart can't beat him that's right they didn't either do they don't beat division opponents in the super bowl they've got to get there outside of the division maureen is doing in its safety for the giants pittsburgh's pretty good football team too they got their number brady where other dick lebeau is the defensive coordinator and pittsburgh whoever's there brainy just finds a way to pick them apart yep excuse me mohammed on the handoff takes it to the giant    so that'll be the final play of the third quarter in this final preseason game with some roster spots on the line patriots in front    to   here on nbc for new york giant preseason football and nbc   new york is brought to you by bob's discount furniture home of the worldfamous bob o pedic mattress proud to be the official furniture store the new york giant shop in store or online at my bob's comm take a look at tonight's that's through the third quarter brought to you by bob's discount furniture matrix with the edge in yardage each team its commit of two turnovers two interceptions by kyle a lot of two by danny etling penalties have really hurt the giants in this game second and eight mohamed who was just signed this week takes it to the giant    yard line to gain a five on the play takes it to somebody's chest too james bet you the new giants defensive coordinator karl he's got some things to work out i mean you're going from a four three two a three four dave gentlemen and the personnel department can't change over an entire roster in one offseason so there's gonna be some mixing and matching here well it is and he's got to find the right edge guys and i'm gonna predict that they won't find their footing for another you know couple games into the regular season so once they start clicking on all cylinders you'll start to see exactly what he can be because he has the players to do it the athleticism they've got to figure out that third corner they got to figure out the safety position holding and then they got already shown how to play together and what's they doing you'll start to see just how good and creative this defense can be mohamed first down run negated wilt i call for a hole how are your thoughts on becher's defense and the personnel that he has to work with i think he has a pretty good defense here good personnel were gods patrick peterson covers up for a lot of mistakes kevin in the honey badger those two guys back in the secondary that helps the front out a lot and patrick buchanan they don't have those names on the roster so he's hoping to get the same level of performance from the talent to the noise jenkins at lynx third and    pass goes incomplete now there's a flag on the play and it's a personal foul against the patriots i'm sure the giants will just decline and force new england a punt the ball away personal foul number    offense for a leg whip   yard penalty replay third down cole crow stood call for the pounce and the giants are going to accept the penalty yeah kick them in the face and i'll teach that i guarantee that's what balichek's telling we don't teach that here but you have to find it yeah the reason why i said is because you know the defensive holding on a secondary member five yards automatic first down set its third and    at ling with some time ethnic chaste chuck's it down a web web walloped at the giant    yard line by leonard johnson and calvin munson gain of    that's a good line that's a good job by the defense the back end of the defense knock they think anyone get behind them and they just limited them to a check down down months and secondyear player out of san diego state sign it's an undrafted free agent let's you're wound up starting five games made a lot of plays to always around the football brian allen takes on milwaukee's south side winding route the far sideline bounds at the four out inside the one rockpaperscissors let's start the regular season but she network is your tv home for the new york football giants all season long don't forget check out giants first intent presented by stop and shop september the  th is will get you set for the giants and jaguars on the  th and giants chronicles takes a look at the giants alltime firstround draft picks and then giants post game lock presented by mercedesbenz right after the giants and jaguars on the  th of september  th spinned inside their own wanna bring punt by alan presley it's a little breathing room picks up two on the play good opportunity for the coaches to try some play calling that they always wanted to and they are pinned down like this see number    malcolm bunch and at left tackle there's mike shula it comes over from caroline and carl you know you talk about personalities and fits it seems like a perfect fit for pachu more a perfect fit to work with a guy like eli manning he is in you know just has a way with quarterbacks you've never heard a filter batshit bathroom about him all start a clink mountain bunch the left tackle moved a beat to quickly false start number    offense half the distance to the doll second down let's go down to the sidelines a check in with bruce back hey this is ray ray armstrong who's been very impressive he kept kind of what you say you do float like a butterfly sting like a bee that means that you hit like a mack truck but you also can cover your role with this group with james fetchers three four what do you think oh man i'm just out there just trying to display every ability i have you know thank god that he blessed me with those talents you just want out there trying to forfeit my crap and take coaching i know you're a linebacker but because she played safety before does that help you with coverage helps me out a lot you know just coming up coming from covering wide receivers and dives in a slot stuff like that quick fast guys they kind of help me out a lot of them go bigger tight ends and all running backs you forced turnovers the last couple of games do you try to create mayhem out there oh no doubt i mean that's what the game is all about it was all about getting the ball back smaller points you know just taking away from the office and giving off as more opportunities they put points up you face this giants offense all throughout training camp how good cannot unit be sky's the limit remember you got a good leader like um you like man and leave the team leader charge then you got odell and those guys say fine he's coming on you know everybody have playmakers on some level each level running back wide receiver an or deal out of leave that song you'd play with the rams the raiders the   ers do you feel like you found a home now with the giants rewrite oh yeah no problem no doubt i mean it welcomed me with open arms as i came here last year you know just just put a new staff everybody's started with a clean slate you know just coming in and i'm giving their one opportunity to make players at home who was grateful earlier today coach pat trevor said you made the biggest jump from the spring to right now congratulations keep up the good work we said look boys were back to bob and carl ray ray armstrong started   of    games for the niners last year before the giants playing devon waivers and he's making his mark here this year crawl on that third down play tip your cap to alonzo russell who made a nice catch and run to get the giants at first and now presley with a nice run on first down yeah did a good job there good play call they kind of ran everybody off to create enough cushion to get something in the flat put guys at the sticks he makes one guy miss two guys miss first down cyrus jones bad angle allow the lonzo russell the turn upfield second and three for the giants in our own    down for canning intended for ryan o'malley tomorrow he's got to catch that one third year player out of penn from summit high school in nearby summit new jersey and all summit looking at him easy like could be eli's favorite look at that i got his hand pull one of his hands pulled gotta make that onehanded catch bring it in there's ilan saying come on kid could have caught throwing a flag on that tim yeah grigsby was there a little early the officials want to get home right about third and three tanny with time to the outside and pass completed to marquis but indeed it's got a giant's first down well listen the good news here for the officials carl is it's a fourpoint game which means probabilities of overtime don't look right nice route there by bundy nice throw practice squad play with the giants last year entered the league as a free agent with arizona in      jaelyn simmons in at tailback on the first intent from giants for their own    and he takes the check down garrett dickerson was wallet while nascar pays tribute to seven decades of racing in the legends that made the special don't miss the southern     at darlington sunday at      on nbc has sent well this wasn't a race this was like a mack truck hitting garrett dickerson a sandwich but you notice the heads were up carl see your target bill belichick has thrown the challenge flag he's saying it was a catch and a fumble let's see nicholas grigsby in marquise flowers with the guys that hit dhikr sanchez turns make some fruit almost makes the football player what did that ball moving though as he tried to tuck it away i don't want to go down and round river on what do you think i'd go find out after this giants preseason football on nbc   new york is driven by the hess toy truck celebrating    years of hess with more trucks this year than ever before get alerts at hess toy truck calm bill belichick challenged the play to garret dickerson and the call stands incomplete has grigsby and flowers crunch dickerson but he didn't have control second and    presley with the first down in the patriot territory finally shouldered out of bounds after a gain of    nice job by the blocking of the left side left tackle left guard seal malka bunch nice job yeah good kick out on the edge and good running by presley nice jump cut out ones his guard to the edge no presley has certainly made his mark in his couple games here with the giants simmons in at tailback first pin joints now by four here in the fourth danny to shane smith interesting position grouping fullback coach rumor says i like to keep it fullback but you better be able to catch the ball line up as a tailback line up outside of the backfield shane smith is the only candidate or else he says you know we'll keep another tight end if we have to you got backlog in at the running back position and every guy seems to be hungry for it my first attempt pass goes incomplete for jalen simmons when check in with howard cross for more on that fullback tight end conundrum you know it is a conundrum but you know i got into the league they started using the h back full backs were still used with tight ends could do more when we started running at six with five out of the backfield to lead on the draw i knew full backs in there were a lot of time left in the lead so to speak the question is though are the other guys behind ingram and ellison that guy yeah but bob if they can't line out in the slot if the fullback can't get out there in the slot and run around that's where he'll fall down third and five for tanny and the giants pass completed the first down of jewelled davis who had a drop earlier gain of six call your take on it as a guy that had a deal with tight end your whole career well depends on what type of office you have this is a more i would say more pass oriented league so you you know fullbacks have got to be able to do a lot of things and not sure the role of a fullback in this offense is something that would be unique around the league you've got to be able to go out see what you see the tight end doing there that's where the fullback does and he's got to go in there and whack a guy out of there presley breaking a bunch of tackles stick farms a man and turns something out of nothing where else got some he's got some people's and family in the stands i heard that is i think this is aunt melba wilson from the famous restaurant in harlem the elbows is here with the rest of the family checking him out windham on it's got a good cook he'll come in if he makes this this party should take everybody's an elvis three people miss at the point of attack second and seven after new england    shots started at the giants one panning to the middle completes it to davis good catch by davis has he had a defender draped all over of gain of    it's good route by davis now he knows what his sticks are gets to the sticks turns good protection here too look at that nice clean pocket last year in foxborough this last game was a highscoring thriller at the end when i see the touchdown simmons bounces his way to the    gain of three john truck cap off for the    yard drive and take the lead ran them down it's hot  minute offense is going right now inside the redzone defenders with hands on hips a little gassed out there let's see if the giants can finish the deal here close them out    play of the drive coming up second and seven after new england   th tanny spun down at the    will go for a gain of one gino grissom got him to the ground next thursday football is finally back a week from tonight it'll be a party in philadelphia cheesesteaks for all when the eagles raise their first super bowl banner before taking on matt ryan and the atlanta falcons a new nfl season kicks off thursday at      only on nbc and a lot of fun in philadelphia they raised that banner and let's face it atlantic king within five yards of beating philadelphia in the playoffs last year in a fourth down faster the heads of julio jones they would have had atlanta moving on third and six for the    tanny dropped by alonzo russell yes they gonna go for it yeah he'll go can't be any good see what the play call is boy that's unfortunate that woulda gone for first down and then some there's coach shermer in game situations no matter the personnel russel practice squad play with cincinnati and arizona last year with a big drop there is it is a play that he's probably if he's in this situation with his regulars this is kind of a peek inside of how he wants to for that sex intended for dickerson and complete now the giants went for it they sent the tight end out of the slot tanny looking for that corner route a little too far patriots in front in the fourth giants fans showed your true colors with taco bell's big blue spirit flag it's a great way to display support your favorite team proceeds benefit the boys and girls club make sure to get it at taco bell today and some fans waving the flag anything to support the boys and girls club is always a good thing giants at taco bell have teamed up to do just that giants turn it over on downs going for it out of fourth and six down four so new england takes over and how about that link on the naked boot the rookie animal lsu to the giant         touchdown    yards well that play right there just cut about seven people at least at least seven people got cut on that play there's bet you're they're saying how could something like that out he said your cut your cut your cut pack their bags don't come in mom you got about seven eight guys right there whoever the edge guy was got suckered in pretty good he takes it everybody goes down including the safety you got the second level safety you came in there to get nosy gostkowski for the extra point we're gonna have to look at that one from the all    karlin let us take a look at who fell asleep at the wheel we're gonna have a guy here got here a guy here guy here they all just get sucked down in there ready though jordan williams or ian stewart about the corner leonard johnson completely faked out yeah he's the last line he's the last line of defense on the outside he goes all the way down in there too it's like they were serving my birthday cake in there look at her free cake look at look at look at the other johnson twentynine he has no idea where the boys well something you won't see tom brady do this you know he's having a me six yard touchdown run but he lived vicariously through the rookie danny etling highfive on that one how about that call look at gronk on the other side better aim pressure not happy at all right i mean because there is an expectation no matter who you put out there they've got to execute the deep end and there's a gap responsibilities that every player is taught nobody with kickoff travels to the back of the end zone for a touchback so carl one of the things that the giants going to three for the asking the linebackers to do more and we saw the first couple preseason games aleck ogletree being asked to do some things differently and this is something that as pat shermer said hey is an offensive play caller we're looking for this matchup yeah so it's all about matchups and they try to isolate the linebackers here he gets a late start now he's chasing the play that's one play it's three plays that they love to run on linebackers once they find them isolated that's one then they run a little arrow route or an angle route and then they run the whip route i talked to alex before last game and just told him how he should handle that because it's not going to go away and it will impact how you call your defense because if you are scared if you are afraid that you don't have the linebackers to go out and play man coverage then you're gonna be stuck in zone which is what you'll be able to disguise presley dragged down by grigsby no gain on the play karl as coach shermer said look there's certain things by formation or whatever were we can identify what they're probably going to do probabilities that make some checks and things to sort of deal with it yeah but you know what the offenses get creative when they see it    defense and ain't no you blitz a lot there's matchups so unless you want to blitz all your linebackers and then it dictates your personnel on the field so you've got to be able to have some cover skills and i believe valid growth which he can't he just has to understand the routes he's only three of them that they're gonna try to run on him and he's got to know how he wants to position his body rudolph had a nice catch giants first down that pass for davis ain't complete every sunday night right here on nbc   new york at sports final with bruce beck who's always has the latest new york sports a special gas and analysis wrap up your weekend with sports final waverly following news   or car we saw the giants on that fourth and six situation try to get the tight end matched up with the linebacker flowers and he did a good job in coverage yeah same thing he never gave up leverage he knew exactly where he had to defend he was outside him and never gave up that outside in angle saw the ball was never it was thrown at to my mind and he was there to defend it simmons with a gain of about five on the play was up third and five for the giants two and a half remaining giants down by he loved it he wait to ryan lewis who stepped inside the receiver and he's into the score there's a flag on the play right where the interception happened he grabbed him on the comeback or on this car maybe why he couldn't get open automatic first down yeah there's no way you can look at that say oh that was a bad cause he hugged him right off the block yep that's a mugging what are you asking for replay he's tapping this here one he wants out coaching i can do it that's why i didn't do it it's a bad call your prints are all over the kid so the giants get a first down off the penalty at the new england    down    they have two timeouts remaining the   yard line picks up beat on the run and that'll take us to the twominute warning but decisions decisions must be made on saturday two of its to go patriots with a     lead over the giants time to game brought to you by toyota the national thirds event going on now so let's go places we bremen got things going on the giants only touchdown drive a little endaround a lot of hitting simonson on a third down conversion and then    yard touchdown catch it run by hama at a towel at that point the giants went up    that's our toyota drive of the game toyota let's go places most of the starters all the starters for both teams not playing tonight giants have a second and two at the new england    travis rudolph was the motion man and a neutral zone infraction against new england so that'll have bill belichick they kept cutting summer    defense nice game first down at the twominute warning and they didn't have to run a play now the giants open up their season right here at metlife stadium jacksonville jaguars who lost in new england in the afc championship game bring that talent to defense to town then here on nbc   new york sunday night football the giants at dallas in week number two first and    giants at    flag on the play chased out of bounds by flowers i think it's gonna be a hold against the giants holding number    defense five yards will be added to the end of the play by ryan lewis who's not had a good series their time with the dallas cowboys in the big storyline karla's travis frederick sidelined with this illness and that is a big deal because he is a allpro and now dak prescott doesn't have that security blanket of making the calls what about the receivers no dez jason witten is retired can they generate enough offensively well we're going to find out when you have a yoyo fumbled it and the giants mountain bunch recovered it easy chiarelli it is just such a unique player you spot the ball it's on on our average run it's probably a game of seven or eight so i'm sure they're gonna try to stay in that short down in distance for this quarterback try to make sure that ezekiel elliott does as much to help him out as possible if she can he goes up top behind jahlil wilson davis cyrus jones on the coverage then if they get you get dallas in some third and long situations do they have the receivers that can come true or is it a dump down and see if she can good for you and the giants are hoping that they can use their run game with say quan barkley on balancing things out and the multiple formations that pat shermer wants to use with a healthy odell beckham jr  still and shepard evan engram here and the king is safe armbar curry is an excellent receiver as well so he factors in all three downs third     s lag on the play as he gets knocked down and be the windward    yard line with     to go looks like some of these guys are trying to pull along their stay in the nfl personal foul face mask number    defense half the distance to the goal automatic first down derek rivers who missed all of last year on injured reserve call for the penalty well carl's sake want barkley obviously he's giving the giant fans a lot to be excited about his very first carry in the first preseason game showing why he was number two overall yeah now they're going to be expecting big production from him he was in most people's opinion the best player in the draft so they're counting on him to really be productive first in tana theatre' than    tanny and then he completes it to davis he gets tackled by jones immediately then a minute to go giants with two timeouts remaining down and    second and four from the new england eight candy goes up top this is cop to the touch by alonzo russell good throw by tanning better cats by russell russell six foot four used his size against the five foot ten jamal will runs to the pylon ball thrown cats it hits the defensive back get stuck down under his chin deepens back never saw it look at that too big the giants are gonna go for two well nothing they could onside kick it recover kick a field goal we could have overtime i think they're gonna cut the lights off before they kill it opentoe russell in motion twopoint conversion coming up presley spit up and stop by the interior of that in england defense and harris got a hit in there on presley tried to draw didn't work and with    seconds to go new england's lead is   good work by eric lee a free agent out of south florida it's on buffalo's practice clyde wanted preparing in six games for the patriots last year and even started one of their three postseason games presley has been an impressive player signed late carl and jumped in last week against the jets had a good game and showed a lot here tonight not much he could do on that plane no new england was waiting for him though he wanted to score it all but you know it really comes down when you start looking at these kids at the running back position how are they on special teams you've got certain types of special teams flare as the coast tolas and does he fit in that small agile group of guys kane's gonna just hit a liner bounds at the tent goes into the end zone for a touchback    seconds to go patriots will trot their offense back out on the field up by five bill belichick we were wrapping up their preseason it's the   th consecutive year that the giants and patriots have played in this final preseason game danny etling with an    yard touchdown run tell you what he got them telling you you got at least five guys cut on that play fight sure with giants will finish the preseason at    amp    but a lot of positive things the first year head coach for the new york giants and karly runs a tight ship i mean when he does the interviews her casual the comedian dave gentlemen cept pragmatic gives some honest answers but he has got some hard lines that his team knows where he stands up absolutely there's not a lot of ambiguity with him the bill belichick in pat shermer strange a warm friendly handshake these two teams will not play this year the regular season is the giants will be playing the afc south odell beckham jr  brady catching up a little bit tom saying wow you make a lot more than me now he probably said i'm so glad you're making all this money so i won't be holding player salaries down exactly look at bella checking out del the nice big hug there not a hightower is come a huge dion lewis minx older with his former teammates after starting his career with doing linden get a lot of winning in new england like a win and now in new york with the giants and you can see the kind of guy that he is as far as how well liked he is and he certainly has ingratiating himself with the giants in great fashion so the new england patriots victorious by a    to    score here at metlife stadium\n"
          ],
          "name": "stdout"
        }
      ]
    },
    {
      "cell_type": "code",
      "metadata": {
        "id": "hNzMwONn3EMQ"
      },
      "source": [
        "words = []\r\n",
        "for sent in trainTranscripts:\r\n",
        "    for w in word_tokenize(sent):\r\n",
        "        words.append(w)\r\n",
        "len(words)\r\n",
        "fd = FreqDist()\r\n",
        "for w in words:\r\n",
        "  fd[w] += 1\r\n",
        "ranks = []\r\n",
        "freqs = []\r\n",
        "count = 0;\r\n",
        "for temp in fd.most_common():\r\n",
        "  count +=1\r\n",
        "  ranks.append(count)\r\n",
        "  freqs.append(temp[1])"
      ],
      "execution_count": null,
      "outputs": []
    },
    {
      "cell_type": "code",
      "metadata": {
        "colab": {
          "base_uri": "https://localhost:8080/",
          "height": 573
        },
        "id": "44qjOWVE3HCD",
        "outputId": "a81606ea-ac4c-4686-95ff-d3c8799db169"
      },
      "source": [
        "# plotting graphs againt word and their frequency\r\n",
        "plt.plot(ranks, freqs)\r\n",
        "plt.title(\"Plot showing variation of word occurence frequency against word rank\")\r\n",
        "plt.xlabel(\"Rank order\")\r\n",
        "plt.ylabel(\"Frequency of occurence of word\")\r\n",
        "# plt.savefig('FrquencyVsRank.png')\r\n",
        "plt.show()\r\n",
        "# plt.clf()\r\n",
        "plt.plot(np.log(ranks), np.log(freqs))\r\n",
        "plt.title(\"Plot showing Zipf's Law  log word freq against log word rank\")\r\n",
        "plt.xlabel(\"Log rank\")\r\n",
        "plt.ylabel(\"Log frequency of word\")\r\n",
        "# plt.savefig('LogFrequencyVsLogRank.png')"
      ],
      "execution_count": null,
      "outputs": [
        {
          "output_type": "display_data",
          "data": {
            "image/png": "[encoded data removed]",
            "text/plain": [
              "<Figure size 432x288 with 1 Axes>"
            ]
          },
          "metadata": {
            "tags": [],
            "needs_background": "light"
          }
        },
        {
          "output_type": "display_data",
          "data": {
            "image/png": "[encoded data removed]",
            "text/plain": [
              "<Figure size 432x288 with 1 Axes>"
            ]
          },
          "metadata": {
            "tags": [],
            "needs_background": "light"
          }
        }
      ]
    },
    {
      "cell_type": "code",
      "metadata": {
        "id": "yqPhhrJgXk9X"
      },
      "source": [
        "def get_fixed_sequence(text, seq_len = 5):\n",
        "  sequences = []\n",
        "  words = text.split()\n",
        "  if len(words) > seq_len:\n",
        "    for i in range(seq_len, len(words)):\n",
        "      seq_list = words[i-seq_len: i]\n",
        "      sequences.append(\" \".join(seq_list))\n",
        "  else:\n",
        "    sequences = words\n",
        "  return sequences"
      ],
      "execution_count": null,
      "outputs": []
    },
    {
      "cell_type": "code",
      "metadata": {
        "id": "OOC1yD6CR-TX"
      },
      "source": [
        "output = [get_fixed_sequence(transcript) for transcript in trainTranscripts]"
      ],
      "execution_count": null,
      "outputs": []
    },
    {
      "cell_type": "code",
      "metadata": {
        "id": "0SMuteARSG8U",
        "colab": {
          "base_uri": "https://localhost:8080/"
        },
        "outputId": "2443c876-76cf-4156-e666-f7093f60893a"
      },
      "source": [
        "length = 0\n",
        "for i in output:\n",
        "  length+=len(i)\n",
        "print(\"Length of the Fixed length sequences: \", length)"
      ],
      "execution_count": null,
      "outputs": [
        {
          "output_type": "stream",
          "text": [
            "Length of the Fixed length sequences:  687773\n"
          ],
          "name": "stdout"
        }
      ]
    },
    {
      "cell_type": "code",
      "metadata": {
        "id": "Ur5K3i73ScF2"
      },
      "source": [
        "output = sum(output, [])"
      ],
      "execution_count": null,
      "outputs": []
    },
    {
      "cell_type": "code",
      "metadata": {
        "id": "myWIAwP9YIj_"
      },
      "source": [
        "x = []\n",
        "y = []\n",
        "for seq in output:\n",
        "  words = seq.split()\n",
        "  x.append(\" \".join(words[:-1]))\n",
        "  y.append(\" \".join(words[1:]))"
      ],
      "execution_count": null,
      "outputs": []
    },
    {
      "cell_type": "code",
      "metadata": {
        "id": "1iQRIRwgYKL7",
        "colab": {
          "base_uri": "https://localhost:8080/"
        },
        "outputId": "ebe39d00-0831-4f86-b3c2-94bd38850c7b"
      },
      "source": [
        "x[0], y[0]"
      ],
      "execution_count": null,
      "outputs": [
        {
          "output_type": "execute_result",
          "data": {
            "text/plain": [
              "('grab what a day', 'what a day for')"
            ]
          },
          "metadata": {
            "tags": []
          },
          "execution_count": 16
        }
      ]
    },
    {
      "cell_type": "code",
      "metadata": {
        "id": "cGRrrRuPYMLi"
      },
      "source": [
        "# create integer-to-token mapping\n",
        "int_to_token = {}\n",
        "cnt = 0\n",
        "\n",
        "for w in set(\" \".join(trainTranscripts).split()):\n",
        "  int_to_token[cnt] = w\n",
        "  cnt+= 1\n",
        "\n",
        "# # create token-to-integer mapping\n",
        "token_to_int = {t: i for i, t in int_to_token.items()}"
      ],
      "execution_count": null,
      "outputs": []
    },
    {
      "cell_type": "code",
      "metadata": {
        "id": "bi-A0lV-YNii",
        "colab": {
          "base_uri": "https://localhost:8080/"
        },
        "outputId": "04e8c78e-6470-4414-ad41-9fe1ede2e93a"
      },
      "source": [
        "vocab_size = len(int_to_token)\n",
        "print(\"Number of Unique Tokens(Vocabulary Size): \", vocab_size)"
      ],
      "execution_count": null,
      "outputs": [
        {
          "output_type": "stream",
          "text": [
            "Number of Unique Tokens(Vocabulary Size):  28634\n"
          ],
          "name": "stdout"
        }
      ]
    },
    {
      "cell_type": "code",
      "metadata": {
        "id": "bOWsKNu8YPKn"
      },
      "source": [
        "def get_int_seq(seq):\n",
        "  return [token_to_int[w] for w in seq.split()]\n",
        "\n",
        "# convert text sequences to integer sequences\n",
        "x_int = [get_int_seq(i) for i in x]\n",
        "y_int = [get_int_seq(i) for i in y]\n",
        "\n",
        "# convert lists to numpy arrays\n",
        "x_int = np.array(x_int)\n",
        "y_int = np.array(y_int)\n"
      ],
      "execution_count": null,
      "outputs": []
    },
    {
      "cell_type": "code",
      "metadata": {
        "id": "RqhWKA6fYSjR"
      },
      "source": [
        "def get_batches(arr_x, arr_y, batch_size):\n",
        "  prev = 0\n",
        "  for n in range(batch_size, arr_x.shape[0], batch_size):\n",
        "    x = arr_x[prev:n]\n",
        "    y = arr_y[prev:n]\n",
        "    prev = n\n",
        "    yield x,y"
      ],
      "execution_count": null,
      "outputs": []
    },
    {
      "cell_type": "markdown",
      "metadata": {
        "id": "qDzfdOo-CTlP"
      },
      "source": [
        "# **Building LSTM Model**"
      ]
    },
    {
      "cell_type": "markdown",
      "metadata": {
        "id": "fOneTcQkLQ0r"
      },
      "source": [
        "RNN is recurrent in nature as it performs the same function for every input of data while the output of the current input depends on the past one computation. In RNN, all the inputs are related to each other.\n",
        "This makes them applicable to tasks such as Language generation and Machine Translation. Long Short-Term Memory (LSTM) networks are a modified version of RNN, this makes it easier to remember history data in memory. The vanishing gradient problem of RNN is resolved here. LSTM model is well-suited to classify, process and predict data. It trains the model by using back-propagation. Hence this model is best suited for our project."
      ]
    },
    {
      "cell_type": "code",
      "metadata": {
        "id": "4uy49YWyYXW_"
      },
      "source": [
        "class WordLSTM(nn.Module):\n",
        "    \n",
        "    def __init__(self, n_hidden=256, n_layers=4, drop_prob=0.3, lr=0.001):\n",
        "        super().__init__()\n",
        "\n",
        "        self.drop_prob = drop_prob\n",
        "        self.n_layers = n_layers\n",
        "        self.n_hidden = n_hidden\n",
        "        self.lr = lr\n",
        "        \n",
        "        self.emb_layer = nn.Embedding(vocab_size, 200)\n",
        "\n",
        "        ## define the LSTM\n",
        "        self.lstm = nn.LSTM(200, n_hidden, n_layers, \n",
        "                            dropout=drop_prob, batch_first=True)\n",
        "        \n",
        "        ## define a dropout layer\n",
        "        self.dropout = nn.Dropout(drop_prob)\n",
        "        \n",
        "        ## define the fully-connected layer\n",
        "        self.fc = nn.Linear(n_hidden, vocab_size)      \n",
        "    \n",
        "    def forward(self, x, hidden):\n",
        "        ''' Forward pass through the network. \n",
        "            These inputs are x, and the hidden/cell state `hidden`. '''\n",
        "\n",
        "        ## pass input through embedding layer\n",
        "        embedded = self.emb_layer(x)     \n",
        "        \n",
        "        ## Get the outputs and the new hidden state from the lstm\n",
        "        lstm_output, hidden = self.lstm(embedded, hidden)\n",
        "        \n",
        "        ## pass through a dropout layer\n",
        "        out = self.dropout(lstm_output)\n",
        "        \n",
        "        #out = out.contiguous().view(-1, self.n_hidden) \n",
        "        out = out.reshape(-1, self.n_hidden) \n",
        "\n",
        "        ## put \"out\" through the fully-connected layer\n",
        "        out = self.fc(out)\n",
        "\n",
        "        # return the final output and the hidden state\n",
        "        return out, hidden\n",
        "    \n",
        "    \n",
        "    def init_hidden(self, batch_size):\n",
        "        ''' initializes hidden state '''\n",
        "        # Create two new tensors with sizes n_layers x batch_size x n_hidden,\n",
        "        # initialized to zero, for hidden state and cell state of LSTM\n",
        "        weight = next(self.parameters()).data\n",
        "\n",
        "        # if GPU is available\n",
        "        if (torch.cuda.is_available()):\n",
        "          hidden = (weight.new(self.n_layers, batch_size, self.n_hidden).zero_().cuda(),\n",
        "                    weight.new(self.n_layers, batch_size, self.n_hidden).zero_().cuda())\n",
        "        \n",
        "        # if GPU is not available\n",
        "        else:\n",
        "          hidden = (weight.new(self.n_layers, batch_size, self.n_hidden).zero_(),\n",
        "                    weight.new(self.n_layers, batch_size, self.n_hidden).zero_())\n",
        "        \n",
        "        return hidden"
      ],
      "execution_count": null,
      "outputs": []
    },
    {
      "cell_type": "code",
      "metadata": {
        "id": "jdA5Yu1CQ5JH",
        "colab": {
          "base_uri": "https://localhost:8080/"
        },
        "outputId": "ca5404f2-0de4-4ee5-e9ef-bfbffcc34109"
      },
      "source": [
        "# instantiate the model\n",
        "net = WordLSTM()\n",
        "\n",
        "# push the model to GPU (avoid it if you are not using the GPU)\n",
        "net.cuda()\n",
        "\n",
        "print(net)"
      ],
      "execution_count": null,
      "outputs": [
        {
          "output_type": "stream",
          "text": [
            "WordLSTM(\n",
            "  (emb_layer): Embedding(28634, 200)\n",
            "  (lstm): LSTM(200, 256, num_layers=4, batch_first=True, dropout=0.3)\n",
            "  (dropout): Dropout(p=0.3, inplace=False)\n",
            "  (fc): Linear(in_features=256, out_features=28634, bias=True)\n",
            ")\n"
          ],
          "name": "stdout"
        }
      ]
    },
    {
      "cell_type": "code",
      "metadata": {
        "id": "_Ju3C6m2Q70m"
      },
      "source": [
        "loss_vals =  []\n",
        "def train(net, epochs=10, batch_size=32, lr=0.001, clip=1, print_every=32):\n",
        "    \n",
        "    # optimizer\n",
        "    opt = torch.optim.Adam(net.parameters(), lr=lr)\n",
        "    \n",
        "    # loss\n",
        "    criterion = nn.CrossEntropyLoss()\n",
        "    \n",
        "    # push model to GPU\n",
        "    net.cuda()\n",
        "    \n",
        "    counter = 0\n",
        "\n",
        "    net.train()\n",
        "\n",
        "    for epoch in range(epochs):\n",
        "\n",
        "        # initialize hidden state\n",
        "        h = net.init_hidden(batch_size)\n",
        "        \n",
        "        epoch_loss= []\n",
        "\n",
        "        for x, y in get_batches(x_int, y_int, batch_size):\n",
        "            counter+= 1\n",
        "            \n",
        "            # # convert numpy arrays to PyTorch arrays\n",
        "            inputs, targets = torch.from_numpy(x), torch.from_numpy(y)\n",
        "            # inputs, targets = x,y\n",
        "            \n",
        "            # push tensors to GPU\n",
        "            inputs, targets = inputs.cuda(), targets.cuda()\n",
        "\n",
        "            # detach hidden states\n",
        "            h = tuple([each.data for each in h])\n",
        "\n",
        "            # zero accumulated gradients\n",
        "            net.zero_grad()\n",
        "            \n",
        "            # get the output from the model\n",
        "            output, h = net(inputs, h)\n",
        "            \n",
        "            # calculate the loss and perform backprop\n",
        "            loss = criterion(output, targets.view(-1))\n",
        "\n",
        "            # back-propagate error\n",
        "            loss.backward()\n",
        "\n",
        "            epoch_loss.append(loss.item())\n",
        "\n",
        "            # `clip_grad_norm` helps prevent the exploding gradient problem in RNNs / LSTMs.\n",
        "            nn.utils.clip_grad_norm_(net.parameters(), clip)\n",
        "\n",
        "            # update weigths\n",
        "            opt.step()            \n",
        "            \n",
        "            if counter % print_every == 0:\n",
        "            \n",
        "              print(\"Epoch: {}/{}...\".format(epoch+1, epochs),\n",
        "                    \"Step: {}...\".format(counter))\n",
        "        loss_vals.append(sum(epoch_loss)/len(epoch_loss))"
      ],
      "execution_count": null,
      "outputs": []
    },
    {
      "cell_type": "code",
      "metadata": {
        "id": "VQldnPNkBPk-",
        "colab": {
          "base_uri": "https://localhost:8080/"
        },
        "outputId": "619acb2c-8264-4e7e-cfd3-d78d86eb1ad4"
      },
      "source": [
        "#Training the LSTM model\n",
        "train(net, batch_size = 32, epochs=20, print_every=512)"
      ],
      "execution_count": null,
      "outputs": [
        {
          "output_type": "stream",
          "text": [
            "Epoch: 1/20... Step: 512...\n",
            "Epoch: 1/20... Step: 1024...\n",
            "Epoch: 1/20... Step: 1536...\n",
            "Epoch: 1/20... Step: 2048...\n",
            "Epoch: 1/20... Step: 2560...\n",
            "Epoch: 1/20... Step: 3072...\n",
            "Epoch: 1/20... Step: 3584...\n",
            "Epoch: 1/20... Step: 4096...\n",
            "Epoch: 1/20... Step: 4608...\n",
            "Epoch: 1/20... Step: 5120...\n",
            "Epoch: 1/20... Step: 5632...\n",
            "Epoch: 1/20... Step: 6144...\n",
            "Epoch: 1/20... Step: 6656...\n",
            "Epoch: 1/20... Step: 7168...\n",
            "Epoch: 1/20... Step: 7680...\n",
            "Epoch: 1/20... Step: 8192...\n",
            "Epoch: 1/20... Step: 8704...\n",
            "Epoch: 1/20... Step: 9216...\n",
            "Epoch: 1/20... Step: 9728...\n",
            "Epoch: 1/20... Step: 10240...\n",
            "Epoch: 1/20... Step: 10752...\n",
            "Epoch: 1/20... Step: 11264...\n",
            "Epoch: 1/20... Step: 11776...\n",
            "Epoch: 1/20... Step: 12288...\n",
            "Epoch: 1/20... Step: 12800...\n",
            "Epoch: 1/20... Step: 13312...\n",
            "Epoch: 1/20... Step: 13824...\n",
            "Epoch: 1/20... Step: 14336...\n",
            "Epoch: 1/20... Step: 14848...\n",
            "Epoch: 1/20... Step: 15360...\n",
            "Epoch: 1/20... Step: 15872...\n",
            "Epoch: 1/20... Step: 16384...\n",
            "Epoch: 1/20... Step: 16896...\n",
            "Epoch: 1/20... Step: 17408...\n",
            "Epoch: 1/20... Step: 17920...\n",
            "Epoch: 1/20... Step: 18432...\n",
            "Epoch: 1/20... Step: 18944...\n",
            "Epoch: 1/20... Step: 19456...\n",
            "Epoch: 1/20... Step: 19968...\n",
            "Epoch: 1/20... Step: 20480...\n",
            "Epoch: 1/20... Step: 20992...\n",
            "Epoch: 2/20... Step: 21504...\n",
            "Epoch: 2/20... Step: 22016...\n",
            "Epoch: 2/20... Step: 22528...\n",
            "Epoch: 2/20... Step: 23040...\n",
            "Epoch: 2/20... Step: 23552...\n",
            "Epoch: 2/20... Step: 24064...\n",
            "Epoch: 2/20... Step: 24576...\n",
            "Epoch: 2/20... Step: 25088...\n",
            "Epoch: 2/20... Step: 25600...\n",
            "Epoch: 2/20... Step: 26112...\n",
            "Epoch: 2/20... Step: 26624...\n",
            "Epoch: 2/20... Step: 27136...\n",
            "Epoch: 2/20... Step: 27648...\n",
            "Epoch: 2/20... Step: 28160...\n",
            "Epoch: 2/20... Step: 28672...\n",
            "Epoch: 2/20... Step: 29184...\n",
            "Epoch: 2/20... Step: 29696...\n",
            "Epoch: 2/20... Step: 30208...\n",
            "Epoch: 2/20... Step: 30720...\n",
            "Epoch: 2/20... Step: 31232...\n",
            "Epoch: 2/20... Step: 31744...\n",
            "Epoch: 2/20... Step: 32256...\n",
            "Epoch: 2/20... Step: 32768...\n",
            "Epoch: 2/20... Step: 33280...\n",
            "Epoch: 2/20... Step: 33792...\n",
            "Epoch: 2/20... Step: 34304...\n",
            "Epoch: 2/20... Step: 34816...\n",
            "Epoch: 2/20... Step: 35328...\n",
            "Epoch: 2/20... Step: 35840...\n",
            "Epoch: 2/20... Step: 36352...\n",
            "Epoch: 2/20... Step: 36864...\n",
            "Epoch: 2/20... Step: 37376...\n",
            "Epoch: 2/20... Step: 37888...\n",
            "Epoch: 2/20... Step: 38400...\n",
            "Epoch: 2/20... Step: 38912...\n",
            "Epoch: 2/20... Step: 39424...\n",
            "Epoch: 2/20... Step: 39936...\n",
            "Epoch: 2/20... Step: 40448...\n",
            "Epoch: 2/20... Step: 40960...\n",
            "Epoch: 2/20... Step: 41472...\n",
            "Epoch: 2/20... Step: 41984...\n",
            "Epoch: 2/20... Step: 42496...\n",
            "Epoch: 3/20... Step: 43008...\n",
            "Epoch: 3/20... Step: 43520...\n",
            "Epoch: 3/20... Step: 44032...\n",
            "Epoch: 3/20... Step: 44544...\n",
            "Epoch: 3/20... Step: 45056...\n",
            "Epoch: 3/20... Step: 45568...\n",
            "Epoch: 3/20... Step: 46080...\n",
            "Epoch: 3/20... Step: 46592...\n",
            "Epoch: 3/20... Step: 47104...\n",
            "Epoch: 3/20... Step: 47616...\n",
            "Epoch: 3/20... Step: 48128...\n",
            "Epoch: 3/20... Step: 48640...\n",
            "Epoch: 3/20... Step: 49152...\n",
            "Epoch: 3/20... Step: 49664...\n",
            "Epoch: 3/20... Step: 50176...\n",
            "Epoch: 3/20... Step: 50688...\n",
            "Epoch: 3/20... Step: 51200...\n",
            "Epoch: 3/20... Step: 51712...\n",
            "Epoch: 3/20... Step: 52224...\n",
            "Epoch: 3/20... Step: 52736...\n",
            "Epoch: 3/20... Step: 53248...\n",
            "Epoch: 3/20... Step: 53760...\n",
            "Epoch: 3/20... Step: 54272...\n",
            "Epoch: 3/20... Step: 54784...\n",
            "Epoch: 3/20... Step: 55296...\n",
            "Epoch: 3/20... Step: 55808...\n",
            "Epoch: 3/20... Step: 56320...\n",
            "Epoch: 3/20... Step: 56832...\n",
            "Epoch: 3/20... Step: 57344...\n",
            "Epoch: 3/20... Step: 57856...\n",
            "Epoch: 3/20... Step: 58368...\n",
            "Epoch: 3/20... Step: 58880...\n",
            "Epoch: 3/20... Step: 59392...\n",
            "Epoch: 3/20... Step: 59904...\n",
            "Epoch: 3/20... Step: 60416...\n",
            "Epoch: 3/20... Step: 60928...\n",
            "Epoch: 3/20... Step: 61440...\n",
            "Epoch: 3/20... Step: 61952...\n",
            "Epoch: 3/20... Step: 62464...\n",
            "Epoch: 3/20... Step: 62976...\n",
            "Epoch: 3/20... Step: 63488...\n",
            "Epoch: 3/20... Step: 64000...\n",
            "Epoch: 4/20... Step: 64512...\n",
            "Epoch: 4/20... Step: 65024...\n",
            "Epoch: 4/20... Step: 65536...\n",
            "Epoch: 4/20... Step: 66048...\n",
            "Epoch: 4/20... Step: 66560...\n",
            "Epoch: 4/20... Step: 67072...\n",
            "Epoch: 4/20... Step: 67584...\n",
            "Epoch: 4/20... Step: 68096...\n",
            "Epoch: 4/20... Step: 68608...\n",
            "Epoch: 4/20... Step: 69120...\n",
            "Epoch: 4/20... Step: 69632...\n",
            "Epoch: 4/20... Step: 70144...\n",
            "Epoch: 4/20... Step: 70656...\n",
            "Epoch: 4/20... Step: 71168...\n",
            "Epoch: 4/20... Step: 71680...\n",
            "Epoch: 4/20... Step: 72192...\n",
            "Epoch: 4/20... Step: 72704...\n",
            "Epoch: 4/20... Step: 73216...\n",
            "Epoch: 4/20... Step: 73728...\n",
            "Epoch: 4/20... Step: 74240...\n",
            "Epoch: 4/20... Step: 74752...\n",
            "Epoch: 4/20... Step: 75264...\n",
            "Epoch: 4/20... Step: 75776...\n",
            "Epoch: 4/20... Step: 76288...\n",
            "Epoch: 4/20... Step: 76800...\n",
            "Epoch: 4/20... Step: 77312...\n",
            "Epoch: 4/20... Step: 77824...\n",
            "Epoch: 4/20... Step: 78336...\n",
            "Epoch: 4/20... Step: 78848...\n",
            "Epoch: 4/20... Step: 79360...\n",
            "Epoch: 4/20... Step: 79872...\n",
            "Epoch: 4/20... Step: 80384...\n",
            "Epoch: 4/20... Step: 80896...\n",
            "Epoch: 4/20... Step: 81408...\n",
            "Epoch: 4/20... Step: 81920...\n",
            "Epoch: 4/20... Step: 82432...\n",
            "Epoch: 4/20... Step: 82944...\n",
            "Epoch: 4/20... Step: 83456...\n",
            "Epoch: 4/20... Step: 83968...\n",
            "Epoch: 4/20... Step: 84480...\n",
            "Epoch: 4/20... Step: 84992...\n",
            "Epoch: 4/20... Step: 85504...\n",
            "Epoch: 5/20... Step: 86016...\n",
            "Epoch: 5/20... Step: 86528...\n",
            "Epoch: 5/20... Step: 87040...\n",
            "Epoch: 5/20... Step: 87552...\n",
            "Epoch: 5/20... Step: 88064...\n",
            "Epoch: 5/20... Step: 88576...\n",
            "Epoch: 5/20... Step: 89088...\n",
            "Epoch: 5/20... Step: 89600...\n",
            "Epoch: 5/20... Step: 90112...\n",
            "Epoch: 5/20... Step: 90624...\n",
            "Epoch: 5/20... Step: 91136...\n",
            "Epoch: 5/20... Step: 91648...\n",
            "Epoch: 5/20... Step: 92160...\n",
            "Epoch: 5/20... Step: 92672...\n",
            "Epoch: 5/20... Step: 93184...\n",
            "Epoch: 5/20... Step: 93696...\n",
            "Epoch: 5/20... Step: 94208...\n",
            "Epoch: 5/20... Step: 94720...\n",
            "Epoch: 5/20... Step: 95232...\n",
            "Epoch: 5/20... Step: 95744...\n",
            "Epoch: 5/20... Step: 96256...\n",
            "Epoch: 5/20... Step: 96768...\n",
            "Epoch: 5/20... Step: 97280...\n",
            "Epoch: 5/20... Step: 97792...\n",
            "Epoch: 5/20... Step: 98304...\n",
            "Epoch: 5/20... Step: 98816...\n",
            "Epoch: 5/20... Step: 99328...\n",
            "Epoch: 5/20... Step: 99840...\n",
            "Epoch: 5/20... Step: 100352...\n",
            "Epoch: 5/20... Step: 100864...\n",
            "Epoch: 5/20... Step: 101376...\n",
            "Epoch: 5/20... Step: 101888...\n",
            "Epoch: 5/20... Step: 102400...\n",
            "Epoch: 5/20... Step: 102912...\n",
            "Epoch: 5/20... Step: 103424...\n",
            "Epoch: 5/20... Step: 103936...\n",
            "Epoch: 5/20... Step: 104448...\n",
            "Epoch: 5/20... Step: 104960...\n",
            "Epoch: 5/20... Step: 105472...\n",
            "Epoch: 5/20... Step: 105984...\n",
            "Epoch: 5/20... Step: 106496...\n",
            "Epoch: 5/20... Step: 107008...\n",
            "Epoch: 6/20... Step: 107520...\n",
            "Epoch: 6/20... Step: 108032...\n",
            "Epoch: 6/20... Step: 108544...\n",
            "Epoch: 6/20... Step: 109056...\n",
            "Epoch: 6/20... Step: 109568...\n",
            "Epoch: 6/20... Step: 110080...\n",
            "Epoch: 6/20... Step: 110592...\n",
            "Epoch: 6/20... Step: 111104...\n",
            "Epoch: 6/20... Step: 111616...\n",
            "Epoch: 6/20... Step: 112128...\n",
            "Epoch: 6/20... Step: 112640...\n",
            "Epoch: 6/20... Step: 113152...\n",
            "Epoch: 6/20... Step: 113664...\n",
            "Epoch: 6/20... Step: 114176...\n",
            "Epoch: 6/20... Step: 114688...\n",
            "Epoch: 6/20... Step: 115200...\n",
            "Epoch: 6/20... Step: 115712...\n",
            "Epoch: 6/20... Step: 116224...\n",
            "Epoch: 6/20... Step: 116736...\n",
            "Epoch: 6/20... Step: 117248...\n",
            "Epoch: 6/20... Step: 117760...\n",
            "Epoch: 6/20... Step: 118272...\n",
            "Epoch: 6/20... Step: 118784...\n",
            "Epoch: 6/20... Step: 119296...\n",
            "Epoch: 6/20... Step: 119808...\n",
            "Epoch: 6/20... Step: 120320...\n",
            "Epoch: 6/20... Step: 120832...\n",
            "Epoch: 6/20... Step: 121344...\n",
            "Epoch: 6/20... Step: 121856...\n",
            "Epoch: 6/20... Step: 122368...\n",
            "Epoch: 6/20... Step: 122880...\n",
            "Epoch: 6/20... Step: 123392...\n",
            "Epoch: 6/20... Step: 123904...\n",
            "Epoch: 6/20... Step: 124416...\n",
            "Epoch: 6/20... Step: 124928...\n",
            "Epoch: 6/20... Step: 125440...\n",
            "Epoch: 6/20... Step: 125952...\n",
            "Epoch: 6/20... Step: 126464...\n",
            "Epoch: 6/20... Step: 126976...\n",
            "Epoch: 6/20... Step: 127488...\n",
            "Epoch: 6/20... Step: 128000...\n",
            "Epoch: 6/20... Step: 128512...\n",
            "Epoch: 7/20... Step: 129024...\n",
            "Epoch: 7/20... Step: 129536...\n",
            "Epoch: 7/20... Step: 130048...\n",
            "Epoch: 7/20... Step: 130560...\n",
            "Epoch: 7/20... Step: 131072...\n",
            "Epoch: 7/20... Step: 131584...\n",
            "Epoch: 7/20... Step: 132096...\n",
            "Epoch: 7/20... Step: 132608...\n",
            "Epoch: 7/20... Step: 133120...\n",
            "Epoch: 7/20... Step: 133632...\n",
            "Epoch: 7/20... Step: 134144...\n",
            "Epoch: 7/20... Step: 134656...\n",
            "Epoch: 7/20... Step: 135168...\n",
            "Epoch: 7/20... Step: 135680...\n",
            "Epoch: 7/20... Step: 136192...\n",
            "Epoch: 7/20... Step: 136704...\n",
            "Epoch: 7/20... Step: 137216...\n",
            "Epoch: 7/20... Step: 137728...\n",
            "Epoch: 7/20... Step: 138240...\n",
            "Epoch: 7/20... Step: 138752...\n",
            "Epoch: 7/20... Step: 139264...\n",
            "Epoch: 7/20... Step: 139776...\n",
            "Epoch: 7/20... Step: 140288...\n",
            "Epoch: 7/20... Step: 140800...\n",
            "Epoch: 7/20... Step: 141312...\n",
            "Epoch: 7/20... Step: 141824...\n",
            "Epoch: 7/20... Step: 142336...\n",
            "Epoch: 7/20... Step: 142848...\n",
            "Epoch: 7/20... Step: 143360...\n",
            "Epoch: 7/20... Step: 143872...\n",
            "Epoch: 7/20... Step: 144384...\n",
            "Epoch: 7/20... Step: 144896...\n",
            "Epoch: 7/20... Step: 145408...\n",
            "Epoch: 7/20... Step: 145920...\n",
            "Epoch: 7/20... Step: 146432...\n",
            "Epoch: 7/20... Step: 146944...\n",
            "Epoch: 7/20... Step: 147456...\n",
            "Epoch: 7/20... Step: 147968...\n",
            "Epoch: 7/20... Step: 148480...\n",
            "Epoch: 7/20... Step: 148992...\n",
            "Epoch: 7/20... Step: 149504...\n",
            "Epoch: 7/20... Step: 150016...\n",
            "Epoch: 8/20... Step: 150528...\n",
            "Epoch: 8/20... Step: 151040...\n",
            "Epoch: 8/20... Step: 151552...\n",
            "Epoch: 8/20... Step: 152064...\n",
            "Epoch: 8/20... Step: 152576...\n",
            "Epoch: 8/20... Step: 153088...\n",
            "Epoch: 8/20... Step: 153600...\n",
            "Epoch: 8/20... Step: 154112...\n",
            "Epoch: 8/20... Step: 154624...\n",
            "Epoch: 8/20... Step: 155136...\n",
            "Epoch: 8/20... Step: 155648...\n",
            "Epoch: 8/20... Step: 156160...\n",
            "Epoch: 8/20... Step: 156672...\n",
            "Epoch: 8/20... Step: 157184...\n",
            "Epoch: 8/20... Step: 157696...\n",
            "Epoch: 8/20... Step: 158208...\n",
            "Epoch: 8/20... Step: 158720...\n",
            "Epoch: 8/20... Step: 159232...\n",
            "Epoch: 8/20... Step: 159744...\n",
            "Epoch: 8/20... Step: 160256...\n",
            "Epoch: 8/20... Step: 160768...\n",
            "Epoch: 8/20... Step: 161280...\n",
            "Epoch: 8/20... Step: 161792...\n",
            "Epoch: 8/20... Step: 162304...\n",
            "Epoch: 8/20... Step: 162816...\n",
            "Epoch: 8/20... Step: 163328...\n",
            "Epoch: 8/20... Step: 163840...\n",
            "Epoch: 8/20... Step: 164352...\n",
            "Epoch: 8/20... Step: 164864...\n",
            "Epoch: 8/20... Step: 165376...\n",
            "Epoch: 8/20... Step: 165888...\n",
            "Epoch: 8/20... Step: 166400...\n",
            "Epoch: 8/20... Step: 166912...\n",
            "Epoch: 8/20... Step: 167424...\n",
            "Epoch: 8/20... Step: 167936...\n",
            "Epoch: 8/20... Step: 168448...\n",
            "Epoch: 8/20... Step: 168960...\n",
            "Epoch: 8/20... Step: 169472...\n",
            "Epoch: 8/20... Step: 169984...\n",
            "Epoch: 8/20... Step: 170496...\n",
            "Epoch: 8/20... Step: 171008...\n",
            "Epoch: 8/20... Step: 171520...\n",
            "Epoch: 9/20... Step: 172032...\n",
            "Epoch: 9/20... Step: 172544...\n",
            "Epoch: 9/20... Step: 173056...\n",
            "Epoch: 9/20... Step: 173568...\n",
            "Epoch: 9/20... Step: 174080...\n",
            "Epoch: 9/20... Step: 174592...\n",
            "Epoch: 9/20... Step: 175104...\n",
            "Epoch: 9/20... Step: 175616...\n",
            "Epoch: 9/20... Step: 176128...\n",
            "Epoch: 9/20... Step: 176640...\n",
            "Epoch: 9/20... Step: 177152...\n",
            "Epoch: 9/20... Step: 177664...\n",
            "Epoch: 9/20... Step: 178176...\n",
            "Epoch: 9/20... Step: 178688...\n",
            "Epoch: 9/20... Step: 179200...\n",
            "Epoch: 9/20... Step: 179712...\n",
            "Epoch: 9/20... Step: 180224...\n",
            "Epoch: 9/20... Step: 180736...\n",
            "Epoch: 9/20... Step: 181248...\n",
            "Epoch: 9/20... Step: 181760...\n",
            "Epoch: 9/20... Step: 182272...\n",
            "Epoch: 9/20... Step: 182784...\n",
            "Epoch: 9/20... Step: 183296...\n",
            "Epoch: 9/20... Step: 183808...\n",
            "Epoch: 9/20... Step: 184320...\n",
            "Epoch: 9/20... Step: 184832...\n",
            "Epoch: 9/20... Step: 185344...\n",
            "Epoch: 9/20... Step: 185856...\n",
            "Epoch: 9/20... Step: 186368...\n",
            "Epoch: 9/20... Step: 186880...\n",
            "Epoch: 9/20... Step: 187392...\n",
            "Epoch: 9/20... Step: 187904...\n",
            "Epoch: 9/20... Step: 188416...\n",
            "Epoch: 9/20... Step: 188928...\n",
            "Epoch: 9/20... Step: 189440...\n",
            "Epoch: 9/20... Step: 189952...\n",
            "Epoch: 9/20... Step: 190464...\n",
            "Epoch: 9/20... Step: 190976...\n",
            "Epoch: 9/20... Step: 191488...\n",
            "Epoch: 9/20... Step: 192000...\n",
            "Epoch: 9/20... Step: 192512...\n",
            "Epoch: 9/20... Step: 193024...\n",
            "Epoch: 10/20... Step: 193536...\n",
            "Epoch: 10/20... Step: 194048...\n",
            "Epoch: 10/20... Step: 194560...\n",
            "Epoch: 10/20... Step: 195072...\n",
            "Epoch: 10/20... Step: 195584...\n",
            "Epoch: 10/20... Step: 196096...\n",
            "Epoch: 10/20... Step: 196608...\n",
            "Epoch: 10/20... Step: 197120...\n",
            "Epoch: 10/20... Step: 197632...\n",
            "Epoch: 10/20... Step: 198144...\n",
            "Epoch: 10/20... Step: 198656...\n",
            "Epoch: 10/20... Step: 199168...\n",
            "Epoch: 10/20... Step: 199680...\n",
            "Epoch: 10/20... Step: 200192...\n",
            "Epoch: 10/20... Step: 200704...\n",
            "Epoch: 10/20... Step: 201216...\n",
            "Epoch: 10/20... Step: 201728...\n",
            "Epoch: 10/20... Step: 202240...\n",
            "Epoch: 10/20... Step: 202752...\n",
            "Epoch: 10/20... Step: 203264...\n",
            "Epoch: 10/20... Step: 203776...\n",
            "Epoch: 10/20... Step: 204288...\n",
            "Epoch: 10/20... Step: 204800...\n",
            "Epoch: 10/20... Step: 205312...\n",
            "Epoch: 10/20... Step: 205824...\n",
            "Epoch: 10/20... Step: 206336...\n",
            "Epoch: 10/20... Step: 206848...\n",
            "Epoch: 10/20... Step: 207360...\n",
            "Epoch: 10/20... Step: 207872...\n",
            "Epoch: 10/20... Step: 208384...\n",
            "Epoch: 10/20... Step: 208896...\n",
            "Epoch: 10/20... Step: 209408...\n",
            "Epoch: 10/20... Step: 209920...\n",
            "Epoch: 10/20... Step: 210432...\n",
            "Epoch: 10/20... Step: 210944...\n",
            "Epoch: 10/20... Step: 211456...\n",
            "Epoch: 10/20... Step: 211968...\n",
            "Epoch: 10/20... Step: 212480...\n",
            "Epoch: 10/20... Step: 212992...\n",
            "Epoch: 10/20... Step: 213504...\n",
            "Epoch: 10/20... Step: 214016...\n",
            "Epoch: 10/20... Step: 214528...\n",
            "Epoch: 11/20... Step: 215040...\n",
            "Epoch: 11/20... Step: 215552...\n",
            "Epoch: 11/20... Step: 216064...\n",
            "Epoch: 11/20... Step: 216576...\n",
            "Epoch: 11/20... Step: 217088...\n",
            "Epoch: 11/20... Step: 217600...\n",
            "Epoch: 11/20... Step: 218112...\n",
            "Epoch: 11/20... Step: 218624...\n",
            "Epoch: 11/20... Step: 219136...\n",
            "Epoch: 11/20... Step: 219648...\n",
            "Epoch: 11/20... Step: 220160...\n",
            "Epoch: 11/20... Step: 220672...\n",
            "Epoch: 11/20... Step: 221184...\n",
            "Epoch: 11/20... Step: 221696...\n",
            "Epoch: 11/20... Step: 222208...\n",
            "Epoch: 11/20... Step: 222720...\n",
            "Epoch: 11/20... Step: 223232...\n",
            "Epoch: 11/20... Step: 223744...\n",
            "Epoch: 11/20... Step: 224256...\n",
            "Epoch: 11/20... Step: 224768...\n",
            "Epoch: 11/20... Step: 225280...\n",
            "Epoch: 11/20... Step: 225792...\n",
            "Epoch: 11/20... Step: 226304...\n",
            "Epoch: 11/20... Step: 226816...\n",
            "Epoch: 11/20... Step: 227328...\n",
            "Epoch: 11/20... Step: 227840...\n",
            "Epoch: 11/20... Step: 228352...\n",
            "Epoch: 11/20... Step: 228864...\n",
            "Epoch: 11/20... Step: 229376...\n",
            "Epoch: 11/20... Step: 229888...\n",
            "Epoch: 11/20... Step: 230400...\n",
            "Epoch: 11/20... Step: 230912...\n",
            "Epoch: 11/20... Step: 231424...\n",
            "Epoch: 11/20... Step: 231936...\n",
            "Epoch: 11/20... Step: 232448...\n",
            "Epoch: 11/20... Step: 232960...\n",
            "Epoch: 11/20... Step: 233472...\n",
            "Epoch: 11/20... Step: 233984...\n",
            "Epoch: 11/20... Step: 234496...\n",
            "Epoch: 11/20... Step: 235008...\n",
            "Epoch: 11/20... Step: 235520...\n",
            "Epoch: 11/20... Step: 236032...\n",
            "Epoch: 12/20... Step: 236544...\n",
            "Epoch: 12/20... Step: 237056...\n",
            "Epoch: 12/20... Step: 237568...\n",
            "Epoch: 12/20... Step: 238080...\n",
            "Epoch: 12/20... Step: 238592...\n",
            "Epoch: 12/20... Step: 239104...\n",
            "Epoch: 12/20... Step: 239616...\n",
            "Epoch: 12/20... Step: 240128...\n",
            "Epoch: 12/20... Step: 240640...\n",
            "Epoch: 12/20... Step: 241152...\n",
            "Epoch: 12/20... Step: 241664...\n",
            "Epoch: 12/20... Step: 242176...\n",
            "Epoch: 12/20... Step: 242688...\n",
            "Epoch: 12/20... Step: 243200...\n",
            "Epoch: 12/20... Step: 243712...\n",
            "Epoch: 12/20... Step: 244224...\n",
            "Epoch: 12/20... Step: 244736...\n",
            "Epoch: 12/20... Step: 245248...\n",
            "Epoch: 12/20... Step: 245760...\n",
            "Epoch: 12/20... Step: 246272...\n",
            "Epoch: 12/20... Step: 246784...\n",
            "Epoch: 12/20... Step: 247296...\n",
            "Epoch: 12/20... Step: 247808...\n",
            "Epoch: 12/20... Step: 248320...\n",
            "Epoch: 12/20... Step: 248832...\n",
            "Epoch: 12/20... Step: 249344...\n",
            "Epoch: 12/20... Step: 249856...\n",
            "Epoch: 12/20... Step: 250368...\n",
            "Epoch: 12/20... Step: 250880...\n",
            "Epoch: 12/20... Step: 251392...\n",
            "Epoch: 12/20... Step: 251904...\n",
            "Epoch: 12/20... Step: 252416...\n",
            "Epoch: 12/20... Step: 252928...\n",
            "Epoch: 12/20... Step: 253440...\n",
            "Epoch: 12/20... Step: 253952...\n",
            "Epoch: 12/20... Step: 254464...\n",
            "Epoch: 12/20... Step: 254976...\n",
            "Epoch: 12/20... Step: 255488...\n",
            "Epoch: 12/20... Step: 256000...\n",
            "Epoch: 12/20... Step: 256512...\n",
            "Epoch: 12/20... Step: 257024...\n",
            "Epoch: 12/20... Step: 257536...\n",
            "Epoch: 13/20... Step: 258048...\n",
            "Epoch: 13/20... Step: 258560...\n",
            "Epoch: 13/20... Step: 259072...\n",
            "Epoch: 13/20... Step: 259584...\n",
            "Epoch: 13/20... Step: 260096...\n",
            "Epoch: 13/20... Step: 260608...\n",
            "Epoch: 13/20... Step: 261120...\n",
            "Epoch: 13/20... Step: 261632...\n",
            "Epoch: 13/20... Step: 262144...\n",
            "Epoch: 13/20... Step: 262656...\n",
            "Epoch: 13/20... Step: 263168...\n",
            "Epoch: 13/20... Step: 263680...\n",
            "Epoch: 13/20... Step: 264192...\n",
            "Epoch: 13/20... Step: 264704...\n",
            "Epoch: 13/20... Step: 265216...\n",
            "Epoch: 13/20... Step: 265728...\n",
            "Epoch: 13/20... Step: 266240...\n",
            "Epoch: 13/20... Step: 266752...\n",
            "Epoch: 13/20... Step: 267264...\n",
            "Epoch: 13/20... Step: 267776...\n",
            "Epoch: 13/20... Step: 268288...\n",
            "Epoch: 13/20... Step: 268800...\n",
            "Epoch: 13/20... Step: 269312...\n",
            "Epoch: 13/20... Step: 269824...\n",
            "Epoch: 13/20... Step: 270336...\n",
            "Epoch: 13/20... Step: 270848...\n",
            "Epoch: 13/20... Step: 271360...\n",
            "Epoch: 13/20... Step: 271872...\n",
            "Epoch: 13/20... Step: 272384...\n",
            "Epoch: 13/20... Step: 272896...\n",
            "Epoch: 13/20... Step: 273408...\n",
            "Epoch: 13/20... Step: 273920...\n",
            "Epoch: 13/20... Step: 274432...\n",
            "Epoch: 13/20... Step: 274944...\n",
            "Epoch: 13/20... Step: 275456...\n",
            "Epoch: 13/20... Step: 275968...\n",
            "Epoch: 13/20... Step: 276480...\n",
            "Epoch: 13/20... Step: 276992...\n",
            "Epoch: 13/20... Step: 277504...\n",
            "Epoch: 13/20... Step: 278016...\n",
            "Epoch: 13/20... Step: 278528...\n",
            "Epoch: 13/20... Step: 279040...\n",
            "Epoch: 14/20... Step: 279552...\n",
            "Epoch: 14/20... Step: 280064...\n",
            "Epoch: 14/20... Step: 280576...\n",
            "Epoch: 14/20... Step: 281088...\n",
            "Epoch: 14/20... Step: 281600...\n",
            "Epoch: 14/20... Step: 282112...\n",
            "Epoch: 14/20... Step: 282624...\n",
            "Epoch: 14/20... Step: 283136...\n",
            "Epoch: 14/20... Step: 283648...\n",
            "Epoch: 14/20... Step: 284160...\n",
            "Epoch: 14/20... Step: 284672...\n",
            "Epoch: 14/20... Step: 285184...\n",
            "Epoch: 14/20... Step: 285696...\n",
            "Epoch: 14/20... Step: 286208...\n",
            "Epoch: 14/20... Step: 286720...\n",
            "Epoch: 14/20... Step: 287232...\n",
            "Epoch: 14/20... Step: 287744...\n",
            "Epoch: 14/20... Step: 288256...\n",
            "Epoch: 14/20... Step: 288768...\n",
            "Epoch: 14/20... Step: 289280...\n",
            "Epoch: 14/20... Step: 289792...\n",
            "Epoch: 14/20... Step: 290304...\n",
            "Epoch: 14/20... Step: 290816...\n",
            "Epoch: 14/20... Step: 291328...\n",
            "Epoch: 14/20... Step: 291840...\n",
            "Epoch: 14/20... Step: 292352...\n",
            "Epoch: 14/20... Step: 292864...\n",
            "Epoch: 14/20... Step: 293376...\n",
            "Epoch: 14/20... Step: 293888...\n",
            "Epoch: 14/20... Step: 294400...\n",
            "Epoch: 14/20... Step: 294912...\n",
            "Epoch: 14/20... Step: 295424...\n",
            "Epoch: 14/20... Step: 295936...\n",
            "Epoch: 14/20... Step: 296448...\n",
            "Epoch: 14/20... Step: 296960...\n",
            "Epoch: 14/20... Step: 297472...\n",
            "Epoch: 14/20... Step: 297984...\n",
            "Epoch: 14/20... Step: 298496...\n",
            "Epoch: 14/20... Step: 299008...\n",
            "Epoch: 14/20... Step: 299520...\n",
            "Epoch: 14/20... Step: 300032...\n",
            "Epoch: 14/20... Step: 300544...\n",
            "Epoch: 15/20... Step: 301056...\n",
            "Epoch: 15/20... Step: 301568...\n",
            "Epoch: 15/20... Step: 302080...\n",
            "Epoch: 15/20... Step: 302592...\n",
            "Epoch: 15/20... Step: 303104...\n",
            "Epoch: 15/20... Step: 303616...\n",
            "Epoch: 15/20... Step: 304128...\n",
            "Epoch: 15/20... Step: 304640...\n",
            "Epoch: 15/20... Step: 305152...\n",
            "Epoch: 15/20... Step: 305664...\n",
            "Epoch: 15/20... Step: 306176...\n",
            "Epoch: 15/20... Step: 306688...\n",
            "Epoch: 15/20... Step: 307200...\n",
            "Epoch: 15/20... Step: 307712...\n",
            "Epoch: 15/20... Step: 308224...\n",
            "Epoch: 15/20... Step: 308736...\n",
            "Epoch: 15/20... Step: 309248...\n",
            "Epoch: 15/20... Step: 309760...\n",
            "Epoch: 15/20... Step: 310272...\n",
            "Epoch: 15/20... Step: 310784...\n",
            "Epoch: 15/20... Step: 311296...\n",
            "Epoch: 15/20... Step: 311808...\n",
            "Epoch: 15/20... Step: 312320...\n",
            "Epoch: 15/20... Step: 312832...\n",
            "Epoch: 15/20... Step: 313344...\n",
            "Epoch: 15/20... Step: 313856...\n",
            "Epoch: 15/20... Step: 314368...\n",
            "Epoch: 15/20... Step: 314880...\n",
            "Epoch: 15/20... Step: 315392...\n",
            "Epoch: 15/20... Step: 315904...\n",
            "Epoch: 15/20... Step: 316416...\n",
            "Epoch: 15/20... Step: 316928...\n",
            "Epoch: 15/20... Step: 317440...\n",
            "Epoch: 15/20... Step: 317952...\n",
            "Epoch: 15/20... Step: 318464...\n",
            "Epoch: 15/20... Step: 318976...\n",
            "Epoch: 15/20... Step: 319488...\n",
            "Epoch: 15/20... Step: 320000...\n",
            "Epoch: 15/20... Step: 320512...\n",
            "Epoch: 15/20... Step: 321024...\n",
            "Epoch: 15/20... Step: 321536...\n",
            "Epoch: 15/20... Step: 322048...\n",
            "Epoch: 16/20... Step: 322560...\n",
            "Epoch: 16/20... Step: 323072...\n",
            "Epoch: 16/20... Step: 323584...\n",
            "Epoch: 16/20... Step: 324096...\n",
            "Epoch: 16/20... Step: 324608...\n",
            "Epoch: 16/20... Step: 325120...\n",
            "Epoch: 16/20... Step: 325632...\n",
            "Epoch: 16/20... Step: 326144...\n",
            "Epoch: 16/20... Step: 326656...\n",
            "Epoch: 16/20... Step: 327168...\n",
            "Epoch: 16/20... Step: 327680...\n",
            "Epoch: 16/20... Step: 328192...\n",
            "Epoch: 16/20... Step: 328704...\n",
            "Epoch: 16/20... Step: 329216...\n",
            "Epoch: 16/20... Step: 329728...\n",
            "Epoch: 16/20... Step: 330240...\n",
            "Epoch: 16/20... Step: 330752...\n",
            "Epoch: 16/20... Step: 331264...\n",
            "Epoch: 16/20... Step: 331776...\n",
            "Epoch: 16/20... Step: 332288...\n",
            "Epoch: 16/20... Step: 332800...\n",
            "Epoch: 16/20... Step: 333312...\n",
            "Epoch: 16/20... Step: 333824...\n",
            "Epoch: 16/20... Step: 334336...\n",
            "Epoch: 16/20... Step: 334848...\n",
            "Epoch: 16/20... Step: 335360...\n",
            "Epoch: 16/20... Step: 335872...\n",
            "Epoch: 16/20... Step: 336384...\n",
            "Epoch: 16/20... Step: 336896...\n",
            "Epoch: 16/20... Step: 337408...\n",
            "Epoch: 16/20... Step: 337920...\n",
            "Epoch: 16/20... Step: 338432...\n",
            "Epoch: 16/20... Step: 338944...\n",
            "Epoch: 16/20... Step: 339456...\n",
            "Epoch: 16/20... Step: 339968...\n",
            "Epoch: 16/20... Step: 340480...\n",
            "Epoch: 16/20... Step: 340992...\n",
            "Epoch: 16/20... Step: 341504...\n",
            "Epoch: 16/20... Step: 342016...\n",
            "Epoch: 16/20... Step: 342528...\n",
            "Epoch: 16/20... Step: 343040...\n",
            "Epoch: 16/20... Step: 343552...\n",
            "Epoch: 17/20... Step: 344064...\n",
            "Epoch: 17/20... Step: 344576...\n",
            "Epoch: 17/20... Step: 345088...\n",
            "Epoch: 17/20... Step: 345600...\n",
            "Epoch: 17/20... Step: 346112...\n",
            "Epoch: 17/20... Step: 346624...\n",
            "Epoch: 17/20... Step: 347136...\n",
            "Epoch: 17/20... Step: 347648...\n",
            "Epoch: 17/20... Step: 348160...\n",
            "Epoch: 17/20... Step: 348672...\n",
            "Epoch: 17/20... Step: 349184...\n",
            "Epoch: 17/20... Step: 349696...\n",
            "Epoch: 17/20... Step: 350208...\n",
            "Epoch: 17/20... Step: 350720...\n",
            "Epoch: 17/20... Step: 351232...\n",
            "Epoch: 17/20... Step: 351744...\n",
            "Epoch: 17/20... Step: 352256...\n",
            "Epoch: 17/20... Step: 352768...\n",
            "Epoch: 17/20... Step: 353280...\n",
            "Epoch: 17/20... Step: 353792...\n",
            "Epoch: 17/20... Step: 354304...\n",
            "Epoch: 17/20... Step: 354816...\n",
            "Epoch: 17/20... Step: 355328...\n",
            "Epoch: 17/20... Step: 355840...\n",
            "Epoch: 17/20... Step: 356352...\n",
            "Epoch: 17/20... Step: 356864...\n",
            "Epoch: 17/20... Step: 357376...\n",
            "Epoch: 17/20... Step: 357888...\n",
            "Epoch: 17/20... Step: 358400...\n",
            "Epoch: 17/20... Step: 358912...\n",
            "Epoch: 17/20... Step: 359424...\n",
            "Epoch: 17/20... Step: 359936...\n",
            "Epoch: 17/20... Step: 360448...\n",
            "Epoch: 17/20... Step: 360960...\n",
            "Epoch: 17/20... Step: 361472...\n",
            "Epoch: 17/20... Step: 361984...\n",
            "Epoch: 17/20... Step: 362496...\n",
            "Epoch: 17/20... Step: 363008...\n",
            "Epoch: 17/20... Step: 363520...\n",
            "Epoch: 17/20... Step: 364032...\n",
            "Epoch: 17/20... Step: 364544...\n",
            "Epoch: 17/20... Step: 365056...\n",
            "Epoch: 18/20... Step: 365568...\n",
            "Epoch: 18/20... Step: 366080...\n",
            "Epoch: 18/20... Step: 366592...\n",
            "Epoch: 18/20... Step: 367104...\n",
            "Epoch: 18/20... Step: 367616...\n",
            "Epoch: 18/20... Step: 368128...\n",
            "Epoch: 18/20... Step: 368640...\n",
            "Epoch: 18/20... Step: 369152...\n",
            "Epoch: 18/20... Step: 369664...\n",
            "Epoch: 18/20... Step: 370176...\n",
            "Epoch: 18/20... Step: 370688...\n",
            "Epoch: 18/20... Step: 371200...\n",
            "Epoch: 18/20... Step: 371712...\n",
            "Epoch: 18/20... Step: 372224...\n",
            "Epoch: 18/20... Step: 372736...\n",
            "Epoch: 18/20... Step: 373248...\n",
            "Epoch: 18/20... Step: 373760...\n",
            "Epoch: 18/20... Step: 374272...\n",
            "Epoch: 18/20... Step: 374784...\n",
            "Epoch: 18/20... Step: 375296...\n",
            "Epoch: 18/20... Step: 375808...\n",
            "Epoch: 18/20... Step: 376320...\n",
            "Epoch: 18/20... Step: 376832...\n",
            "Epoch: 18/20... Step: 377344...\n",
            "Epoch: 18/20... Step: 377856...\n",
            "Epoch: 18/20... Step: 378368...\n",
            "Epoch: 18/20... Step: 378880...\n",
            "Epoch: 18/20... Step: 379392...\n",
            "Epoch: 18/20... Step: 379904...\n",
            "Epoch: 18/20... Step: 380416...\n",
            "Epoch: 18/20... Step: 380928...\n",
            "Epoch: 18/20... Step: 381440...\n",
            "Epoch: 18/20... Step: 381952...\n",
            "Epoch: 18/20... Step: 382464...\n",
            "Epoch: 18/20... Step: 382976...\n",
            "Epoch: 18/20... Step: 383488...\n",
            "Epoch: 18/20... Step: 384000...\n",
            "Epoch: 18/20... Step: 384512...\n",
            "Epoch: 18/20... Step: 385024...\n",
            "Epoch: 18/20... Step: 385536...\n",
            "Epoch: 18/20... Step: 386048...\n",
            "Epoch: 18/20... Step: 386560...\n",
            "Epoch: 19/20... Step: 387072...\n",
            "Epoch: 19/20... Step: 387584...\n",
            "Epoch: 19/20... Step: 388096...\n",
            "Epoch: 19/20... Step: 388608...\n",
            "Epoch: 19/20... Step: 389120...\n",
            "Epoch: 19/20... Step: 389632...\n",
            "Epoch: 19/20... Step: 390144...\n",
            "Epoch: 19/20... Step: 390656...\n",
            "Epoch: 19/20... Step: 391168...\n",
            "Epoch: 19/20... Step: 391680...\n",
            "Epoch: 19/20... Step: 392192...\n",
            "Epoch: 19/20... Step: 392704...\n",
            "Epoch: 19/20... Step: 393216...\n",
            "Epoch: 19/20... Step: 393728...\n",
            "Epoch: 19/20... Step: 394240...\n",
            "Epoch: 19/20... Step: 394752...\n",
            "Epoch: 19/20... Step: 395264...\n",
            "Epoch: 19/20... Step: 395776...\n",
            "Epoch: 19/20... Step: 396288...\n",
            "Epoch: 19/20... Step: 396800...\n",
            "Epoch: 19/20... Step: 397312...\n",
            "Epoch: 19/20... Step: 397824...\n",
            "Epoch: 19/20... Step: 398336...\n",
            "Epoch: 19/20... Step: 398848...\n",
            "Epoch: 19/20... Step: 399360...\n",
            "Epoch: 19/20... Step: 399872...\n",
            "Epoch: 19/20... Step: 400384...\n",
            "Epoch: 19/20... Step: 400896...\n",
            "Epoch: 19/20... Step: 401408...\n",
            "Epoch: 19/20... Step: 401920...\n",
            "Epoch: 19/20... Step: 402432...\n",
            "Epoch: 19/20... Step: 402944...\n",
            "Epoch: 19/20... Step: 403456...\n",
            "Epoch: 19/20... Step: 403968...\n",
            "Epoch: 19/20... Step: 404480...\n",
            "Epoch: 19/20... Step: 404992...\n",
            "Epoch: 19/20... Step: 405504...\n",
            "Epoch: 19/20... Step: 406016...\n",
            "Epoch: 19/20... Step: 406528...\n",
            "Epoch: 19/20... Step: 407040...\n",
            "Epoch: 19/20... Step: 407552...\n",
            "Epoch: 19/20... Step: 408064...\n",
            "Epoch: 20/20... Step: 408576...\n",
            "Epoch: 20/20... Step: 409088...\n",
            "Epoch: 20/20... Step: 409600...\n",
            "Epoch: 20/20... Step: 410112...\n",
            "Epoch: 20/20... Step: 410624...\n",
            "Epoch: 20/20... Step: 411136...\n",
            "Epoch: 20/20... Step: 411648...\n",
            "Epoch: 20/20... Step: 412160...\n",
            "Epoch: 20/20... Step: 412672...\n",
            "Epoch: 20/20... Step: 413184...\n",
            "Epoch: 20/20... Step: 413696...\n",
            "Epoch: 20/20... Step: 414208...\n",
            "Epoch: 20/20... Step: 414720...\n",
            "Epoch: 20/20... Step: 415232...\n",
            "Epoch: 20/20... Step: 415744...\n",
            "Epoch: 20/20... Step: 416256...\n",
            "Epoch: 20/20... Step: 416768...\n",
            "Epoch: 20/20... Step: 417280...\n",
            "Epoch: 20/20... Step: 417792...\n",
            "Epoch: 20/20... Step: 418304...\n",
            "Epoch: 20/20... Step: 418816...\n",
            "Epoch: 20/20... Step: 419328...\n",
            "Epoch: 20/20... Step: 419840...\n",
            "Epoch: 20/20... Step: 420352...\n",
            "Epoch: 20/20... Step: 420864...\n",
            "Epoch: 20/20... Step: 421376...\n",
            "Epoch: 20/20... Step: 421888...\n",
            "Epoch: 20/20... Step: 422400...\n",
            "Epoch: 20/20... Step: 422912...\n",
            "Epoch: 20/20... Step: 423424...\n",
            "Epoch: 20/20... Step: 423936...\n",
            "Epoch: 20/20... Step: 424448...\n",
            "Epoch: 20/20... Step: 424960...\n",
            "Epoch: 20/20... Step: 425472...\n",
            "Epoch: 20/20... Step: 425984...\n",
            "Epoch: 20/20... Step: 426496...\n",
            "Epoch: 20/20... Step: 427008...\n",
            "Epoch: 20/20... Step: 427520...\n",
            "Epoch: 20/20... Step: 428032...\n",
            "Epoch: 20/20... Step: 428544...\n",
            "Epoch: 20/20... Step: 429056...\n",
            "Epoch: 20/20... Step: 429568...\n"
          ],
          "name": "stdout"
        }
      ]
    },
    {
      "cell_type": "code",
      "metadata": {
        "colab": {
          "base_uri": "https://localhost:8080/",
          "height": 295
        },
        "id": "oKcxZBcG491T",
        "outputId": "c5ccc14f-ee03-48c8-c693-45dd72c603fe"
      },
      "source": [
        "epochs = list(range(1,21))\r\n",
        "plt.plot(epochs, loss_vals)\r\n",
        "plt.xlabel(\"Epoch\")\r\n",
        "plt.ylabel(\"Loss values\")\r\n",
        "plt.title(\"Loss function of the model\")\r\n",
        "# plt.savefig('Lossfunction.png')"
      ],
      "execution_count": null,
      "outputs": [
        {
          "output_type": "display_data",
          "data": {
            "image/png": "[encoded data removed]",
            "text/plain": [
              "<Figure size 432x288 with 1 Axes>"
            ]
          },
          "metadata": {
            "tags": [],
            "needs_background": "light"
          }
        }
      ]
    },
    {
      "cell_type": "markdown",
      "metadata": {
        "id": "auFNQ7LJboUL"
      },
      "source": [
        "# **Natural Language Generation using LSTM model**"
      ]
    },
    {
      "cell_type": "code",
      "metadata": {
        "id": "cvSXYojM_gla"
      },
      "source": [
        "def predict(net, token, hidden=None):\n",
        "         \n",
        "  # tensor inputs\n",
        "  x = np.array([[token_to_int[token]]])\n",
        "  inputs = torch.from_numpy(x)\n",
        "  \n",
        "  # push to GPU\n",
        "  inputs = inputs.cuda()\n",
        "\n",
        "  # detach hidden state from history\n",
        "  hidden = tuple([each.data for each in hidden])\n",
        "\n",
        "  # get the output of the model\n",
        "  out, hidden = net(inputs, hidden)\n",
        "\n",
        "  # get the token probabilities\n",
        "  probability = F.softmax(out, dim=1).data\n",
        "\n",
        "  probability = probability.cpu()\n",
        "\n",
        "  probability = probability.numpy()\n",
        "  probability = probability.reshape(probability.shape[1],)\n",
        "\n",
        "  # get indices of top 3 values\n",
        "  top_n_idx = probability.argsort()[-3:][::-1]\n",
        "\n",
        "  # randomly select one of the three indices\n",
        "  sampled_token_index = top_n_idx[random.sample([0,1,2],1)[0]]\n",
        "\n",
        "  # return the encoded value of the predicted char and the hidden state\n",
        "  return int_to_token[sampled_token_index], hidden"
      ],
      "execution_count": null,
      "outputs": []
    },
    {
      "cell_type": "code",
      "metadata": {
        "id": "ftgiySeOASBJ"
      },
      "source": [
        "# function to generate text\n",
        "def generateText(net, size, prime='today'):\n",
        "        \n",
        "    # push to GPU\n",
        "    net.cuda()\n",
        "    \n",
        "    net.eval()\n",
        "\n",
        "    # batch size is 1\n",
        "    h = net.init_hidden(1)\n",
        "\n",
        "    tokens = prime.split()\n",
        "\n",
        "    # predict next token\n",
        "    for t in prime.split():\n",
        "      token, h = predict(net, t, h)\n",
        "    \n",
        "    tokens.append(token)\n",
        "\n",
        "    # predict subsequent tokens\n",
        "    for i in range(size-1):\n",
        "        token, h = predict(net, tokens[-1], h)\n",
        "        tokens.append(token)\n",
        "\n",
        "    return ' '.join(tokens)"
      ],
      "execution_count": null,
      "outputs": []
    },
    {
      "cell_type": "code",
      "metadata": {
        "id": "LB-JJrb4AXdw",
        "colab": {
          "base_uri": "https://localhost:8080/",
          "height": 35
        },
        "outputId": "f08158be-4b88-4c2d-c23d-b8268c797b4a"
      },
      "source": [
        "generateText(net, 20)"
      ],
      "execution_count": null,
      "outputs": [
        {
          "output_type": "execute_result",
          "data": {
            "application/vnd.google.colaboratory.intrinsic+json": {
              "type": "string"
            },
            "text/plain": [
              "'today and they have to get a lot to be a good call the clock in the playoff championship and a'"
            ]
          },
          "metadata": {
            "tags": []
          },
          "execution_count": 28
        }
      ]
    },
    {
      "cell_type": "code",
      "metadata": {
        "id": "XH-mM3miAXg3",
        "colab": {
          "base_uri": "https://localhost:8080/",
          "height": 35
        },
        "outputId": "8b64f3b0-0fea-455f-9a7d-3d0bf48458e5"
      },
      "source": [
        "generateText(net, 10, prime = \"natural\")"
      ],
      "execution_count": null,
      "outputs": [
        {
          "output_type": "execute_result",
          "data": {
            "application/vnd.google.colaboratory.intrinsic+json": {
              "type": "string"
            },
            "text/plain": [
              "'natural first half of the year for houston they have been'"
            ]
          },
          "metadata": {
            "tags": []
          },
          "execution_count": 29
        }
      ]
    },
    {
      "cell_type": "markdown",
      "metadata": {
        "id": "DKLBYN4oCeiF"
      },
      "source": [
        "# **LSTM Model Metrics**"
      ]
    },
    {
      "cell_type": "markdown",
      "metadata": {
        "id": "UHNvRwdFJ-0A"
      },
      "source": [
        "We are using BLEU and ROUGE as model evaluation metrics.\n",
        "\n",
        "BLEU, Bilingual Evaluation Understudy, is a score used to compare a candidate translation of text to one or more reference translations. The more the matches, the better the candidate translation is. It can be used to evaluate text generated for a suite of natural language processing tasks. This score is used for evaluating the predictions made by automatic machine translation systems. The BLEU score provides an overall assessment of model quality. We have chosen this metric for the following reasons:\n",
        "It is quick and inexpensive to calculate.\n",
        "It is easy to understand.\n",
        "It is language independent.\n",
        "It correlates highly with human evaluation.\n",
        "It has been widely adopted\n",
        "\n",
        "ROUGE (Recall-Oriented Understudy Gisting Evaluation) is a recall-based evaluation metric. Recall measures how much of the reference summary is captured within the generated summary. \n",
        "We have used ROUGE-1 and ROUGE-L while evaluating results. ROUGE-1 focuses on unigram ROUGE evaluation, ROUGE-L measures the “longest common subsequence” (LCS) of words due to the assumption that the longer the matching sequence, the closer the summaries.\n",
        "Precision captures the extent to which the content of the generated text is actually needed. The precision and recall scores are combined by the F1-score which is the harmonic mean of both results."
      ]
    },
    {
      "cell_type": "code",
      "metadata": {
        "id": "vWC20G0la1NW"
      },
      "source": [
        "tran4 = random.choice(trainTranscripts)\n",
        "tran4words = tran4.split()\n",
        "f30 = tran4words[0:30]\n",
        "l30 = tran4words[30:60]\n",
        "gensent = generateText(net, 30, prime =  \" \".join(f30))\n",
        "g30 = gensent.split()"
      ],
      "execution_count": null,
      "outputs": []
    },
    {
      "cell_type": "code",
      "metadata": {
        "id": "xo9j7nbqdrv7",
        "colab": {
          "base_uri": "https://localhost:8080/"
        },
        "outputId": "2e0f1b11-f626-4c4f-8694-e50a8eab9824"
      },
      "source": [
        "from nltk.translate.bleu_score import sentence_bleu\n",
        "reference = [l30]\n",
        "candidate = g30\n",
        "score = sentence_bleu(reference, candidate)\n",
        "print(score)"
      ],
      "execution_count": null,
      "outputs": [
        {
          "output_type": "stream",
          "text": [
            "0.09395549431099558\n"
          ],
          "name": "stdout"
        }
      ]
    },
    {
      "cell_type": "code",
      "metadata": {
        "colab": {
          "base_uri": "https://localhost:8080/"
        },
        "id": "QblK-qKOKqwy",
        "outputId": "226c48bc-1c45-44c3-cbc6-47c64505c18c"
      },
      "source": [
        "pip install rouge"
      ],
      "execution_count": null,
      "outputs": [
        {
          "output_type": "stream",
          "text": [
            "Collecting rouge\n",
            "  Downloading https://files.pythonhosted.org/packages/43/cc/e18e33be20971ff73a056ebdb023476b5a545e744e3fc22acd8c758f1e0d/rouge-1.0.0-py3-none-any.whl\n",
            "Requirement already satisfied: six in /usr/local/lib/python3.6/dist-packages (from rouge) (1.15.0)\n",
            "Installing collected packages: rouge\n",
            "Successfully installed rouge-1.0.0\n"
          ],
          "name": "stdout"
        }
      ]
    },
    {
      "cell_type": "code",
      "metadata": {
        "id": "ibSDFa1AjPJ5",
        "colab": {
          "base_uri": "https://localhost:8080/"
        },
        "outputId": "d5068362-1524-45ee-b062-31e508dd3098"
      },
      "source": [
        "pip install rouge_score"
      ],
      "execution_count": null,
      "outputs": [
        {
          "output_type": "stream",
          "text": [
            "Collecting rouge_score\n",
            "  Downloading https://files.pythonhosted.org/packages/1f/56/a81022436c08b9405a5247b71635394d44fe7e1dbedc4b28c740e09c2840/rouge_score-0.0.4-py2.py3-none-any.whl\n",
            "Requirement already satisfied: six>=1.14.0 in /usr/local/lib/python3.6/dist-packages (from rouge_score) (1.15.0)\n",
            "Requirement already satisfied: absl-py in /usr/local/lib/python3.6/dist-packages (from rouge_score) (0.10.0)\n",
            "Requirement already satisfied: nltk in /usr/local/lib/python3.6/dist-packages (from rouge_score) (3.2.5)\n",
            "Requirement already satisfied: numpy in /usr/local/lib/python3.6/dist-packages (from rouge_score) (1.18.5)\n",
            "Installing collected packages: rouge-score\n",
            "Successfully installed rouge-score-0.0.4\n"
          ],
          "name": "stdout"
        }
      ]
    },
    {
      "cell_type": "code",
      "metadata": {
        "id": "wmyVfcMaj5MJ",
        "colab": {
          "base_uri": "https://localhost:8080/"
        },
        "outputId": "1e877429-30ba-43d6-84f2-a94fb16981c4"
      },
      "source": [
        "from rouge_score import rouge_scorer\n",
        "\n",
        "scorer = rouge_scorer.RougeScorer(['rouge1', 'rougeL'], use_stemmer=True)\n",
        "scores = scorer.score(\" \".join(l30),\" \".join(g30))\n",
        "print(scores)"
      ],
      "execution_count": null,
      "outputs": [
        {
          "output_type": "stream",
          "text": [
            "{'rouge1': Score(precision=0.12903225806451613, recall=0.26666666666666666, fmeasure=0.17391304347826086), 'rougeL': Score(precision=0.11290322580645161, recall=0.23333333333333334, fmeasure=0.15217391304347824)}\n"
          ],
          "name": "stdout"
        }
      ]
    },
    {
      "cell_type": "code",
      "metadata": {
        "id": "QhSWeZOPmy9T",
        "colab": {
          "base_uri": "https://localhost:8080/"
        },
        "outputId": "49ebd663-be79-4648-a37a-94c47ff0c244"
      },
      "source": [
        "pip install rouge"
      ],
      "execution_count": null,
      "outputs": [
        {
          "output_type": "stream",
          "text": [
            "Requirement already satisfied: rouge in /usr/local/lib/python3.6/dist-packages (1.0.0)\n",
            "Requirement already satisfied: six in /usr/local/lib/python3.6/dist-packages (from rouge) (1.15.0)\n"
          ],
          "name": "stdout"
        }
      ]
    },
    {
      "cell_type": "code",
      "metadata": {
        "id": "-pQGOpWNmjx7",
        "colab": {
          "base_uri": "https://localhost:8080/"
        },
        "outputId": "27c4e276-579b-468b-dc9e-dff94132021b"
      },
      "source": [
        "from rouge import Rouge \n",
        "\n",
        "hypothesis = \" \".join(l30)\n",
        "reference = \" \".join(g30)\n",
        "\n",
        "rouge = Rouge()\n",
        "scores = rouge.get_scores(hypothesis, reference)\n",
        "print(scores)"
      ],
      "execution_count": null,
      "outputs": [
        {
          "output_type": "stream",
          "text": [
            "[{'rouge-1': {'f': 0.17777777333333344, 'p': 0.26666666666666666, 'r': 0.13333333333333333}, 'rouge-2': {'f': 0.04545454103564093, 'p': 0.06896551724137931, 'r': 0.03389830508474576}, 'rouge-l': {'f': 0.15686274079200319, 'p': 0.25, 'r': 0.11428571428571428}}]\n"
          ],
          "name": "stdout"
        }
      ]
    },
    {
      "cell_type": "code",
      "metadata": {
        "id": "8Nq69HRSKUdG"
      },
      "source": [
        "from rouge import Rouge\r\n",
        "def generateBleuScores(data):\r\n",
        "  bleu_data=[]\r\n",
        "  rouge_data=[]\r\n",
        "  for transcript in data:\r\n",
        "    # print(transcript)\r\n",
        "    tran4words = tran4.split()\r\n",
        "    f30 = tran4words[0:30]\r\n",
        "    l30 = tran4words[30:60]\r\n",
        "    gensent = generateText(net, 30, prime =  \" \".join(f30))\r\n",
        "    g30 = gensent.split()\r\n",
        "    reference = [l30]\r\n",
        "    candidate = g30\r\n",
        "    score = sentence_bleu(reference, candidate)\r\n",
        "    # print(score)\r\n",
        "    bleu_data.append(score)\r\n",
        "\r\n",
        "    hypothesis = \" \".join(l30)\r\n",
        "    reference = \" \".join(g30)\r\n",
        "    rouge = Rouge()\r\n",
        "    rouge_scores = rouge.get_scores(hypothesis, reference)\r\n",
        "    rouge_data.append(rouge_scores[0])\r\n",
        "\r\n",
        "  return bleu_data, rouge_data"
      ],
      "execution_count": null,
      "outputs": []
    },
    {
      "cell_type": "code",
      "metadata": {
        "id": "CIfwW-EbKaOf",
        "colab": {
          "base_uri": "https://localhost:8080/",
          "height": 332
        },
        "outputId": "b520e361-6b34-4a1f-9a29-a3a8a98e6796"
      },
      "source": [
        "bleuScores, rougeScores = generateBleuScores(testTranscripts)\r\n",
        "print(\"The bleu scores for test transcripts are: \", bleuScores)\r\n",
        "\r\n",
        "testTranscriptsRange = list(range(1,len(testTranscripts)+1))\r\n",
        "plt.xticks(range(len(bleuScores)), testTranscriptsRange)\r\n",
        "plt.xlabel('Test Transcripts')\r\n",
        "plt.ylabel('Bleu Scores')\r\n",
        "plt.title('Bleu Scores for the test Transcripts')\r\n",
        "plt.bar(range(len(bleuScores)), bleuScores) \r\n",
        "# plt.savefig('BleuScores.png')\r\n",
        "plt.show()"
      ],
      "execution_count": null,
      "outputs": [
        {
          "output_type": "stream",
          "text": [
            "The bleu scores for test transcripts are:  [0.04634703033402808, 0.09676322008567041, 0.09087076726500527, 0.04758403702668176, 0.09395549431099558, 0.09934583972680014, 0.09395549431099558, 0.09087076726500527, 0.09934583972680014, 0.04634703033402808, 0.09934583972680014, 0.04500220374048071, 0.09395549431099558, 0.09395549431099558, 0.04634703033402808]\n"
          ],
          "name": "stdout"
        },
        {
          "output_type": "display_data",
          "data": {
            "image/png": "[encoded data removed]",
            "text/plain": [
              "<Figure size 432x288 with 1 Axes>"
            ]
          },
          "metadata": {
            "tags": [],
            "needs_background": "light"
          }
        }
      ]
    },
    {
      "cell_type": "code",
      "metadata": {
        "colab": {
          "base_uri": "https://localhost:8080/"
        },
        "id": "QhDw9vgobFxC",
        "outputId": "08d550be-2bfa-4711-d9e1-9b541b386500"
      },
      "source": [
        "print(\"The Rouge score are as follows: \", rougeScores)"
      ],
      "execution_count": null,
      "outputs": [
        {
          "output_type": "stream",
          "text": [
            "The Rouge score are as follows:  [{'rouge-1': {'f': 0.22222221777777784, 'p': 0.3333333333333333, 'r': 0.16666666666666666}, 'rouge-2': {'f': 0.04545454103564093, 'p': 0.06896551724137931, 'r': 0.03389830508474576}, 'rouge-l': {'f': 0.1509433920113921, 'p': 0.25, 'r': 0.10810810810810811}}, {'rouge-1': {'f': 0.15555555111111127, 'p': 0.23333333333333334, 'r': 0.11666666666666667}, 'rouge-2': {'f': 0.04545454103564093, 'p': 0.06896551724137931, 'r': 0.03389830508474576}, 'rouge-l': {'f': 0.17021276146672715, 'p': 0.25, 'r': 0.12903225806451613}}, {'rouge-1': {'f': 0.17777777333333344, 'p': 0.26666666666666666, 'r': 0.13333333333333333}, 'rouge-2': {'f': 0.0681818137629135, 'p': 0.10344827586206896, 'r': 0.05084745762711865}, 'rouge-l': {'f': 0.15686274079200319, 'p': 0.25, 'r': 0.11428571428571428}}, {'rouge-1': {'f': 0.13333332888888905, 'p': 0.2, 'r': 0.1}, 'rouge-2': {'f': 0.04545454103564093, 'p': 0.06896551724137931, 'r': 0.03389830508474576}, 'rouge-l': {'f': 0.15686274079200319, 'p': 0.25, 'r': 0.11428571428571428}}, {'rouge-1': {'f': 0.15555555111111127, 'p': 0.23333333333333334, 'r': 0.11666666666666667}, 'rouge-2': {'f': 0.0681818137629135, 'p': 0.10344827586206896, 'r': 0.05084745762711865}, 'rouge-l': {'f': 0.1509433920113921, 'p': 0.25, 'r': 0.10810810810810811}}, {'rouge-1': {'f': 0.15555555111111127, 'p': 0.23333333333333334, 'r': 0.11666666666666667}, 'rouge-2': {'f': 0.04545454103564093, 'p': 0.06896551724137931, 'r': 0.03389830508474576}, 'rouge-l': {'f': 0.15686274079200319, 'p': 0.25, 'r': 0.11428571428571428}}, {'rouge-1': {'f': 0.19999999555555567, 'p': 0.3, 'r': 0.15}, 'rouge-2': {'f': 0.04545454103564093, 'p': 0.06896551724137931, 'r': 0.03389830508474576}, 'rouge-l': {'f': 0.15686274079200319, 'p': 0.25, 'r': 0.11428571428571428}}, {'rouge-1': {'f': 0.17777777333333344, 'p': 0.26666666666666666, 'r': 0.13333333333333333}, 'rouge-2': {'f': 0.04545454103564093, 'p': 0.06896551724137931, 'r': 0.03389830508474576}, 'rouge-l': {'f': 0.14814814397805223, 'p': 0.25, 'r': 0.10526315789473684}}, {'rouge-1': {'f': 0.22222221777777784, 'p': 0.3333333333333333, 'r': 0.16666666666666666}, 'rouge-2': {'f': 0.04545454103564093, 'p': 0.06896551724137931, 'r': 0.03389830508474576}, 'rouge-l': {'f': 0.15384614958579892, 'p': 0.25, 'r': 0.1111111111111111}}, {'rouge-1': {'f': 0.15555555111111127, 'p': 0.23333333333333334, 'r': 0.11666666666666667}, 'rouge-2': {'f': 0.0681818137629135, 'p': 0.10344827586206896, 'r': 0.05084745762711865}, 'rouge-l': {'f': 0.18867924106799583, 'p': 0.3125, 'r': 0.13513513513513514}}, {'rouge-1': {'f': 0.22222221777777784, 'p': 0.3333333333333333, 'r': 0.16666666666666666}, 'rouge-2': {'f': 0.04545454103564093, 'p': 0.06896551724137931, 'r': 0.03389830508474576}, 'rouge-l': {'f': 0.19230768804733736, 'p': 0.3125, 'r': 0.1388888888888889}}, {'rouge-1': {'f': 0.17777777333333344, 'p': 0.26666666666666666, 'r': 0.13333333333333333}, 'rouge-2': {'f': 0.04545454103564093, 'p': 0.06896551724137931, 'r': 0.03389830508474576}, 'rouge-l': {'f': 0.15384614958579892, 'p': 0.25, 'r': 0.1111111111111111}}, {'rouge-1': {'f': 0.24444444000000004, 'p': 0.36666666666666664, 'r': 0.18333333333333332}, 'rouge-2': {'f': 0.04545454103564093, 'p': 0.06896551724137931, 'r': 0.03389830508474576}, 'rouge-l': {'f': 0.18867924106799583, 'p': 0.3125, 'r': 0.13513513513513514}}, {'rouge-1': {'f': 0.22222221777777784, 'p': 0.3333333333333333, 'r': 0.16666666666666666}, 'rouge-2': {'f': 0.0681818137629135, 'p': 0.10344827586206896, 'r': 0.05084745762711865}, 'rouge-l': {'f': 0.15686274079200319, 'p': 0.25, 'r': 0.11428571428571428}}, {'rouge-1': {'f': 0.15555555111111127, 'p': 0.23333333333333334, 'r': 0.11666666666666667}, 'rouge-2': {'f': 0.04545454103564093, 'p': 0.06896551724137931, 'r': 0.03389830508474576}, 'rouge-l': {'f': 0.14285713877551035, 'p': 0.25, 'r': 0.1}}]\n"
          ],
          "name": "stdout"
        }
      ]
    },
    {
      "cell_type": "code",
      "metadata": {
        "id": "zQFjbw0J6wFe"
      },
      "source": [
        "import csv\r\n",
        "\r\n",
        "with open('RougeScoreReport.csv', 'a') as file:\r\n",
        "     writer = csv.writer(file)\r\n",
        "     writer.writerow([\"Transcript\", \" \", \"Rouge-1\", \"  \", \"   \", \"Rouge-2\", \"    \", \"       \", \"Rouge-l\", \"          \"])\r\n",
        "     writer.writerow([\" \", \"f value\", \"p value\", \"r value\", \"f value\", \"p value\", \"r value\", \"f value\", \"p value\", \"r value\"])\r\n",
        "     no = 0;\r\n",
        "     for temp in rougeScores:\r\n",
        "       no +=1\r\n",
        "       writer.writerow([no, temp[\"rouge-1\"][\"f\"], temp[\"rouge-1\"][\"p\"], temp[\"rouge-1\"][\"r\"], temp[\"rouge-2\"][\"f\"], temp[\"rouge-2\"][\"p\"], temp[\"rouge-2\"][\"r\"], temp[\"rouge-l\"][\"f\"], temp[\"rouge-l\"][\"p\"], temp[\"rouge-l\"][\"r\"]])"
      ],
      "execution_count": null,
      "outputs": []
    },
    {
      "cell_type": "code",
      "metadata": {
        "colab": {
          "base_uri": "https://localhost:8080/",
          "height": 582
        },
        "id": "dS8ffajW61Sf",
        "outputId": "7d5e7c7b-745d-4094-fcd2-0c5e18dac34c"
      },
      "source": [
        "df = pd.read_csv(\"RougeScoreReport.csv\")\r\n",
        "blankIndex=[''] * len(df)\r\n",
        "df.index=blankIndex\r\n",
        "df"
      ],
      "execution_count": null,
      "outputs": [
        {
          "output_type": "execute_result",
          "data": {
            "text/html": [
              "<div>\n",
              "<style scoped>\n",
              "    .dataframe tbody tr th:only-of-type {\n",
              "        vertical-align: middle;\n",
              "    }\n",
              "\n",
              "    .dataframe tbody tr th {\n",
              "        vertical-align: top;\n",
              "    }\n",
              "\n",
              "    .dataframe thead th {\n",
              "        text-align: right;\n",
              "    }\n",
              "</style>\n",
              "<table border=\"1\" class=\"dataframe\">\n",
              "  <thead>\n",
              "    <tr style=\"text-align: right;\">\n",
              "      <th></th>\n",
              "      <th>Transcript</th>\n",
              "      <th></th>\n",
              "      <th>Rouge-1</th>\n",
              "      <th></th>\n",
              "      <th></th>\n",
              "      <th>Rouge-2</th>\n",
              "      <th></th>\n",
              "      <th></th>\n",
              "      <th>Rouge-l</th>\n",
              "      <th></th>\n",
              "    </tr>\n",
              "  </thead>\n",
              "  <tbody>\n",
              "    <tr>\n",
              "      <th></th>\n",
              "      <td></td>\n",
              "      <td>f value</td>\n",
              "      <td>p value</td>\n",
              "      <td>r value</td>\n",
              "      <td>f value</td>\n",
              "      <td>p value</td>\n",
              "      <td>r value</td>\n",
              "      <td>f value</td>\n",
              "      <td>p value</td>\n",
              "      <td>r value</td>\n",
              "    </tr>\n",
              "    <tr>\n",
              "      <th></th>\n",
              "      <td>1</td>\n",
              "      <td>0.22222221777777784</td>\n",
              "      <td>0.3333333333333333</td>\n",
              "      <td>0.16666666666666666</td>\n",
              "      <td>0.04545454103564093</td>\n",
              "      <td>0.06896551724137931</td>\n",
              "      <td>0.03389830508474576</td>\n",
              "      <td>0.1509433920113921</td>\n",
              "      <td>0.25</td>\n",
              "      <td>0.10810810810810811</td>\n",
              "    </tr>\n",
              "    <tr>\n",
              "      <th></th>\n",
              "      <td>2</td>\n",
              "      <td>0.15555555111111127</td>\n",
              "      <td>0.23333333333333334</td>\n",
              "      <td>0.11666666666666667</td>\n",
              "      <td>0.04545454103564093</td>\n",
              "      <td>0.06896551724137931</td>\n",
              "      <td>0.03389830508474576</td>\n",
              "      <td>0.17021276146672715</td>\n",
              "      <td>0.25</td>\n",
              "      <td>0.12903225806451613</td>\n",
              "    </tr>\n",
              "    <tr>\n",
              "      <th></th>\n",
              "      <td>3</td>\n",
              "      <td>0.17777777333333344</td>\n",
              "      <td>0.26666666666666666</td>\n",
              "      <td>0.13333333333333333</td>\n",
              "      <td>0.0681818137629135</td>\n",
              "      <td>0.10344827586206896</td>\n",
              "      <td>0.05084745762711865</td>\n",
              "      <td>0.15686274079200319</td>\n",
              "      <td>0.25</td>\n",
              "      <td>0.11428571428571428</td>\n",
              "    </tr>\n",
              "    <tr>\n",
              "      <th></th>\n",
              "      <td>4</td>\n",
              "      <td>0.13333332888888905</td>\n",
              "      <td>0.2</td>\n",
              "      <td>0.1</td>\n",
              "      <td>0.04545454103564093</td>\n",
              "      <td>0.06896551724137931</td>\n",
              "      <td>0.03389830508474576</td>\n",
              "      <td>0.15686274079200319</td>\n",
              "      <td>0.25</td>\n",
              "      <td>0.11428571428571428</td>\n",
              "    </tr>\n",
              "    <tr>\n",
              "      <th></th>\n",
              "      <td>5</td>\n",
              "      <td>0.15555555111111127</td>\n",
              "      <td>0.23333333333333334</td>\n",
              "      <td>0.11666666666666667</td>\n",
              "      <td>0.0681818137629135</td>\n",
              "      <td>0.10344827586206896</td>\n",
              "      <td>0.05084745762711865</td>\n",
              "      <td>0.1509433920113921</td>\n",
              "      <td>0.25</td>\n",
              "      <td>0.10810810810810811</td>\n",
              "    </tr>\n",
              "    <tr>\n",
              "      <th></th>\n",
              "      <td>6</td>\n",
              "      <td>0.15555555111111127</td>\n",
              "      <td>0.23333333333333334</td>\n",
              "      <td>0.11666666666666667</td>\n",
              "      <td>0.04545454103564093</td>\n",
              "      <td>0.06896551724137931</td>\n",
              "      <td>0.03389830508474576</td>\n",
              "      <td>0.15686274079200319</td>\n",
              "      <td>0.25</td>\n",
              "      <td>0.11428571428571428</td>\n",
              "    </tr>\n",
              "    <tr>\n",
              "      <th></th>\n",
              "      <td>7</td>\n",
              "      <td>0.19999999555555567</td>\n",
              "      <td>0.3</td>\n",
              "      <td>0.15</td>\n",
              "      <td>0.04545454103564093</td>\n",
              "      <td>0.06896551724137931</td>\n",
              "      <td>0.03389830508474576</td>\n",
              "      <td>0.15686274079200319</td>\n",
              "      <td>0.25</td>\n",
              "      <td>0.11428571428571428</td>\n",
              "    </tr>\n",
              "    <tr>\n",
              "      <th></th>\n",
              "      <td>8</td>\n",
              "      <td>0.17777777333333344</td>\n",
              "      <td>0.26666666666666666</td>\n",
              "      <td>0.13333333333333333</td>\n",
              "      <td>0.04545454103564093</td>\n",
              "      <td>0.06896551724137931</td>\n",
              "      <td>0.03389830508474576</td>\n",
              "      <td>0.14814814397805223</td>\n",
              "      <td>0.25</td>\n",
              "      <td>0.10526315789473684</td>\n",
              "    </tr>\n",
              "    <tr>\n",
              "      <th></th>\n",
              "      <td>9</td>\n",
              "      <td>0.22222221777777784</td>\n",
              "      <td>0.3333333333333333</td>\n",
              "      <td>0.16666666666666666</td>\n",
              "      <td>0.04545454103564093</td>\n",
              "      <td>0.06896551724137931</td>\n",
              "      <td>0.03389830508474576</td>\n",
              "      <td>0.15384614958579892</td>\n",
              "      <td>0.25</td>\n",
              "      <td>0.1111111111111111</td>\n",
              "    </tr>\n",
              "    <tr>\n",
              "      <th></th>\n",
              "      <td>10</td>\n",
              "      <td>0.15555555111111127</td>\n",
              "      <td>0.23333333333333334</td>\n",
              "      <td>0.11666666666666667</td>\n",
              "      <td>0.0681818137629135</td>\n",
              "      <td>0.10344827586206896</td>\n",
              "      <td>0.05084745762711865</td>\n",
              "      <td>0.18867924106799583</td>\n",
              "      <td>0.3125</td>\n",
              "      <td>0.13513513513513514</td>\n",
              "    </tr>\n",
              "    <tr>\n",
              "      <th></th>\n",
              "      <td>11</td>\n",
              "      <td>0.22222221777777784</td>\n",
              "      <td>0.3333333333333333</td>\n",
              "      <td>0.16666666666666666</td>\n",
              "      <td>0.04545454103564093</td>\n",
              "      <td>0.06896551724137931</td>\n",
              "      <td>0.03389830508474576</td>\n",
              "      <td>0.19230768804733736</td>\n",
              "      <td>0.3125</td>\n",
              "      <td>0.1388888888888889</td>\n",
              "    </tr>\n",
              "    <tr>\n",
              "      <th></th>\n",
              "      <td>12</td>\n",
              "      <td>0.17777777333333344</td>\n",
              "      <td>0.26666666666666666</td>\n",
              "      <td>0.13333333333333333</td>\n",
              "      <td>0.04545454103564093</td>\n",
              "      <td>0.06896551724137931</td>\n",
              "      <td>0.03389830508474576</td>\n",
              "      <td>0.15384614958579892</td>\n",
              "      <td>0.25</td>\n",
              "      <td>0.1111111111111111</td>\n",
              "    </tr>\n",
              "    <tr>\n",
              "      <th></th>\n",
              "      <td>13</td>\n",
              "      <td>0.24444444000000004</td>\n",
              "      <td>0.36666666666666664</td>\n",
              "      <td>0.18333333333333332</td>\n",
              "      <td>0.04545454103564093</td>\n",
              "      <td>0.06896551724137931</td>\n",
              "      <td>0.03389830508474576</td>\n",
              "      <td>0.18867924106799583</td>\n",
              "      <td>0.3125</td>\n",
              "      <td>0.13513513513513514</td>\n",
              "    </tr>\n",
              "    <tr>\n",
              "      <th></th>\n",
              "      <td>14</td>\n",
              "      <td>0.22222221777777784</td>\n",
              "      <td>0.3333333333333333</td>\n",
              "      <td>0.16666666666666666</td>\n",
              "      <td>0.0681818137629135</td>\n",
              "      <td>0.10344827586206896</td>\n",
              "      <td>0.05084745762711865</td>\n",
              "      <td>0.15686274079200319</td>\n",
              "      <td>0.25</td>\n",
              "      <td>0.11428571428571428</td>\n",
              "    </tr>\n",
              "    <tr>\n",
              "      <th></th>\n",
              "      <td>15</td>\n",
              "      <td>0.15555555111111127</td>\n",
              "      <td>0.23333333333333334</td>\n",
              "      <td>0.11666666666666667</td>\n",
              "      <td>0.04545454103564093</td>\n",
              "      <td>0.06896551724137931</td>\n",
              "      <td>0.03389830508474576</td>\n",
              "      <td>0.14285713877551035</td>\n",
              "      <td>0.25</td>\n",
              "      <td>0.1</td>\n",
              "    </tr>\n",
              "  </tbody>\n",
              "</table>\n",
              "</div>"
            ],
            "text/plain": [
              " Transcript                       ...  Rouge-l                     \n",
              "                         f value  ...  p value              r value\n",
              "          1  0.22222221777777784  ...     0.25  0.10810810810810811\n",
              "          2  0.15555555111111127  ...     0.25  0.12903225806451613\n",
              "          3  0.17777777333333344  ...     0.25  0.11428571428571428\n",
              "          4  0.13333332888888905  ...     0.25  0.11428571428571428\n",
              "          5  0.15555555111111127  ...     0.25  0.10810810810810811\n",
              "          6  0.15555555111111127  ...     0.25  0.11428571428571428\n",
              "          7  0.19999999555555567  ...     0.25  0.11428571428571428\n",
              "          8  0.17777777333333344  ...     0.25  0.10526315789473684\n",
              "          9  0.22222221777777784  ...     0.25   0.1111111111111111\n",
              "         10  0.15555555111111127  ...   0.3125  0.13513513513513514\n",
              "         11  0.22222221777777784  ...   0.3125   0.1388888888888889\n",
              "         12  0.17777777333333344  ...     0.25   0.1111111111111111\n",
              "         13  0.24444444000000004  ...   0.3125  0.13513513513513514\n",
              "         14  0.22222221777777784  ...     0.25  0.11428571428571428\n",
              "         15  0.15555555111111127  ...     0.25                  0.1\n",
              "\n",
              "[16 rows x 10 columns]"
            ]
          },
          "metadata": {
            "tags": []
          },
          "execution_count": 44
        }
      ]
    }
  ]
}